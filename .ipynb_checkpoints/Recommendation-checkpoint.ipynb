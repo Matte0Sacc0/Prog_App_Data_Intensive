{
 "cells": [
  {
   "cell_type": "code",
   "execution_count": 29,
   "id": "ec8298f8",
   "metadata": {},
   "outputs": [],
   "source": [
    "import numpy as np\n",
    "import numpy.linalg as nla\n",
    "\n",
    "item_1 = [3,4,3,1]\n",
    "item_4 = [3,3,5,2]\n",
    "item_5 = [3,5,4,1]\n",
    "\n",
    "def sim_cos(a,b):\n",
    "    return np.dot(a,b)/(nla.norm(a)*nla.norm(b))"
   ]
  },
  {
   "cell_type": "code",
   "execution_count": 30,
   "id": "a40db74d",
   "metadata": {},
   "outputs": [],
   "source": [
    "sim_51 = sim_cos(item_5, item_1)"
   ]
  },
  {
   "cell_type": "code",
   "execution_count": 31,
   "id": "12eaea1b",
   "metadata": {},
   "outputs": [],
   "source": [
    "sim_54 = sim_cos(item_5, item_4)"
   ]
  },
  {
   "cell_type": "code",
   "execution_count": 32,
   "id": "34760467",
   "metadata": {},
   "outputs": [
    {
     "data": {
      "text/plain": [
       "4.5141032559718095"
      ]
     },
     "execution_count": 32,
     "metadata": {},
     "output_type": "execute_result"
    }
   ],
   "source": [
    "rev_carl = np.array([5,4])\n",
    "sim = np.array([sim_51, sim_54])\n",
    "np.sum((sim * rev_carl)) / np.sum(sim)"
   ]
  },
  {
   "cell_type": "code",
   "execution_count": 33,
   "id": "a5528baf",
   "metadata": {},
   "outputs": [
    {
     "data": {
      "text/plain": [
       "4.5141032559718095"
      ]
     },
     "execution_count": 33,
     "metadata": {},
     "output_type": "execute_result"
    }
   ],
   "source": [
    "# con zip si crea una lista di tuple \n",
    "np.sum([a*b for a,b in zip(sim, rev_carl)]) / np.sum(sim)"
   ]
  },
  {
   "cell_type": "code",
   "execution_count": null,
   "id": "70b38050",
   "metadata": {},
   "outputs": [],
   "source": []
  }
 ],
 "metadata": {
  "kernelspec": {
   "display_name": "Python 3",
   "language": "python",
   "name": "python3"
  },
  "language_info": {
   "codemirror_mode": {
    "name": "ipython",
    "version": 3
   },
   "file_extension": ".py",
   "mimetype": "text/x-python",
   "name": "python",
   "nbconvert_exporter": "python",
   "pygments_lexer": "ipython3",
   "version": "3.9.6"
  }
 },
 "nbformat": 4,
 "nbformat_minor": 5
}
