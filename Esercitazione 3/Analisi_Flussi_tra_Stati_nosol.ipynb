{
  "nbformat": 4,
  "nbformat_minor": 0,
  "metadata": {
    "colab": {
      "name": "Copia di Analisi_Flussi_tra_Stati.nosol.ipynb",
      "provenance": [],
      "collapsed_sections": [
        "YtZYI0oZoT5w",
        "QSB8o4YcoT5w",
        "pzXYafDjoT5y",
        "YIjdyNSpoT5z",
        "0-ngsSVNoT50",
        "iPQsb67ioT53",
        "MSES9BpVoT53",
        "oZmectIcoT56",
        "zPEQHAvXoT57",
        "ggOkGFsmoT59",
        "qhSxtBPNoT5_",
        "-RCmjQH4oT5_",
        "8dbuV97joT6A",
        "jA-kS_ngoT6E",
        "xgOcJDTsoT6G",
        "aZLVjuv0oT6L",
        "0P-9GMeroT6L",
        "lwC_1i8_oT6P"
      ],
      "toc_visible": true
    },
    "kernelspec": {
      "name": "python3",
      "display_name": "Python 3"
    }
  },
  "cells": [
    {
      "cell_type": "markdown",
      "metadata": {
        "id": "1dBQi62JoT5a"
      },
      "source": [
        "# Laboratorio: Analisi Flussi di Popolazione con pandas\n",
        "\n",
        "**Programmazione di Applicazioni Data Intensive**  \n",
        "Laurea in Ingegneria e Scienze Informatiche  \n",
        "DISI - Università di Bologna, Cesena\n",
        "\n",
        "Proff. Gianluca Moro, Roberto Pasolini  \n",
        "`nome.cognome@unibo.it`"
      ]
    },
    {
      "cell_type": "code",
      "metadata": {
        "id": "VGsjZkZUoT5i"
      },
      "source": [
        "# test librerie\n",
        "import numpy\n",
        "import pandas"
      ],
      "execution_count": null,
      "outputs": []
    },
    {
      "cell_type": "markdown",
      "metadata": {
        "id": "ONaL3xT9oT5j"
      },
      "source": [
        "## Caso di studio: Analisi flussi tra stati USA\n",
        "\n",
        "- L'ufficio del censimento degli Stati Uniti d'America pubblica annualmente un riepilogo dei flussi della popolazione tra stati\n",
        "- I dataset per ogni anno in formato XLS (Excel) possono essere reperiti alla pagina https://www.census.gov/data/tables/time-series/demo/geographic-mobility/state-to-state-migration.html\n",
        "- In questa esercitazione, lavoriamo sui dati dei flussi tra gli stati relativi al 2016\n",
        "- Eseguire la seguente cella per scaricare il file con i dati dell'esercitazione, se non presente"
      ]
    },
    {
      "cell_type": "code",
      "metadata": {
        "id": "dShv9Kq-oT5k"
      },
      "source": [
        "import os.path\n",
        "if not os.path.exists(\"usa_census.npz\"):\n",
        "    from urllib.request import urlretrieve\n",
        "    urlretrieve(\"https://git.io/vxh8Y\", \"usa_census.npz\")"
      ],
      "execution_count": null,
      "outputs": []
    },
    {
      "cell_type": "markdown",
      "metadata": {
        "id": "19r-Jc8DoT5k"
      },
      "source": [
        "## Caricamento dei dati\n",
        "\n",
        "- Abbiamo raccolto i dati da analizzare in un _archivio NumPy_, un file contenente un insieme di array con nomi associati\n",
        "- Usiamo la funzione `load` di NumPy per caricarlo\n",
        "  - `allow_pickle=True` abilita il caricamento di oggetti Python arbitrari, in questo caso serve per le stringhe con i nomi degli stati, **usarlo solo su file da fonti fidate!**"
      ]
    },
    {
      "cell_type": "code",
      "metadata": {
        "id": "zPnRC6e0oT5l"
      },
      "source": [
        "import numpy as np\n",
        "data = np.load(\"usa_census.npz\", allow_pickle=True)"
      ],
      "execution_count": null,
      "outputs": []
    },
    {
      "cell_type": "markdown",
      "metadata": {
        "id": "F4ASpVOmoT5l"
      },
      "source": [
        "- L'oggetto `data` ottenuto è simile ad un dizionario, i cui valori sono le matrici e le cui chiavi sono i loro nomi\n",
        "- Otteniamo una lista dei nomi delle matrici caricate"
      ]
    },
    {
      "cell_type": "code",
      "metadata": {
        "id": "BYiAT407oT5m",
        "colab": {
          "base_uri": "https://localhost:8080/"
        },
        "outputId": "1a1678e6-ecfa-40c2-f324-c62e3c4f865f"
      },
      "source": [
        "print(\", \".join(data.keys()))"
      ],
      "execution_count": null,
      "outputs": [
        {
          "output_type": "stream",
          "text": [
            "states, population, area, same_house, same_state, other_state, state_to_state, from_abroad\n"
          ],
          "name": "stdout"
        }
      ]
    },
    {
      "cell_type": "markdown",
      "metadata": {
        "id": "NQSKP3OJoT5o"
      },
      "source": [
        "## Dati disponibili\n",
        "\n",
        "I dati contenuti nel file sono i seguenti:\n",
        "- `states`: vettore con i nomi degli stati\n",
        "- `population`: vettore con la popolazione totale attuale di ogni stato\n",
        "- `area`: vettore con la superficie di terra di ciascuno stato in miglia quadrate\n",
        "- `same_house`: vettore con numero di abitanti per stato che non hanno cambiato residenza nell'ultimo anno\n",
        "- `same_state`: vettore con numero di abitanti per stato che hanno cambiato residenza nell'ultimo anno, ma non lo stato\n",
        "- `other_state`: vettore con numero di abitanti per stato che si sono trasferiti da un altro stato nell'ultimo anno\n",
        "- `state_to_state`: matrice col numero di abitanti trasferitisi nell'ultimo anno da ciascuno stato ad un altro\n",
        "- `from_abroad`: vettore con numero di abitanti per stato trasferitisi negli USA dall'estero nell'ultimo anno"
      ]
    },
    {
      "cell_type": "markdown",
      "metadata": {
        "id": "uhxfjEyOoT5o"
      },
      "source": [
        "- Possiamo stampare nome, tipo e forma di ciascun array"
      ]
    },
    {
      "cell_type": "code",
      "metadata": {
        "id": "RAvalagIoT5p",
        "colab": {
          "base_uri": "https://localhost:8080/"
        },
        "outputId": "9c80c83f-672b-4a4f-8907-4accf7a5d635"
      },
      "source": [
        "# modo semplice: passo i valori a print che li separa con uno spazio\n",
        "for name, array in data.items():\n",
        "    print(name, array.dtype, array.shape)"
      ],
      "execution_count": null,
      "outputs": [
        {
          "output_type": "stream",
          "text": [
            "states object (51,)\n",
            "population int64 (51,)\n",
            "area float64 (51,)\n",
            "same_house int64 (51,)\n",
            "same_state int64 (51,)\n",
            "other_state int64 (51,)\n",
            "state_to_state int64 (51, 51)\n",
            "from_abroad int64 (51,)\n"
          ],
          "name": "stdout"
        }
      ]
    },
    {
      "cell_type": "code",
      "metadata": {
        "id": "BmcASq_-oT5q",
        "colab": {
          "base_uri": "https://localhost:8080/"
        },
        "outputId": "b5ff2ca0-1cb9-4375-fa56-7e45b0143d73"
      },
      "source": [
        "# per maggiore leggibilità posso usare una f-string\n",
        "for name, array in data.items():\n",
        "    print(f\"{name:>15}: {array.dtype!s:>8} {array.shape}\")"
      ],
      "execution_count": null,
      "outputs": [
        {
          "output_type": "stream",
          "text": [
            "         states:   object (51,)\n",
            "     population:    int64 (51,)\n",
            "           area:  float64 (51,)\n",
            "     same_house:    int64 (51,)\n",
            "     same_state:    int64 (51,)\n",
            "    other_state:    int64 (51,)\n",
            " state_to_state:    int64 (51, 51)\n",
            "    from_abroad:    int64 (51,)\n"
          ],
          "name": "stdout"
        }
      ]
    },
    {
      "cell_type": "markdown",
      "metadata": {
        "id": "MceOlQt9oT5s"
      },
      "source": [
        "- Vediamo ad esempio l'array con i nomi degli stati, che sono in ordine alfabetico"
      ]
    },
    {
      "cell_type": "code",
      "metadata": {
        "id": "CoL9X3DroT5s",
        "colab": {
          "base_uri": "https://localhost:8080/"
        },
        "outputId": "c12f281d-10c6-4abc-9e03-643716375c8a"
      },
      "source": [
        "data[\"states\"]"
      ],
      "execution_count": null,
      "outputs": [
        {
          "output_type": "execute_result",
          "data": {
            "text/plain": [
              "array(['Alabama', 'Alaska', 'Arizona', 'Arkansas', 'California',\n",
              "       'Colorado', 'Connecticut', 'Delaware', 'District of Columbia',\n",
              "       'Florida', 'Georgia', 'Hawaii', 'Idaho', 'Illinois', 'Indiana',\n",
              "       'Iowa', 'Kansas', 'Kentucky', 'Louisiana', 'Maine', 'Maryland',\n",
              "       'Massachusetts', 'Michigan', 'Minnesota', 'Mississippi',\n",
              "       'Missouri', 'Montana', 'Nebraska', 'Nevada', 'New Hampshire',\n",
              "       'New Jersey', 'New Mexico', 'New York', 'North Carolina',\n",
              "       'North Dakota', 'Ohio', 'Oklahoma', 'Oregon', 'Pennsylvania',\n",
              "       'Rhode Island', 'South Carolina', 'South Dakota', 'Tennessee',\n",
              "       'Texas', 'Utah', 'Vermont', 'Virginia', 'Washington',\n",
              "       'West Virginia', 'Wisconsin', 'Wyoming'], dtype=object)"
            ]
          },
          "metadata": {
            "tags": []
          },
          "execution_count": 7
        }
      ]
    },
    {
      "cell_type": "markdown",
      "metadata": {
        "id": "GgUN34BIoT5t"
      },
      "source": [
        "- In tutti i vettori, i dati relativi ad uno stesso stato si trovano nella stessa posizione\n",
        "  - ad es. i dati relativi all'Alalbama si trovano nella posizione 0 di ciascun array (`population[0]`, `area[0]`, ...)"
      ]
    },
    {
      "cell_type": "markdown",
      "metadata": {
        "id": "eQofYs63oT5u"
      },
      "source": [
        "- Per comodità, eseguire il seguente codice per importare automaticamente tutti gli elementi di `data` come variabili locali\n",
        "  - la funzione `exec` esegue codice Python dato in una stringa **(può eseguire codice arbitrario, va usata con cautela!)**"
      ]
    },
    {
      "cell_type": "code",
      "metadata": {
        "id": "Zh_J7qh6oT5u"
      },
      "source": [
        "for key, value in data.items():\n",
        "    exec(key + \" = value\")"
      ],
      "execution_count": null,
      "outputs": []
    },
    {
      "cell_type": "markdown",
      "metadata": {
        "id": "AeqVw4ofoT5v"
      },
      "source": [
        "- In questo modo potremo usare ad es. `states` al posto di `data[\"states\"]`"
      ]
    },
    {
      "cell_type": "code",
      "metadata": {
        "id": "CTMTAmcGoT5v",
        "colab": {
          "base_uri": "https://localhost:8080/"
        },
        "outputId": "04ff395f-9e63-487a-ed27-5e8d4c70df50"
      },
      "source": [
        "states   [:5]"
      ],
      "execution_count": null,
      "outputs": [
        {
          "output_type": "execute_result",
          "data": {
            "text/plain": [
              "array(['Alabama', 'Alaska', 'Arizona', 'Arkansas', 'California'],\n",
              "      dtype=object)"
            ]
          },
          "metadata": {
            "tags": []
          },
          "execution_count": 9
        }
      ]
    },
    {
      "cell_type": "code",
      "metadata": {
        "id": "gM1qoW1ooT5w",
        "colab": {
          "base_uri": "https://localhost:8080/"
        },
        "outputId": "962e4e9b-8b53-46a4-83ac-1be666121a19"
      },
      "source": [
        "population   [:5]"
      ],
      "execution_count": null,
      "outputs": [
        {
          "output_type": "execute_result",
          "data": {
            "text/plain": [
              "array([ 4810126,   731760,  6851836,  2949650, 38783436])"
            ]
          },
          "metadata": {
            "tags": []
          },
          "execution_count": 10
        }
      ]
    },
    {
      "cell_type": "markdown",
      "metadata": {
        "id": "YtZYI0oZoT5w"
      },
      "source": [
        "## Esercizio 1: Ripasso NumPy\n",
        "\n",
        "Usando sugli array `states` e `population` le operazioni viste nello scorso laboratorio, estrarre:\n",
        "- **(1a)** il numero di abitanti del 5° stato in ordine alfabetico (California)\n",
        "- **(1b)** i nomi degli ultimi tre stati in ordine alfabetico\n",
        "- **(1c)** il numero di abitanti in Florida (senza sapere a priori la sua posizione)\n",
        "- **(1d)** i nomi degli stati con almeno 20 milioni di abitanti\n",
        "- **(1e)** il numero totale di abitanti in tutti gli stati\n",
        "- **(1f)** il nome dello stato con meno abitanti"
      ]
    },
    {
      "cell_type": "code",
      "metadata": {
        "id": "K8ke-91Oq96f",
        "colab": {
          "base_uri": "https://localhost:8080/"
        },
        "outputId": "8c1b1a92-9678-48e0-e226-9f4f13fcd267"
      },
      "source": [
        "population[states[4]] # population[4]"
      ],
      "execution_count": null,
      "outputs": [
        {
          "output_type": "execute_result",
          "data": {
            "text/plain": [
              "38783436"
            ]
          },
          "metadata": {
            "tags": []
          },
          "execution_count": 32
        }
      ]
    },
    {
      "cell_type": "code",
      "metadata": {
        "id": "JJqPWAiwrDPo",
        "colab": {
          "base_uri": "https://localhost:8080/"
        },
        "outputId": "aabc44bd-76e2-4bbe-ab14-e4541ea62f61"
      },
      "source": [
        "states[-3:]"
      ],
      "execution_count": null,
      "outputs": [
        {
          "output_type": "execute_result",
          "data": {
            "text/plain": [
              "array(['West Virginia', 'Wisconsin', 'Wyoming'], dtype=object)"
            ]
          },
          "metadata": {
            "tags": []
          },
          "execution_count": 22
        }
      ]
    },
    {
      "cell_type": "code",
      "metadata": {
        "id": "L-NPlUM8rz0j",
        "colab": {
          "base_uri": "https://localhost:8080/"
        },
        "outputId": "e32d88da-77a7-434d-f800-b40f30414227"
      },
      "source": [
        "population[states == 'Florida']"
      ],
      "execution_count": null,
      "outputs": [
        {
          "output_type": "execute_result",
          "data": {
            "text/plain": [
              "array([20401575])"
            ]
          },
          "metadata": {
            "tags": []
          },
          "execution_count": 23
        }
      ]
    },
    {
      "cell_type": "code",
      "metadata": {
        "id": "Qb-3vasbrHo9",
        "colab": {
          "base_uri": "https://localhost:8080/"
        },
        "outputId": "698d42b0-6521-47ae-a86f-13b23d357d51"
      },
      "source": [
        "states[population >= 20_000_000]"
      ],
      "execution_count": null,
      "outputs": [
        {
          "output_type": "execute_result",
          "data": {
            "text/plain": [
              "array(['California', 'Florida', 'Texas'], dtype=object)"
            ]
          },
          "metadata": {
            "tags": []
          },
          "execution_count": 24
        }
      ]
    },
    {
      "cell_type": "code",
      "metadata": {
        "id": "6TVgauBaraCk",
        "colab": {
          "base_uri": "https://localhost:8080/"
        },
        "outputId": "2534f688-1632-46ea-c691-3970c48f9cd8"
      },
      "source": [
        "population.sum() #np.sum(population) _ sum(population)"
      ],
      "execution_count": null,
      "outputs": [
        {
          "output_type": "execute_result",
          "data": {
            "text/plain": [
              "319361956"
            ]
          },
          "metadata": {
            "tags": []
          },
          "execution_count": 25
        }
      ]
    },
    {
      "cell_type": "code",
      "metadata": {
        "id": "VTxv3_Ksrq75",
        "colab": {
          "base_uri": "https://localhost:8080/",
          "height": 36
        },
        "outputId": "4d29d516-a5b5-4c84-99de-e48b5dfb7de9"
      },
      "source": [
        "states[population.argmin()]"
      ],
      "execution_count": null,
      "outputs": [
        {
          "output_type": "execute_result",
          "data": {
            "application/vnd.google.colaboratory.intrinsic+json": {
              "type": "string"
            },
            "text/plain": [
              "'Wyoming'"
            ]
          },
          "metadata": {
            "tags": []
          },
          "execution_count": 26
        }
      ]
    },
    {
      "cell_type": "markdown",
      "metadata": {
        "id": "QSB8o4YcoT5w"
      },
      "source": [
        "## pandas\n",
        "\n",
        "- **pandas** è una libreria Python di uso comune per lavorare con dati in forma tabulare\n",
        "- Definisce _serie_ e _data frame_, strutture dati simili agli array di NumPy ma dotate di _indici_ che etichettano i dati\n",
        "- Questo rende semplice reperire dati specifici, ad esempio la popolazione di uno stato data l'etichetta (il nome)\n",
        "- Iniziamo importando il package `pandas` con l'alias convenzionale `pd`"
      ]
    },
    {
      "cell_type": "code",
      "metadata": {
        "id": "AEbx_d2yoT5x"
      },
      "source": [
        "import pandas as pd"
      ],
      "execution_count": null,
      "outputs": []
    },
    {
      "cell_type": "markdown",
      "metadata": {
        "id": "pzXYafDjoT5y"
      },
      "source": [
        "## Serie\n",
        "\n",
        "- Una **_serie_** pandas è un vettore di valori simile ad un array 1D NumPy con un'etichetta associata a ciascuno\n",
        "- La sequenza di etichette costituisce l'_indice_ della serie, anch'esso un array 1D\n",
        "- Il costruttore `Series` permette di creare una serie di cui sono forniti i dati e l'indice (`index`) in due vettori di uguale lunghezza\n",
        "- Creiamo la serie `population` che sostituisca l'array con lo stesso nome\n",
        "  - i dati della serie sono contenuti nell'array stesso\n",
        "  - le etichette sono i nomi degli stati contenuti nell'array `states`"
      ]
    },
    {
      "cell_type": "code",
      "metadata": {
        "id": "0_S3nP9GoT5y"
      },
      "source": [
        "population = pd.Series(population, index=states)"
      ],
      "execution_count": null,
      "outputs": []
    },
    {
      "cell_type": "markdown",
      "metadata": {
        "id": "L8PPI3gyoT5y"
      },
      "source": [
        "- Visualizziamo la serie, utilizzando il metodo `head` per estrarne solo i primi N elementi"
      ]
    },
    {
      "cell_type": "code",
      "metadata": {
        "id": "iktlNmN_oT5z",
        "colab": {
          "base_uri": "https://localhost:8080/"
        },
        "outputId": "6c8413cd-fb89-4dae-b09b-630a37efd7e5"
      },
      "source": [
        "population.head(7)"
      ],
      "execution_count": null,
      "outputs": [
        {
          "output_type": "execute_result",
          "data": {
            "text/plain": [
              "Alabama         4810126\n",
              "Alaska           731760\n",
              "Arizona         6851836\n",
              "Arkansas        2949650\n",
              "California     38783436\n",
              "Colorado        5476928\n",
              "Connecticut     3541758\n",
              "dtype: int64"
            ]
          },
          "metadata": {
            "tags": []
          },
          "execution_count": 30
        }
      ]
    },
    {
      "cell_type": "markdown",
      "metadata": {
        "id": "nv-2frmAoT5z"
      },
      "source": [
        "- Sulla sinistra vediamo le **etichette** che formano l'indice: i nomi degli stati\n",
        "- Sulla destra vediamo i **valori**: la popolazione di ciascuno stato\n",
        "- In fondo vediamo il datatype dei valori (numeri interi)"
      ]
    },
    {
      "cell_type": "markdown",
      "metadata": {
        "id": "YIjdyNSpoT5z"
      },
      "source": [
        "## Attributi di base di una serie\n",
        "\n",
        "- Una serie è composta dai dati e dalle etichette: gli attributi `values` e `index` restituiscono questi elementi in forma di vettori"
      ]
    },
    {
      "cell_type": "code",
      "metadata": {
        "id": "BjQyLlo0oT5z",
        "colab": {
          "base_uri": "https://localhost:8080/"
        },
        "outputId": "6595af6e-5845-49a5-c240-d0c596c436a4"
      },
      "source": [
        "population.values   [:5]"
      ],
      "execution_count": null,
      "outputs": [
        {
          "output_type": "execute_result",
          "data": {
            "text/plain": [
              "array([ 4810126,   731760,  6851836,  2949650, 38783436])"
            ]
          },
          "metadata": {
            "tags": []
          },
          "execution_count": 33
        }
      ]
    },
    {
      "cell_type": "code",
      "metadata": {
        "id": "95911ExkoT5z",
        "colab": {
          "base_uri": "https://localhost:8080/"
        },
        "outputId": "1ad30258-ce96-4bed-e469-3ac5cc2ee873"
      },
      "source": [
        "population.index    [:5]"
      ],
      "execution_count": null,
      "outputs": [
        {
          "output_type": "execute_result",
          "data": {
            "text/plain": [
              "Index(['Alabama', 'Alaska', 'Arizona', 'Arkansas', 'California'], dtype='object')"
            ]
          },
          "metadata": {
            "tags": []
          },
          "execution_count": 34
        }
      ]
    },
    {
      "cell_type": "markdown",
      "metadata": {
        "id": "IHDOIr15oT50"
      },
      "source": [
        "- Il numero di elementi totale si può ottenere con la funzione `len` di Python o (per analogia con gli array) con l'attributo `size`"
      ]
    },
    {
      "cell_type": "code",
      "metadata": {
        "id": "jjuTaV47oT50",
        "colab": {
          "base_uri": "https://localhost:8080/"
        },
        "outputId": "df2e4bc3-a377-4a0f-f243-d7fbc484c59e"
      },
      "source": [
        "len(population)\n",
        "# oppure\n",
        "population.size"
      ],
      "execution_count": null,
      "outputs": [
        {
          "output_type": "execute_result",
          "data": {
            "text/plain": [
              "51"
            ]
          },
          "metadata": {
            "tags": []
          },
          "execution_count": 35
        }
      ]
    },
    {
      "cell_type": "markdown",
      "metadata": {
        "id": "0-ngsSVNoT50"
      },
      "source": [
        "## Selezionare dati da una serie\n",
        "\n",
        "- Le serie supportano in pratica le stesse tecniche di selezione degli array, ma usando le **etichette al posto degli indici numerici**\n",
        "- Per cui ad es. per ottenere la popolazione della California si scrive semplicemente:"
      ]
    },
    {
      "cell_type": "code",
      "metadata": {
        "id": "OFzFBwNXoT50",
        "colab": {
          "base_uri": "https://localhost:8080/"
        },
        "outputId": "4b979a8d-5fa7-469b-b97b-8dfe422b2df6"
      },
      "source": [
        "population[\"California\"]"
      ],
      "execution_count": null,
      "outputs": [
        {
          "output_type": "execute_result",
          "data": {
            "text/plain": [
              "38783436"
            ]
          },
          "metadata": {
            "tags": []
          },
          "execution_count": 36
        }
      ]
    },
    {
      "cell_type": "markdown",
      "metadata": {
        "id": "uFXJJQRxoT51"
      },
      "source": [
        "- Se si seleziona un'etichetta inesistente, si ha un `KeyError` come per i dizionari `{...}`"
      ]
    },
    {
      "cell_type": "markdown",
      "metadata": {
        "id": "b-4tws7NoT51"
      },
      "source": [
        "- Si può selezionare un intervallo tra due etichette\n",
        "  - sono **inclusi entrambi gli estremi**, a differenza di altre strutture dati"
      ]
    },
    {
      "cell_type": "code",
      "metadata": {
        "id": "xA-ucxKXoT52",
        "colab": {
          "base_uri": "https://localhost:8080/"
        },
        "outputId": "4bc2bc70-1c25-446c-89fa-eb848f119fc6"
      },
      "source": [
        "population[\"Arizona\":\"Colorado\"]"
      ],
      "execution_count": null,
      "outputs": [
        {
          "output_type": "execute_result",
          "data": {
            "text/plain": [
              "Arizona        6851836\n",
              "Arkansas       2949650\n",
              "California    38783436\n",
              "Colorado       5476928\n",
              "dtype: int64"
            ]
          },
          "metadata": {
            "tags": []
          },
          "execution_count": 37
        }
      ]
    },
    {
      "cell_type": "markdown",
      "metadata": {
        "id": "BJgnlPHmoT52"
      },
      "source": [
        "- Gli estremi dell'intervallo _A:B_ possono non esistere, vengono comunque presi gli elementi inclusi con _A <= etichetta <= B_\n",
        "  - funziona se le etichette sono disposte in ordine, altrimenti si ha errore!\n",
        "- Ad es. per selezionare gli stati con iniziali da S a U (incluse) selezioniamo le etichette nell'intervallo `\"S\":\"V\"`\n",
        "  - con `\"S\":\"U\"` verrebbe escluso \"Utah\" perché viene dopo \"U\""
      ]
    },
    {
      "cell_type": "code",
      "metadata": {
        "id": "8bNj4s54oT52",
        "colab": {
          "base_uri": "https://localhost:8080/"
        },
        "outputId": "e1c4ab5c-2a17-40dc-8c05-686c0db9fdc6"
      },
      "source": [
        "population[\"S\":\"V\"]"
      ],
      "execution_count": null,
      "outputs": [
        {
          "output_type": "execute_result",
          "data": {
            "text/plain": [
              "South Carolina     4903788\n",
              "South Dakota        853832\n",
              "Tennessee          6580953\n",
              "Texas             27472626\n",
              "Utah               3002244\n",
              "dtype: int64"
            ]
          },
          "metadata": {
            "tags": []
          },
          "execution_count": 38
        }
      ]
    },
    {
      "cell_type": "markdown",
      "metadata": {
        "id": "5EK033pDoT53"
      },
      "source": [
        "- Si può selezionare un sottoinsieme della serie indicando una lista di etichette"
      ]
    },
    {
      "cell_type": "code",
      "metadata": {
        "id": "lZPDs6QPoT53"
      },
      "source": [
        "# lista di stati della costa ovest\n",
        "west_coast = [\"Washington\", \"Oregon\", \"California\"]"
      ],
      "execution_count": null,
      "outputs": []
    },
    {
      "cell_type": "code",
      "metadata": {
        "id": "95ysduSeoT53",
        "colab": {
          "base_uri": "https://localhost:8080/"
        },
        "outputId": "dcb26e27-717a-4ac1-9e12-54469d3d3cdf"
      },
      "source": [
        "# popolazione stati della costa ovest\n",
        "population[west_coast]"
      ],
      "execution_count": null,
      "outputs": [
        {
          "output_type": "execute_result",
          "data": {
            "text/plain": [
              "Washington     7202119\n",
              "Oregon         4052221\n",
              "California    38783436\n",
              "dtype: int64"
            ]
          },
          "metadata": {
            "tags": []
          },
          "execution_count": 40
        }
      ]
    },
    {
      "cell_type": "markdown",
      "metadata": {
        "id": "iPQsb67ioT53"
      },
      "source": [
        "## Creazione delle altre serie\n",
        "\n",
        "- Creiamo una serie per ciascuno degli altri vettori di dati, utilizzando sempre il vettore di nomi degli Stati `states` come indice\n",
        "  - _(se servissero, gli array originali rimangono disponibili nell'oggetto `data`)_"
      ]
    },
    {
      "cell_type": "code",
      "metadata": {
        "id": "yJR7Ul54oT53"
      },
      "source": [
        "area        = pd.Series(area,        index=states)\n",
        "same_house  = pd.Series(same_house,  index=states)\n",
        "same_state  = pd.Series(same_state,  index=states)\n",
        "other_state = pd.Series(other_state, index=states)\n",
        "from_abroad = pd.Series(from_abroad, index=states)"
      ],
      "execution_count": null,
      "outputs": []
    },
    {
      "cell_type": "markdown",
      "metadata": {
        "id": "MSES9BpVoT53"
      },
      "source": [
        "## Operazioni tra serie\n",
        "\n",
        "- Come per gli array, è possibile effettuare operazioni elemento per elemento tra due serie o tra una serie ed un valore singolo\n",
        "- Si possono utilizzare operazioni binarie (`+`, `*`, ...) e funzioni universali di NumPy (`np.log`, ...)\n",
        "- Nel caso di due serie, le operazioni sono applicate **tra elementi di uguale etichetta** (indipendentemente dalla posizione!)\n",
        "  - la serie risultante avrà valori mancanti (NA) in corrispondenza di etichette presenti in un solo operando"
      ]
    },
    {
      "cell_type": "markdown",
      "metadata": {
        "id": "wksa2rEMoT53"
      },
      "source": [
        "- Ad es. per ottenere la popolazione in milioni di abitanti"
      ]
    },
    {
      "cell_type": "code",
      "metadata": {
        "id": "YFix0RAMoT54",
        "colab": {
          "base_uri": "https://localhost:8080/"
        },
        "outputId": "18062416-15d3-4942-bd10-9270db41ba12"
      },
      "source": [
        "(population / 1_000_000)    .head(3)"
      ],
      "execution_count": null,
      "outputs": [
        {
          "output_type": "execute_result",
          "data": {
            "text/plain": [
              "Alabama    4.810126\n",
              "Alaska     0.731760\n",
              "Arizona    6.851836\n",
              "dtype: float64"
            ]
          },
          "metadata": {
            "tags": []
          },
          "execution_count": 52
        }
      ]
    },
    {
      "cell_type": "markdown",
      "metadata": {
        "id": "7sdXgf0SoT55"
      },
      "source": [
        "- Per ottenere il logaritmo in base 10 della popolazione (ad es. per creare un grafico in tale scala):"
      ]
    },
    {
      "cell_type": "code",
      "metadata": {
        "id": "ZOA11B6QoT55",
        "colab": {
          "base_uri": "https://localhost:8080/"
        },
        "outputId": "d2ea1ca7-f440-4632-dc47-52e18bce475f"
      },
      "source": [
        "np.log10(population)   .head(3)"
      ],
      "execution_count": null,
      "outputs": [
        {
          "output_type": "execute_result",
          "data": {
            "text/plain": [
              "Alabama    6.682156\n",
              "Alaska     5.864369\n",
              "Arizona    6.835807\n",
              "dtype: float64"
            ]
          },
          "metadata": {
            "tags": []
          },
          "execution_count": 53
        }
      ]
    },
    {
      "cell_type": "markdown",
      "metadata": {
        "id": "oZmectIcoT56"
      },
      "source": [
        "## Esercizio 2: Operazioni tra serie\n",
        "\n",
        "- **(2a)** La serie `area` riporta la superficie degli stati in miglia quadrate: ricavare una serie `area_km2` con la superficie in chilometri quadrati (1 mi² = 2,59 km²)\n",
        "- **(2b)** Creare una serie `density` con la densità di popolazione di ciascuno stato in abitanti per km²"
      ]
    },
    {
      "cell_type": "code",
      "metadata": {
        "id": "szTHMOiWoT56"
      },
      "source": [
        "area_km2 = pd.Series( (area * 2.59) , index = states)"
      ],
      "execution_count": null,
      "outputs": []
    },
    {
      "cell_type": "code",
      "metadata": {
        "id": "JKTDcteuoT57"
      },
      "source": [
        "density = pd.Series( (population / area_km2) , index = states)"
      ],
      "execution_count": null,
      "outputs": []
    },
    {
      "cell_type": "markdown",
      "metadata": {
        "id": "zPEQHAvXoT57"
      },
      "source": [
        "## Serie booleane e selezione per condizioni\n",
        "\n",
        "- Applicando una comparazione ad una serie, si ottiene una serie di valori booleani\n",
        "- Ad esempio, per ottenere la serie che associa `True` agli stati non più grandi di 5.000 miglia quadrate:"
      ]
    },
    {
      "cell_type": "code",
      "metadata": {
        "id": "V1nefXAloT57",
        "colab": {
          "base_uri": "https://localhost:8080/"
        },
        "outputId": "805fcecd-465d-4637-cffe-b2197dea68d4"
      },
      "source": [
        "is_small = area <= 5000\n",
        "is_small.head(10)"
      ],
      "execution_count": null,
      "outputs": [
        {
          "output_type": "execute_result",
          "data": {
            "text/plain": [
              "Alabama                 False\n",
              "Alaska                  False\n",
              "Arizona                 False\n",
              "Arkansas                False\n",
              "California              False\n",
              "Colorado                False\n",
              "Connecticut              True\n",
              "Delaware                 True\n",
              "District of Columbia     True\n",
              "Florida                 False\n",
              "dtype: bool"
            ]
          },
          "metadata": {
            "tags": []
          },
          "execution_count": 56
        }
      ]
    },
    {
      "cell_type": "markdown",
      "metadata": {
        "id": "KzIJCon9oT57"
      },
      "source": [
        "- Come per gli array, una serie booleana può essere usata per selezionare solamente alcuni elementi di una serie di dati\n",
        "  - sono selezionati solamente gli elementi alla cui etichetta nella serie booleana è associato `True`\n",
        "- Ad esempio, per mostrare la superficie dei soli stati piccoli individuati sopra:"
      ]
    },
    {
      "cell_type": "code",
      "metadata": {
        "id": "7__S5_FhoT57",
        "colab": {
          "base_uri": "https://localhost:8080/"
        },
        "outputId": "aa74a4c2-8aaa-4995-bbae-2c7550358d6d"
      },
      "source": [
        "area[area <= 5000]\n",
        "# o anche: area[is_small]"
      ],
      "execution_count": null,
      "outputs": [
        {
          "output_type": "execute_result",
          "data": {
            "text/plain": [
              "Connecticut             4842.36\n",
              "Delaware                1948.54\n",
              "District of Columbia      61.05\n",
              "Rhode Island            1033.81\n",
              "dtype: float64"
            ]
          },
          "metadata": {
            "tags": []
          },
          "execution_count": 57
        }
      ]
    },
    {
      "cell_type": "markdown",
      "metadata": {
        "id": "tx_NksTaoT57"
      },
      "source": [
        "- La serie da cui sono selezionati i dati e quella usata come condizione possono anche differire..."
      ]
    },
    {
      "cell_type": "code",
      "metadata": {
        "id": "Iw5Imw8voT57",
        "colab": {
          "base_uri": "https://localhost:8080/"
        },
        "outputId": "7bee867b-cd5a-4b87-8b2c-ef6e748f2a9f"
      },
      "source": [
        "# popolazione degli stati piccoli\n",
        "population[area <= 5000]"
      ],
      "execution_count": null,
      "outputs": [
        {
          "output_type": "execute_result",
          "data": {
            "text/plain": [
              "Connecticut             3541758\n",
              "Delaware                 942073\n",
              "District of Columbia     672022\n",
              "Rhode Island            1045691\n",
              "dtype: int64"
            ]
          },
          "metadata": {
            "tags": []
          },
          "execution_count": 58
        }
      ]
    },
    {
      "cell_type": "markdown",
      "metadata": {
        "id": "FtvoD3ECoT58"
      },
      "source": [
        "- Possiamo combinare serie booleane con gli operatori `&` (AND), `|` (OR), `^` (XOR), `~` (NOT)\n",
        "  - tali operatori hanno normalmente priorità superiore alle comparazioni (`>`, `<=`, ...), **usare le parentesi** per evitare errori"
      ]
    },
    {
      "cell_type": "code",
      "metadata": {
        "id": "aq3T7I-AoT59",
        "colab": {
          "base_uri": "https://localhost:8080/"
        },
        "outputId": "92138aff-2854-47e3-9729-eca22521a96a"
      },
      "source": [
        "# stati piccoli con più di un milione di abitanti\n",
        "population[(population >= 1_000_000) & (area <= 5000)]\n",
        "# population[(population >= 1_000_000) & is_small]"
      ],
      "execution_count": null,
      "outputs": [
        {
          "output_type": "execute_result",
          "data": {
            "text/plain": [
              "Connecticut     3541758\n",
              "Rhode Island    1045691\n",
              "dtype: int64"
            ]
          },
          "metadata": {
            "tags": []
          },
          "execution_count": 59
        }
      ]
    },
    {
      "cell_type": "markdown",
      "metadata": {
        "id": "ggOkGFsmoT59"
      },
      "source": [
        "## Operazioni di riduzione sulle serie\n",
        "\n",
        "- Le serie offrono metodi simili a quelli degli array per aggregare i dati: `sum`, `mean`, `min`, `max`, ...\n",
        "- Ad esempio, per ottenere la popolazione totale di tutti gli Stati:"
      ]
    },
    {
      "cell_type": "code",
      "metadata": {
        "id": "ZS3ComrloT59",
        "colab": {
          "base_uri": "https://localhost:8080/"
        },
        "outputId": "4a1c0dd3-306a-43ef-c8a1-29e5c8557d98"
      },
      "source": [
        "population.sum()"
      ],
      "execution_count": null,
      "outputs": [
        {
          "output_type": "execute_result",
          "data": {
            "text/plain": [
              "319361956"
            ]
          },
          "metadata": {
            "tags": []
          },
          "execution_count": 62
        }
      ]
    },
    {
      "cell_type": "markdown",
      "metadata": {
        "id": "4tpu2uVyoT5-"
      },
      "source": [
        "- Per ottenere la popolazione nello Stato dove è maggiore:"
      ]
    },
    {
      "cell_type": "code",
      "metadata": {
        "id": "8Ag_tNoFoT5-",
        "colab": {
          "base_uri": "https://localhost:8080/"
        },
        "outputId": "595f90ef-8e4b-440e-8f0b-2bfe293a5609"
      },
      "source": [
        "population.max()"
      ],
      "execution_count": null,
      "outputs": [
        {
          "output_type": "execute_result",
          "data": {
            "text/plain": [
              "38783436"
            ]
          },
          "metadata": {
            "tags": []
          },
          "execution_count": 63
        }
      ]
    },
    {
      "cell_type": "markdown",
      "metadata": {
        "id": "oxsBP-lgoT5-"
      },
      "source": [
        "- Per conoscere a quale Stato corrisponde, uso il metodo `idxmax` che restituisce l'etichetta del valore maggiore"
      ]
    },
    {
      "cell_type": "code",
      "metadata": {
        "id": "FtdP8XikoT5-",
        "colab": {
          "base_uri": "https://localhost:8080/",
          "height": 36
        },
        "outputId": "39655d6c-f834-4049-f49a-b1d813cce810"
      },
      "source": [
        "population.idxmax()"
      ],
      "execution_count": null,
      "outputs": [
        {
          "output_type": "execute_result",
          "data": {
            "application/vnd.google.colaboratory.intrinsic+json": {
              "type": "string"
            },
            "text/plain": [
              "'California'"
            ]
          },
          "metadata": {
            "tags": []
          },
          "execution_count": 64
        }
      ]
    },
    {
      "cell_type": "markdown",
      "metadata": {
        "id": "qhSxtBPNoT5_"
      },
      "source": [
        "## Esercizio 3: Operazioni di riduzione su serie\n",
        "\n",
        "Ricavare:\n",
        "- **(3a)** la densità di popolazione dello stato più piccolo\n",
        "- **(3b)** il numero di stati la cui popolazione è superiore al milione di abitanti\n",
        "- **(3c)** il totale della popolazione degli stati sulla costa ovest (vedi lista `west_coast`)\n",
        "- **(3d)** la densità media degli stati con almeno 10 milioni di abitanti"
      ]
    },
    {
      "cell_type": "code",
      "metadata": {
        "id": "CWjzFt3vxVz3",
        "colab": {
          "base_uri": "https://localhost:8080/"
        },
        "outputId": "3e1905d5-b1b0-46b1-cb56-58dfa3bc9202"
      },
      "source": [
        "density[area_km2.idxmin()]"
      ],
      "execution_count": null,
      "outputs": [
        {
          "output_type": "execute_result",
          "data": {
            "text/plain": [
              "4250.089331170412"
            ]
          },
          "metadata": {
            "tags": []
          },
          "execution_count": 78
        }
      ]
    },
    {
      "cell_type": "code",
      "metadata": {
        "id": "jw_9xmObxhQd",
        "colab": {
          "base_uri": "https://localhost:8080/"
        },
        "outputId": "168cb21a-ad79-4460-c436-b00a5c90f100"
      },
      "source": [
        "population_big = population >= 1_000_000\r\n",
        "len(population[population_big])"
      ],
      "execution_count": null,
      "outputs": [
        {
          "output_type": "execute_result",
          "data": {
            "text/plain": [
              "44"
            ]
          },
          "metadata": {
            "tags": []
          },
          "execution_count": 70
        }
      ]
    },
    {
      "cell_type": "code",
      "metadata": {
        "id": "B3KwAGVayCqU",
        "colab": {
          "base_uri": "https://localhost:8080/"
        },
        "outputId": "6d5e29ce-ce62-4bf3-8163-03eedac44706"
      },
      "source": [
        "population[west_coast].sum()"
      ],
      "execution_count": null,
      "outputs": [
        {
          "output_type": "execute_result",
          "data": {
            "text/plain": [
              "50037776"
            ]
          },
          "metadata": {
            "tags": []
          },
          "execution_count": 72
        }
      ]
    },
    {
      "cell_type": "code",
      "metadata": {
        "id": "NeCEv1qtyQFY",
        "colab": {
          "base_uri": "https://localhost:8080/"
        },
        "outputId": "ebc1a3e2-8de1-43de-a536-f1cdc7acde8b"
      },
      "source": [
        "population_10mln = population >= 10_000_000\r\n",
        "density[population_10mln].mean()"
      ],
      "execution_count": null,
      "outputs": [
        {
          "output_type": "execute_result",
          "data": {
            "text/plain": [
              "99.6921196099007"
            ]
          },
          "metadata": {
            "tags": []
          },
          "execution_count": 77
        }
      ]
    },
    {
      "cell_type": "markdown",
      "metadata": {
        "id": "-RCmjQH4oT5_"
      },
      "source": [
        "## DataFrame\n",
        "\n",
        "- Un `DataFrame` pandas contiene dati strutturati in **forma tabulare**, dove in genere\n",
        "  - **ogni riga** della tabella rappresenta **un elemento** dell'insieme che si sta analizzando (una persona, un territorio, ...)\n",
        "  - **ogni colonna** rappresenta **una caratteristica** di interesse (_feature_) degli elementi (età, popolazione, ...)\n",
        "- Le colonne di un data frame costituiscono un insieme di serie tutte con la stessa sequenza di etichette\n",
        "  - tale sequenza costituisce l'_indice delle righe_ del frame (o semplicemente _indice_)\n",
        "  - ogni colonna ha un nome, i nomi delle colonne formano l'_indice delle colonne_ del frame\n",
        "  - i datatype dei valori possono differire da una colonna all'altra"
      ]
    },
    {
      "cell_type": "markdown",
      "metadata": {
        "id": "8dbuV97joT6A"
      },
      "source": [
        "## Creare un DataFrame\n",
        "\n",
        "- Per creare un DataFrame possiamo passare un dizionario con una serie di valori per ciascuna colonna, la cui chiave è il nome\n",
        "  - l'indice delle serie, identico per tutte, è usato come indice delle righe del DataFrame\n",
        "  - se alcune etichette fossero presenti solo in alcune serie, si otterrebbero valori mancanti nelle altre colonne"
      ]
    },
    {
      "cell_type": "code",
      "metadata": {
        "id": "LDnZdPmqoT6A"
      },
      "source": [
        "census = pd.DataFrame({\n",
        "    \"population\": population,\n",
        "    \"from_abroad\": from_abroad,\n",
        "    \"area\": area_km2\n",
        "})"
      ],
      "execution_count": null,
      "outputs": []
    },
    {
      "cell_type": "markdown",
      "metadata": {
        "id": "oAz8ptwpoT6A"
      },
      "source": [
        "- Visualizziamo le prime righe del DataFrame come esempio..."
      ]
    },
    {
      "cell_type": "code",
      "metadata": {
        "id": "zV-ByosYoT6A",
        "colab": {
          "base_uri": "https://localhost:8080/",
          "height": 206
        },
        "outputId": "829b73aa-be35-49f0-fe24-bf59c17936eb"
      },
      "source": [
        "census.head(5)"
      ],
      "execution_count": null,
      "outputs": [
        {
          "output_type": "execute_result",
          "data": {
            "text/html": [
              "<div>\n",
              "<style scoped>\n",
              "    .dataframe tbody tr th:only-of-type {\n",
              "        vertical-align: middle;\n",
              "    }\n",
              "\n",
              "    .dataframe tbody tr th {\n",
              "        vertical-align: top;\n",
              "    }\n",
              "\n",
              "    .dataframe thead th {\n",
              "        text-align: right;\n",
              "    }\n",
              "</style>\n",
              "<table border=\"1\" class=\"dataframe\">\n",
              "  <thead>\n",
              "    <tr style=\"text-align: right;\">\n",
              "      <th></th>\n",
              "      <th>population</th>\n",
              "      <th>from_abroad</th>\n",
              "      <th>area</th>\n",
              "    </tr>\n",
              "  </thead>\n",
              "  <tbody>\n",
              "    <tr>\n",
              "      <th>Alabama</th>\n",
              "      <td>4810126</td>\n",
              "      <td>16062</td>\n",
              "      <td>1.311714e+05</td>\n",
              "    </tr>\n",
              "    <tr>\n",
              "      <th>Alaska</th>\n",
              "      <td>731760</td>\n",
              "      <td>6559</td>\n",
              "      <td>1.477960e+06</td>\n",
              "    </tr>\n",
              "    <tr>\n",
              "      <th>Arizona</th>\n",
              "      <td>6851836</td>\n",
              "      <td>53749</td>\n",
              "      <td>2.942087e+05</td>\n",
              "    </tr>\n",
              "    <tr>\n",
              "      <th>Arkansas</th>\n",
              "      <td>2949650</td>\n",
              "      <td>9051</td>\n",
              "      <td>1.347719e+05</td>\n",
              "    </tr>\n",
              "    <tr>\n",
              "      <th>California</th>\n",
              "      <td>38783436</td>\n",
              "      <td>336614</td>\n",
              "      <td>4.034682e+05</td>\n",
              "    </tr>\n",
              "  </tbody>\n",
              "</table>\n",
              "</div>"
            ],
            "text/plain": [
              "            population  from_abroad          area\n",
              "Alabama        4810126        16062  1.311714e+05\n",
              "Alaska          731760         6559  1.477960e+06\n",
              "Arizona        6851836        53749  2.942087e+05\n",
              "Arkansas       2949650         9051  1.347719e+05\n",
              "California    38783436       336614  4.034682e+05"
            ]
          },
          "metadata": {
            "tags": []
          },
          "execution_count": 80
        }
      ]
    },
    {
      "cell_type": "markdown",
      "metadata": {
        "id": "ArX4g7FVoT6A"
      },
      "source": [
        "- In alto sono scritti i nomi delle colonne, che costituiscono _l'indice delle colonne_\n",
        "- A sinistra sono scritti i nomi degli Stati, che costituiscono _l'indice delle righe_\n",
        "- Gli indici **non** contano come righe o colonne del frame"
      ]
    },
    {
      "cell_type": "markdown",
      "metadata": {
        "id": "CPx9HCTWoT6A"
      },
      "source": [
        "- Da un `DataFrame` possiamo estrarre i suoi componenti:\n",
        "  - la matrice dei dati `values`\n",
        "  - l'indice delle righe `index`\n",
        "  - l'indice delle colonne `columns`"
      ]
    },
    {
      "cell_type": "code",
      "metadata": {
        "id": "1Xmd-b07oT6A",
        "colab": {
          "base_uri": "https://localhost:8080/"
        },
        "outputId": "2a1d3292-56c1-463f-94eb-c84486fe588b"
      },
      "source": [
        "census.values   [:4] # prime 4 righe"
      ],
      "execution_count": null,
      "outputs": [
        {
          "output_type": "execute_result",
          "data": {
            "text/plain": [
              "array([[4.81012600e+06, 1.60620000e+04, 1.31171405e+05],\n",
              "       [7.31760000e+05, 6.55900000e+03, 1.47796006e+06],\n",
              "       [6.85183600e+06, 5.37490000e+04, 2.94208667e+05],\n",
              "       [2.94965000e+06, 9.05100000e+03, 1.34771893e+05]])"
            ]
          },
          "metadata": {
            "tags": []
          },
          "execution_count": 81
        }
      ]
    },
    {
      "cell_type": "code",
      "metadata": {
        "id": "SHVGRWgOoT6C",
        "colab": {
          "base_uri": "https://localhost:8080/"
        },
        "outputId": "eca56e36-a136-4e76-f14c-bf22b13a3a3f"
      },
      "source": [
        "census.index   [:4] # primi 4 stati"
      ],
      "execution_count": null,
      "outputs": [
        {
          "output_type": "execute_result",
          "data": {
            "text/plain": [
              "Index(['Alabama', 'Alaska', 'Arizona', 'Arkansas'], dtype='object')"
            ]
          },
          "metadata": {
            "tags": []
          },
          "execution_count": 82
        }
      ]
    },
    {
      "cell_type": "code",
      "metadata": {
        "id": "ZAlAlGLooT6C",
        "colab": {
          "base_uri": "https://localhost:8080/"
        },
        "outputId": "e08bc747-5d5b-4f60-dc7a-1b43fa39eecb"
      },
      "source": [
        "census.columns"
      ],
      "execution_count": null,
      "outputs": [
        {
          "output_type": "execute_result",
          "data": {
            "text/plain": [
              "Index(['population', 'from_abroad', 'area'], dtype='object')"
            ]
          },
          "metadata": {
            "tags": []
          },
          "execution_count": 83
        }
      ]
    },
    {
      "cell_type": "markdown",
      "metadata": {
        "id": "PivcpI0voT6D"
      },
      "source": [
        "- Come per le matrici, possiamo ottenere il numero di righe e di colonne con `shape`"
      ]
    },
    {
      "cell_type": "code",
      "metadata": {
        "id": "ZvNNH986oT6D",
        "colab": {
          "base_uri": "https://localhost:8080/"
        },
        "outputId": "63811b2d-a56f-4f8d-eac2-5f39fda7f321"
      },
      "source": [
        "census.shape"
      ],
      "execution_count": null,
      "outputs": [
        {
          "output_type": "execute_result",
          "data": {
            "text/plain": [
              "(51, 3)"
            ]
          },
          "metadata": {
            "tags": []
          },
          "execution_count": 84
        }
      ]
    },
    {
      "cell_type": "markdown",
      "metadata": {
        "id": "xiyufCXVoT6D"
      },
      "source": [
        "- Un modo alternativo per creare un DataFrame è passare una matrice (array 2D) con i dati e vettori con nomi di righe e colonne\n",
        "- Ad esempio, possiamo convertire in DataFrame la matrice `state_to_state` che indica il numero di persone trasferitesi da uno stato all'altro nell'ultimo anno\n",
        "- Creiamo il DataFrame passando i dati nella matrice e usando il vettore dei nomi `states` come indice sia delle righe (`index`) che delle colonne (`columns`)"
      ]
    },
    {
      "cell_type": "code",
      "metadata": {
        "id": "M6WHctwNoT6D"
      },
      "source": [
        "state_to_state = pd.DataFrame(state_to_state, index=states, columns=states)"
      ],
      "execution_count": null,
      "outputs": []
    },
    {
      "cell_type": "markdown",
      "metadata": {
        "id": "JMf8tDQyoT6D"
      },
      "source": [
        "- Abbiamo così convertito la matrice in una tabella leggibile, di cui quì visualizziamo una parte"
      ]
    },
    {
      "cell_type": "code",
      "metadata": {
        "id": "rszQMLzqoT6D",
        "colab": {
          "base_uri": "https://localhost:8080/",
          "height": 206
        },
        "outputId": "64f28726-1969-42ae-b437-746c18ebcc2d"
      },
      "source": [
        "state_to_state   .iloc[:5, :5]"
      ],
      "execution_count": null,
      "outputs": [
        {
          "output_type": "execute_result",
          "data": {
            "text/html": [
              "<div>\n",
              "<style scoped>\n",
              "    .dataframe tbody tr th:only-of-type {\n",
              "        vertical-align: middle;\n",
              "    }\n",
              "\n",
              "    .dataframe tbody tr th {\n",
              "        vertical-align: top;\n",
              "    }\n",
              "\n",
              "    .dataframe thead th {\n",
              "        text-align: right;\n",
              "    }\n",
              "</style>\n",
              "<table border=\"1\" class=\"dataframe\">\n",
              "  <thead>\n",
              "    <tr style=\"text-align: right;\">\n",
              "      <th></th>\n",
              "      <th>Alabama</th>\n",
              "      <th>Alaska</th>\n",
              "      <th>Arizona</th>\n",
              "      <th>Arkansas</th>\n",
              "      <th>California</th>\n",
              "    </tr>\n",
              "  </thead>\n",
              "  <tbody>\n",
              "    <tr>\n",
              "      <th>Alabama</th>\n",
              "      <td>0</td>\n",
              "      <td>576</td>\n",
              "      <td>1022</td>\n",
              "      <td>495</td>\n",
              "      <td>6611</td>\n",
              "    </tr>\n",
              "    <tr>\n",
              "      <th>Alaska</th>\n",
              "      <td>423</td>\n",
              "      <td>0</td>\n",
              "      <td>1176</td>\n",
              "      <td>65</td>\n",
              "      <td>3593</td>\n",
              "    </tr>\n",
              "    <tr>\n",
              "      <th>Arizona</th>\n",
              "      <td>894</td>\n",
              "      <td>1946</td>\n",
              "      <td>0</td>\n",
              "      <td>1205</td>\n",
              "      <td>64756</td>\n",
              "    </tr>\n",
              "    <tr>\n",
              "      <th>Arkansas</th>\n",
              "      <td>2057</td>\n",
              "      <td>103</td>\n",
              "      <td>836</td>\n",
              "      <td>0</td>\n",
              "      <td>4026</td>\n",
              "    </tr>\n",
              "    <tr>\n",
              "      <th>California</th>\n",
              "      <td>3045</td>\n",
              "      <td>4206</td>\n",
              "      <td>33757</td>\n",
              "      <td>4282</td>\n",
              "      <td>0</td>\n",
              "    </tr>\n",
              "  </tbody>\n",
              "</table>\n",
              "</div>"
            ],
            "text/plain": [
              "            Alabama  Alaska  Arizona  Arkansas  California\n",
              "Alabama           0     576     1022       495        6611\n",
              "Alaska          423       0     1176        65        3593\n",
              "Arizona         894    1946        0      1205       64756\n",
              "Arkansas       2057     103      836         0        4026\n",
              "California     3045    4206    33757      4282           0"
            ]
          },
          "metadata": {
            "tags": []
          },
          "execution_count": 86
        }
      ]
    },
    {
      "cell_type": "markdown",
      "metadata": {
        "id": "AM-8KK7xoT6E"
      },
      "source": [
        "- Ogni riga rappresenta lo stato di destinazione, ogni colonna lo stato d'origine\n",
        "  - ad esempio, 423 persone si sono trasferite dall'Alabama all'Alaska"
      ]
    },
    {
      "cell_type": "markdown",
      "metadata": {
        "id": "jA-kS_ngoT6E"
      },
      "source": [
        "## Estrarre ed aggiungere colonne\n",
        "\n",
        "- Il DataFrame è utilizzabile come un dizionario i cui valori sono le colonne e le chiavi i loro nomi\n",
        "- Selezionando una chiave, viene restituita la colonna con quel nome in forma di serie\n",
        "  - l'indice della serie restituita è l'indice del DataFrame"
      ]
    },
    {
      "cell_type": "code",
      "metadata": {
        "id": "58i7gy07oT6F",
        "outputId": "7c588c9e-f68a-4ed5-c07b-13d2933d90d0"
      },
      "source": [
        "census[\"population\"]   .head(3)"
      ],
      "execution_count": null,
      "outputs": [
        {
          "output_type": "execute_result",
          "data": {
            "text/plain": [
              "Alabama    4810126\n",
              "Alaska      731760\n",
              "Arizona    6851836\n",
              "Name: population, dtype: int64"
            ]
          },
          "metadata": {
            "tags": []
          },
          "execution_count": 94
        }
      ]
    },
    {
      "cell_type": "markdown",
      "metadata": {
        "id": "GtRq0lsxoT6F"
      },
      "source": [
        "- Seguendo la stessa logica, è possibile aggiungere colonne assegnando una serie di valori ad un nome\n",
        "  - se una colonna col nome dato esiste già, viene sovrascritta\n",
        "  - se viene passata una serie, i valori sono assegnati per corrispondenza tra etichette e indice delle righe\n",
        "- Questo permette di creare facilmente colonne con valori derivati dalle altre\n",
        "- Ad esempio, per aggiungere una colonna con la densità di popolazione _(senza usare la serie creata in precedenza)_:"
      ]
    },
    {
      "cell_type": "code",
      "metadata": {
        "id": "cbpFzw-ToT6F"
      },
      "source": [
        "census[\"density\"] = census[\"population\"] / census[\"area\"]"
      ],
      "execution_count": null,
      "outputs": []
    },
    {
      "cell_type": "markdown",
      "metadata": {
        "id": "EUHibWdIoT6G"
      },
      "source": [
        "- La colonna viene così aggiunta a destra nel DataFrame:"
      ]
    },
    {
      "cell_type": "code",
      "metadata": {
        "id": "b9s6EbI1oT6G",
        "colab": {
          "base_uri": "https://localhost:8080/",
          "height": 206
        },
        "outputId": "20397ed5-4671-4876-f508-4f4de95e0c4c"
      },
      "source": [
        "census.head(5)"
      ],
      "execution_count": null,
      "outputs": [
        {
          "output_type": "execute_result",
          "data": {
            "text/html": [
              "<div>\n",
              "<style scoped>\n",
              "    .dataframe tbody tr th:only-of-type {\n",
              "        vertical-align: middle;\n",
              "    }\n",
              "\n",
              "    .dataframe tbody tr th {\n",
              "        vertical-align: top;\n",
              "    }\n",
              "\n",
              "    .dataframe thead th {\n",
              "        text-align: right;\n",
              "    }\n",
              "</style>\n",
              "<table border=\"1\" class=\"dataframe\">\n",
              "  <thead>\n",
              "    <tr style=\"text-align: right;\">\n",
              "      <th></th>\n",
              "      <th>population</th>\n",
              "      <th>from_abroad</th>\n",
              "      <th>area</th>\n",
              "      <th>density</th>\n",
              "    </tr>\n",
              "  </thead>\n",
              "  <tbody>\n",
              "    <tr>\n",
              "      <th>Alabama</th>\n",
              "      <td>4810126</td>\n",
              "      <td>16062</td>\n",
              "      <td>1.311714e+05</td>\n",
              "      <td>36.670538</td>\n",
              "    </tr>\n",
              "    <tr>\n",
              "      <th>Alaska</th>\n",
              "      <td>731760</td>\n",
              "      <td>6559</td>\n",
              "      <td>1.477960e+06</td>\n",
              "      <td>0.495115</td>\n",
              "    </tr>\n",
              "    <tr>\n",
              "      <th>Arizona</th>\n",
              "      <td>6851836</td>\n",
              "      <td>53749</td>\n",
              "      <td>2.942087e+05</td>\n",
              "      <td>23.289035</td>\n",
              "    </tr>\n",
              "    <tr>\n",
              "      <th>Arkansas</th>\n",
              "      <td>2949650</td>\n",
              "      <td>9051</td>\n",
              "      <td>1.347719e+05</td>\n",
              "      <td>21.886240</td>\n",
              "    </tr>\n",
              "    <tr>\n",
              "      <th>California</th>\n",
              "      <td>38783436</td>\n",
              "      <td>336614</td>\n",
              "      <td>4.034682e+05</td>\n",
              "      <td>96.125142</td>\n",
              "    </tr>\n",
              "  </tbody>\n",
              "</table>\n",
              "</div>"
            ],
            "text/plain": [
              "            population  from_abroad          area    density\n",
              "Alabama        4810126        16062  1.311714e+05  36.670538\n",
              "Alaska          731760         6559  1.477960e+06   0.495115\n",
              "Arizona        6851836        53749  2.942087e+05  23.289035\n",
              "Arkansas       2949650         9051  1.347719e+05  21.886240\n",
              "California    38783436       336614  4.034682e+05  96.125142"
            ]
          },
          "metadata": {
            "tags": []
          },
          "execution_count": 88
        }
      ]
    },
    {
      "cell_type": "markdown",
      "metadata": {
        "id": "xgOcJDTsoT6G"
      },
      "source": [
        "## Statistiche sui dati\n",
        "\n",
        "- Anche sui `DataFrame` sono disponibili i metodi `sum`, `mean`, `min`, ... per aggregare i dati\n",
        "- Di default, restituiscono una serie con la statistica calcolata colonna per colonna"
      ]
    },
    {
      "cell_type": "code",
      "metadata": {
        "id": "rqgs_T1FoT6G",
        "colab": {
          "base_uri": "https://localhost:8080/"
        },
        "outputId": "2449b2eb-f300-49f5-d6d3-baf2aabc8fb9"
      },
      "source": [
        "# medie su tutti gli stati\n",
        "census.mean()"
      ],
      "execution_count": null,
      "outputs": [
        {
          "output_type": "execute_result",
          "data": {
            "text/plain": [
              "population     6.261999e+06\n",
              "from_abroad    4.307184e+04\n",
              "area           1.793654e+05\n",
              "density        1.585860e+02\n",
              "dtype: float64"
            ]
          },
          "metadata": {
            "tags": []
          },
          "execution_count": 93
        }
      ]
    },
    {
      "cell_type": "code",
      "metadata": {
        "id": "P5tGWjGXoT6G",
        "colab": {
          "base_uri": "https://localhost:8080/"
        },
        "outputId": "c1e4d209-9f11-4794-eefb-0ba84193d573"
      },
      "source": [
        "# somme su tutti gli stati\n",
        "census.sum()"
      ],
      "execution_count": null,
      "outputs": [
        {
          "output_type": "execute_result",
          "data": {
            "text/plain": [
              "population     3.193620e+08\n",
              "from_abroad    2.196664e+06\n",
              "area           9.147635e+06\n",
              "density        8.087884e+03\n",
              "dtype: float64"
            ]
          },
          "metadata": {
            "tags": []
          },
          "execution_count": 94
        }
      ]
    },
    {
      "cell_type": "markdown",
      "metadata": {
        "id": "TwMcGxxqoT6G"
      },
      "source": [
        "- Si noti che non sempre tutte le statistiche che si possono estrarre sono significative!\n",
        "  - ad esempio la somma ha senso sulla popolazione e sull'area, ma non sulla densità"
      ]
    },
    {
      "cell_type": "markdown",
      "metadata": {
        "id": "3MDWGHX8oT6G"
      },
      "source": [
        "- Il metodo `describe` fornisce rapidamente un'insieme di statistiche sui valori di ciascuna colonna, utili ad analizzarne la distribuzione"
      ]
    },
    {
      "cell_type": "code",
      "metadata": {
        "id": "dsuX5HVuoT6G",
        "colab": {
          "base_uri": "https://localhost:8080/",
          "height": 300
        },
        "outputId": "4ab54a47-2487-46cd-b3a8-08857c75d5b3"
      },
      "source": [
        "census.describe()"
      ],
      "execution_count": null,
      "outputs": [
        {
          "output_type": "execute_result",
          "data": {
            "text/html": [
              "<div>\n",
              "<style scoped>\n",
              "    .dataframe tbody tr th:only-of-type {\n",
              "        vertical-align: middle;\n",
              "    }\n",
              "\n",
              "    .dataframe tbody tr th {\n",
              "        vertical-align: top;\n",
              "    }\n",
              "\n",
              "    .dataframe thead th {\n",
              "        text-align: right;\n",
              "    }\n",
              "</style>\n",
              "<table border=\"1\" class=\"dataframe\">\n",
              "  <thead>\n",
              "    <tr style=\"text-align: right;\">\n",
              "      <th></th>\n",
              "      <th>population</th>\n",
              "      <th>from_abroad</th>\n",
              "      <th>area</th>\n",
              "      <th>density</th>\n",
              "    </tr>\n",
              "  </thead>\n",
              "  <tbody>\n",
              "    <tr>\n",
              "      <th>count</th>\n",
              "      <td>5.100000e+01</td>\n",
              "      <td>51.000000</td>\n",
              "      <td>5.100000e+01</td>\n",
              "      <td>51.000000</td>\n",
              "    </tr>\n",
              "    <tr>\n",
              "      <th>mean</th>\n",
              "      <td>6.261999e+06</td>\n",
              "      <td>43071.843137</td>\n",
              "      <td>1.793654e+05</td>\n",
              "      <td>158.585968</td>\n",
              "    </tr>\n",
              "    <tr>\n",
              "      <th>std</th>\n",
              "      <td>7.156688e+06</td>\n",
              "      <td>65074.514352</td>\n",
              "      <td>2.215125e+05</td>\n",
              "      <td>592.990817</td>\n",
              "    </tr>\n",
              "    <tr>\n",
              "      <th>min</th>\n",
              "      <td>5.775670e+05</td>\n",
              "      <td>2105.000000</td>\n",
              "      <td>1.581195e+02</td>\n",
              "      <td>0.495115</td>\n",
              "    </tr>\n",
              "    <tr>\n",
              "      <th>25%</th>\n",
              "      <td>1.737232e+06</td>\n",
              "      <td>8790.000000</td>\n",
              "      <td>8.633639e+04</td>\n",
              "      <td>18.459321</td>\n",
              "    </tr>\n",
              "    <tr>\n",
              "      <th>50%</th>\n",
              "      <td>4.385213e+06</td>\n",
              "      <td>19460.000000</td>\n",
              "      <td>1.388881e+05</td>\n",
              "      <td>40.722584</td>\n",
              "    </tr>\n",
              "    <tr>\n",
              "      <th>75%</th>\n",
              "      <td>7.026978e+06</td>\n",
              "      <td>52012.000000</td>\n",
              "      <td>2.089942e+05</td>\n",
              "      <td>86.390197</td>\n",
              "    </tr>\n",
              "    <tr>\n",
              "      <th>max</th>\n",
              "      <td>3.878344e+07</td>\n",
              "      <td>336614.000000</td>\n",
              "      <td>1.477960e+06</td>\n",
              "      <td>4250.089331</td>\n",
              "    </tr>\n",
              "  </tbody>\n",
              "</table>\n",
              "</div>"
            ],
            "text/plain": [
              "         population    from_abroad          area      density\n",
              "count  5.100000e+01      51.000000  5.100000e+01    51.000000\n",
              "mean   6.261999e+06   43071.843137  1.793654e+05   158.585968\n",
              "std    7.156688e+06   65074.514352  2.215125e+05   592.990817\n",
              "min    5.775670e+05    2105.000000  1.581195e+02     0.495115\n",
              "25%    1.737232e+06    8790.000000  8.633639e+04    18.459321\n",
              "50%    4.385213e+06   19460.000000  1.388881e+05    40.722584\n",
              "75%    7.026978e+06   52012.000000  2.089942e+05    86.390197\n",
              "max    3.878344e+07  336614.000000  1.477960e+06  4250.089331"
            ]
          },
          "metadata": {
            "tags": []
          },
          "execution_count": 95
        }
      ]
    },
    {
      "cell_type": "markdown",
      "metadata": {
        "id": "yYKrzd90oT6H"
      },
      "source": [
        "La tabella ottenuta mostra:\n",
        "- `count` = valori non mancanti (51 in tutte e tre le colonne)\n",
        "- `mean` = media\n",
        "  - ad es. la popolazione media per stato è di 6,26 milioni di abitanti\n",
        "- `std` = deviazione standard\n",
        "- `min`/`max` = valori minimo/massimo\n",
        "- `25%`/`50%`/`75%` = percentili\n",
        "  - ad es. il 25% degli stati ha densità di popolazione inferiore a 18,46 abitanti per km²"
      ]
    },
    {
      "cell_type": "markdown",
      "metadata": {
        "id": "57gbF1EwoT6I"
      },
      "source": [
        "- Normalmente le statistiche sono calcolate per colonne (riducendo le righe), in quanto si tratta dell'esigenza più comune\n",
        "  - nella tabella `census`, così come in tanti altri casi pratici, ogni colonna ha valori in scale diverse, non ha senso calcolare somma, media, ecc. per riga\n",
        "  - `sum()` in un DataFrame corrisponde in pratica a `sum(0)` in una matrice NumPy\n",
        "- Nel caso si vogliano calcolare le statistiche per righe (riducendo le colonne), si può specificare `axis=1`\n",
        "  - questo corrisponde in pratica a `sum(1)` su una matrice NumPy"
      ]
    },
    {
      "cell_type": "markdown",
      "metadata": {
        "id": "ZIZ9cPqHoT6I"
      },
      "source": [
        "- Ad esempio, applicando `sum()` in modo standard al DataFrame `state_to_state`, otteniamo il totale di abitanti trasferitisi **da** ogni stato (colonne)..."
      ]
    },
    {
      "cell_type": "code",
      "metadata": {
        "id": "ufbu3HVioT6K",
        "colab": {
          "base_uri": "https://localhost:8080/"
        },
        "outputId": "4d787291-ed03-4149-e306-70162f1eb356"
      },
      "source": [
        "state_to_state.sum()   .head(3)"
      ],
      "execution_count": null,
      "outputs": [
        {
          "output_type": "execute_result",
          "data": {
            "text/plain": [
              "Alabama     99892\n",
              "Alaska      42074\n",
              "Arizona    192103\n",
              "dtype: int64"
            ]
          },
          "metadata": {
            "tags": []
          },
          "execution_count": 96
        }
      ]
    },
    {
      "cell_type": "markdown",
      "metadata": {
        "id": "NsBfvSnjoT6K"
      },
      "source": [
        "- ...mentre applicando `sum(axis=1)` otteniamo il totale di abitanti trasferitisi **verso** ogni stato (righe)..."
      ]
    },
    {
      "cell_type": "code",
      "metadata": {
        "id": "Ta1MdBXUoT6K",
        "colab": {
          "base_uri": "https://localhost:8080/"
        },
        "outputId": "2c5eb7e6-c835-42ae-e91b-b47d78fc425f"
      },
      "source": [
        "state_to_state.sum(axis=1)   .head(3)"
      ],
      "execution_count": null,
      "outputs": [
        {
          "output_type": "execute_result",
          "data": {
            "text/plain": [
              "Alabama    122220\n",
              "Alaska      31300\n",
              "Arizona    273257\n",
              "dtype: int64"
            ]
          },
          "metadata": {
            "tags": []
          },
          "execution_count": 97
        }
      ]
    },
    {
      "cell_type": "markdown",
      "metadata": {
        "id": "zgBM0KmeoT6L"
      },
      "source": [
        "- ...che è esattamente quanto riportato nella serie `other_state`: possiamo verificarlo col metodo `equals` che indica se due serie sono identiche"
      ]
    },
    {
      "cell_type": "code",
      "metadata": {
        "id": "YEXMauNxoT6L",
        "colab": {
          "base_uri": "https://localhost:8080/"
        },
        "outputId": "6829a957-d8dd-46e5-c090-979b6078b485"
      },
      "source": [
        "state_to_state.sum(axis=1).equals(other_state)"
      ],
      "execution_count": null,
      "outputs": [
        {
          "output_type": "execute_result",
          "data": {
            "text/plain": [
              "True"
            ]
          },
          "metadata": {
            "tags": []
          },
          "execution_count": 98
        }
      ]
    },
    {
      "cell_type": "markdown",
      "metadata": {
        "id": "aZLVjuv0oT6L"
      },
      "source": [
        "## Esercizio 4: Operazioni sui DataFrame\n",
        "\n",
        "Utilizzando i frame `census` e `state_to_state` (senza utilizzare le serie usate in precedenza), ricavare\n",
        "\n",
        "- **(4a)** la superficie dello stato più grande\n",
        "- **(4b)** il numero totale di persone emigrate dall'Arizona ad un altro stato\n",
        "- **(4c)** il nome dello stato in cui sono immigrate meno persone dagli altri stati\n",
        "  - promemoria per `state_to_state`: colonna = stato di origine, riga = stato di destinazione"
      ]
    },
    {
      "cell_type": "code",
      "metadata": {
        "id": "GL4oK7QU0QpE",
        "colab": {
          "base_uri": "https://localhost:8080/"
        },
        "outputId": "7c8641a0-dac2-45bf-e104-9b3eb40cb590"
      },
      "source": [
        "census[\"area\"].max()"
      ],
      "execution_count": null,
      "outputs": [
        {
          "output_type": "execute_result",
          "data": {
            "text/plain": [
              "1477960.0605"
            ]
          },
          "metadata": {
            "tags": []
          },
          "execution_count": 92
        }
      ]
    },
    {
      "cell_type": "code",
      "metadata": {
        "id": "XT3F6WvL0jSC",
        "colab": {
          "base_uri": "https://localhost:8080/"
        },
        "outputId": "840bc384-f0ff-4c17-8525-ce361c645b06"
      },
      "source": [
        "state_to_state[\"Arizona\"].sum()"
      ],
      "execution_count": null,
      "outputs": [
        {
          "output_type": "execute_result",
          "data": {
            "text/plain": [
              "192103"
            ]
          },
          "metadata": {
            "tags": []
          },
          "execution_count": 99
        }
      ]
    },
    {
      "cell_type": "code",
      "metadata": {
        "id": "Nt5kQomB03N8",
        "colab": {
          "base_uri": "https://localhost:8080/",
          "height": 36
        },
        "outputId": "c1f79db0-e610-48dd-f41b-134f1758e130"
      },
      "source": [
        "state_to_state.sum(axis=1).idxmin()"
      ],
      "execution_count": null,
      "outputs": [
        {
          "output_type": "execute_result",
          "data": {
            "application/vnd.google.colaboratory.intrinsic+json": {
              "type": "string"
            },
            "text/plain": [
              "'Vermont'"
            ]
          },
          "metadata": {
            "tags": []
          },
          "execution_count": 109
        }
      ]
    },
    {
      "cell_type": "markdown",
      "metadata": {
        "id": "0P-9GMeroT6L"
      },
      "source": [
        "## Selezione\n",
        "\n",
        "- Per selezionare una porzione di DataFrame, vanno indicate righe e colonne da includere\n",
        "- Esistono diversi _selettori_, che consentono di selezionare parti di un DataFrame `X` in modo diverso:\n",
        "  - `X.loc[...]` seleziona righe e colonne specificate **per etichetta** (es.: colonna \"population\")\n",
        "  - `X.iloc[...]` seleziona righe e colonne specificate **per posizione** (es.: colonna 0)\n",
        "- In entrambi i casi vanno specificate righe e colonne da selezionare come avviene nelle matrici\n",
        "  - si può selezionare per valore singolo, intervallo, lista di valori o serie booleana\n",
        "  - `:` indica di selezionare tutte le righe o le colonne, se usato per le colonne può essere omesso"
      ]
    },
    {
      "cell_type": "markdown",
      "metadata": {
        "id": "YM8f90-hoT6L"
      },
      "source": [
        "- Ad esempio, abbiamo già visto sopra come selezionare solamente le prime righe e colonne di un DataFrame:"
      ]
    },
    {
      "cell_type": "code",
      "metadata": {
        "id": "I83qJY2BoT6M",
        "colab": {
          "base_uri": "https://localhost:8080/",
          "height": 143
        },
        "outputId": "6cabf9f2-a5bb-44b9-a7e7-7ba5611ad1ba"
      },
      "source": [
        "state_to_state.iloc[:3, :5]"
      ],
      "execution_count": null,
      "outputs": [
        {
          "output_type": "execute_result",
          "data": {
            "text/html": [
              "<div>\n",
              "<style scoped>\n",
              "    .dataframe tbody tr th:only-of-type {\n",
              "        vertical-align: middle;\n",
              "    }\n",
              "\n",
              "    .dataframe tbody tr th {\n",
              "        vertical-align: top;\n",
              "    }\n",
              "\n",
              "    .dataframe thead th {\n",
              "        text-align: right;\n",
              "    }\n",
              "</style>\n",
              "<table border=\"1\" class=\"dataframe\">\n",
              "  <thead>\n",
              "    <tr style=\"text-align: right;\">\n",
              "      <th></th>\n",
              "      <th>Alabama</th>\n",
              "      <th>Alaska</th>\n",
              "      <th>Arizona</th>\n",
              "      <th>Arkansas</th>\n",
              "      <th>California</th>\n",
              "    </tr>\n",
              "  </thead>\n",
              "  <tbody>\n",
              "    <tr>\n",
              "      <th>Alabama</th>\n",
              "      <td>0</td>\n",
              "      <td>576</td>\n",
              "      <td>1022</td>\n",
              "      <td>495</td>\n",
              "      <td>6611</td>\n",
              "    </tr>\n",
              "    <tr>\n",
              "      <th>Alaska</th>\n",
              "      <td>423</td>\n",
              "      <td>0</td>\n",
              "      <td>1176</td>\n",
              "      <td>65</td>\n",
              "      <td>3593</td>\n",
              "    </tr>\n",
              "    <tr>\n",
              "      <th>Arizona</th>\n",
              "      <td>894</td>\n",
              "      <td>1946</td>\n",
              "      <td>0</td>\n",
              "      <td>1205</td>\n",
              "      <td>64756</td>\n",
              "    </tr>\n",
              "  </tbody>\n",
              "</table>\n",
              "</div>"
            ],
            "text/plain": [
              "         Alabama  Alaska  Arizona  Arkansas  California\n",
              "Alabama        0     576     1022       495        6611\n",
              "Alaska       423       0     1176        65        3593\n",
              "Arizona      894    1946        0      1205       64756"
            ]
          },
          "metadata": {
            "tags": []
          },
          "execution_count": 110
        }
      ]
    },
    {
      "cell_type": "markdown",
      "metadata": {
        "id": "GWLtR6FaoT6M"
      },
      "source": [
        "- Selezionando una singola riga di un DataFrame, otteniamo una serie con i valori di tutte le colonne"
      ]
    },
    {
      "cell_type": "code",
      "metadata": {
        "id": "l_f3lPvToT6M",
        "colab": {
          "base_uri": "https://localhost:8080/"
        },
        "outputId": "d00dfb23-9e07-45b2-f528-86f95b7278ec"
      },
      "source": [
        "census.loc[\"California\", :]   # \", :\" può essere omesso"
      ],
      "execution_count": null,
      "outputs": [
        {
          "output_type": "execute_result",
          "data": {
            "text/plain": [
              "population     3.878344e+07\n",
              "from_abroad    3.366140e+05\n",
              "area           4.034682e+05\n",
              "density        9.612514e+01\n",
              "Name: California, dtype: float64"
            ]
          },
          "metadata": {
            "tags": []
          },
          "execution_count": 111
        }
      ]
    },
    {
      "cell_type": "markdown",
      "metadata": {
        "id": "M5cWT3bvoT6N"
      },
      "source": [
        "- Usando serie booleane, possiamo selezionare righe (o colonne) per condizioni"
      ]
    },
    {
      "cell_type": "code",
      "metadata": {
        "id": "0bK0FG4RoT6N",
        "colab": {
          "base_uri": "https://localhost:8080/",
          "height": 143
        },
        "outputId": "d1b4e305-5e5c-4b8b-db54-e69fff6a8cfe"
      },
      "source": [
        "# righe relative agli Stati con meno di 700.000 abitanti\n",
        "census.loc[census[\"population\"] < 700000]"
      ],
      "execution_count": null,
      "outputs": [
        {
          "output_type": "execute_result",
          "data": {
            "text/html": [
              "<div>\n",
              "<style scoped>\n",
              "    .dataframe tbody tr th:only-of-type {\n",
              "        vertical-align: middle;\n",
              "    }\n",
              "\n",
              "    .dataframe tbody tr th {\n",
              "        vertical-align: top;\n",
              "    }\n",
              "\n",
              "    .dataframe thead th {\n",
              "        text-align: right;\n",
              "    }\n",
              "</style>\n",
              "<table border=\"1\" class=\"dataframe\">\n",
              "  <thead>\n",
              "    <tr style=\"text-align: right;\">\n",
              "      <th></th>\n",
              "      <th>population</th>\n",
              "      <th>from_abroad</th>\n",
              "      <th>area</th>\n",
              "      <th>density</th>\n",
              "    </tr>\n",
              "  </thead>\n",
              "  <tbody>\n",
              "    <tr>\n",
              "      <th>District of Columbia</th>\n",
              "      <td>672022</td>\n",
              "      <td>11155</td>\n",
              "      <td>158.1195</td>\n",
              "      <td>4250.089331</td>\n",
              "    </tr>\n",
              "    <tr>\n",
              "      <th>Vermont</th>\n",
              "      <td>619387</td>\n",
              "      <td>2113</td>\n",
              "      <td>23871.1494</td>\n",
              "      <td>25.947096</td>\n",
              "    </tr>\n",
              "    <tr>\n",
              "      <th>Wyoming</th>\n",
              "      <td>577567</td>\n",
              "      <td>2105</td>\n",
              "      <td>251471.2326</td>\n",
              "      <td>2.296752</td>\n",
              "    </tr>\n",
              "  </tbody>\n",
              "</table>\n",
              "</div>"
            ],
            "text/plain": [
              "                      population  from_abroad         area      density\n",
              "District of Columbia      672022        11155     158.1195  4250.089331\n",
              "Vermont                   619387         2113   23871.1494    25.947096\n",
              "Wyoming                   577567         2105  251471.2326     2.296752"
            ]
          },
          "metadata": {
            "tags": []
          },
          "execution_count": 112
        }
      ]
    },
    {
      "cell_type": "code",
      "metadata": {
        "id": "mJz95rgHoT6O",
        "colab": {
          "base_uri": "https://localhost:8080/"
        },
        "outputId": "1dff3782-deeb-448b-dd25-b17140c7d811"
      },
      "source": [
        "# sole densità di popolazione degli Stati con superficie minore di 10.000 km²\n",
        "census.loc[census[\"area\"] < 10000, \"density\"]"
      ],
      "execution_count": null,
      "outputs": [
        {
          "output_type": "execute_result",
          "data": {
            "text/plain": [
              "Delaware                 186.670404\n",
              "District of Columbia    4250.089331\n",
              "Rhode Island             390.537622\n",
              "Name: density, dtype: float64"
            ]
          },
          "metadata": {
            "tags": []
          },
          "execution_count": 113
        }
      ]
    },
    {
      "cell_type": "markdown",
      "metadata": {
        "id": "lwC_1i8_oT6P"
      },
      "source": [
        "## Ordinamento\n",
        "\n",
        "- La funzione `sort_index` ordina le righe di un frame secondo le etichette\n",
        "  - nel nostro caso le righe sono già ordinate alfabeticamente per etichetta\n",
        "- `sort_values` invece ordina le righe secondo i valori di una o più colonne specificate\n",
        "  - le colonne oltre alla prima si usano per risolvere i pareggi, come nella clausola `ORDER BY` di SQL\n",
        "- Entrambi i metodi restituiscono una copia ordinata del frame senza modificarlo\n",
        "  - specificando `inplace=True` si modifica invece il DataFrame originale\n",
        "- Possiamo ad esempio per visualizzare i 5 Stati più popolati\n",
        "  - specifichiamo `ascending=False` per ottenere un ordinamento decrescente"
      ]
    },
    {
      "cell_type": "code",
      "metadata": {
        "id": "HZC3It91oT6P",
        "colab": {
          "base_uri": "https://localhost:8080/",
          "height": 206
        },
        "outputId": "0b3b6222-1f25-4dbb-e39c-7563f5193140"
      },
      "source": [
        "census.sort_values(\"population\", ascending=False).head(5)"
      ],
      "execution_count": null,
      "outputs": [
        {
          "output_type": "execute_result",
          "data": {
            "text/html": [
              "<div>\n",
              "<style scoped>\n",
              "    .dataframe tbody tr th:only-of-type {\n",
              "        vertical-align: middle;\n",
              "    }\n",
              "\n",
              "    .dataframe tbody tr th {\n",
              "        vertical-align: top;\n",
              "    }\n",
              "\n",
              "    .dataframe thead th {\n",
              "        text-align: right;\n",
              "    }\n",
              "</style>\n",
              "<table border=\"1\" class=\"dataframe\">\n",
              "  <thead>\n",
              "    <tr style=\"text-align: right;\">\n",
              "      <th></th>\n",
              "      <th>population</th>\n",
              "      <th>from_abroad</th>\n",
              "      <th>area</th>\n",
              "      <th>density</th>\n",
              "    </tr>\n",
              "  </thead>\n",
              "  <tbody>\n",
              "    <tr>\n",
              "      <th>California</th>\n",
              "      <td>38783436</td>\n",
              "      <td>336614</td>\n",
              "      <td>403468.1798</td>\n",
              "      <td>96.125142</td>\n",
              "    </tr>\n",
              "    <tr>\n",
              "      <th>Texas</th>\n",
              "      <td>27472626</td>\n",
              "      <td>234749</td>\n",
              "      <td>676590.1289</td>\n",
              "      <td>40.604533</td>\n",
              "    </tr>\n",
              "    <tr>\n",
              "      <th>Florida</th>\n",
              "      <td>20401575</td>\n",
              "      <td>232838</td>\n",
              "      <td>138888.1284</td>\n",
              "      <td>146.892144</td>\n",
              "    </tr>\n",
              "    <tr>\n",
              "      <th>New York</th>\n",
              "      <td>19526443</td>\n",
              "      <td>166069</td>\n",
              "      <td>122057.3760</td>\n",
              "      <td>159.977575</td>\n",
              "    </tr>\n",
              "    <tr>\n",
              "      <th>Illinois</th>\n",
              "      <td>12654142</td>\n",
              "      <td>65886</td>\n",
              "      <td>143794.0287</td>\n",
              "      <td>88.001860</td>\n",
              "    </tr>\n",
              "  </tbody>\n",
              "</table>\n",
              "</div>"
            ],
            "text/plain": [
              "            population  from_abroad         area     density\n",
              "California    38783436       336614  403468.1798   96.125142\n",
              "Texas         27472626       234749  676590.1289   40.604533\n",
              "Florida       20401575       232838  138888.1284  146.892144\n",
              "New York      19526443       166069  122057.3760  159.977575\n",
              "Illinois      12654142        65886  143794.0287   88.001860"
            ]
          },
          "metadata": {
            "tags": []
          },
          "execution_count": 114
        }
      ]
    },
    {
      "cell_type": "markdown",
      "metadata": {
        "id": "KmVuOLJUoT6P"
      },
      "source": [
        "## Esercizio 5: Selezione da DataFrame\n",
        "\n",
        "Utilizzando il frame `census` (senza utilizzare le serie usate in precedenza), ricavare\n",
        "\n",
        "- **(5a)** la superficie della California\n",
        "- **(5b)** la popolazione (colonna 0) del 13° stato nella tabella\n",
        "- **(5c)** la densità di popolazione dello stato con superficie maggiore\n",
        "- **(5d)** la popolazione totale degli stati con nome che inizia per M\n",
        "- **(5e)** la superficie complessiva degli stati con almeno 20 milioni di abitanti\n",
        "- **(5f)** la popolazione media degli stati con almeno l'1% di popolazione immigrato dall'estero (`from_abroad`) nell'ultimo anno\n",
        "- **(5g)** la superficie totale dei 5 stati con densità di popolazione minore\n",
        "- **(5h)** la popolazione (colonna 0) del 3° stato con superficie maggiore"
      ]
    },
    {
      "cell_type": "code",
      "metadata": {
        "id": "9CCrWEMq2ocn",
        "colab": {
          "base_uri": "https://localhost:8080/"
        },
        "outputId": "7bb4f63c-ca57-427c-8228-1863364e5ad4"
      },
      "source": [
        "census.loc[\"California\", \"area\"]"
      ],
      "execution_count": null,
      "outputs": [
        {
          "output_type": "execute_result",
          "data": {
            "text/plain": [
              "403468.1798"
            ]
          },
          "metadata": {
            "tags": []
          },
          "execution_count": 204
        }
      ]
    },
    {
      "cell_type": "code",
      "metadata": {
        "id": "pBemaz5T3EG5",
        "colab": {
          "base_uri": "https://localhost:8080/"
        },
        "outputId": "487c5266-be81-423a-ebab-01c7a9b8f570"
      },
      "source": [
        "census.iloc[12, 0]"
      ],
      "execution_count": null,
      "outputs": [
        {
          "output_type": "execute_result",
          "data": {
            "text/plain": [
              "1663756"
            ]
          },
          "metadata": {
            "tags": []
          },
          "execution_count": 205
        }
      ]
    },
    {
      "cell_type": "code",
      "metadata": {
        "id": "6hFAAWub4WVf",
        "colab": {
          "base_uri": "https://localhost:8080/"
        },
        "outputId": "663c4b93-12fc-4128-8bf0-602858fa74f4"
      },
      "source": [
        "census.loc[census[\"area\"].idxmax(), \"density\"]"
      ],
      "execution_count": null,
      "outputs": [
        {
          "output_type": "execute_result",
          "data": {
            "text/plain": [
              "0.49511486782155845"
            ]
          },
          "metadata": {
            "tags": []
          },
          "execution_count": 206
        }
      ]
    },
    {
      "cell_type": "code",
      "metadata": {
        "id": "_9sPYmRc3xYs",
        "colab": {
          "base_uri": "https://localhost:8080/"
        },
        "outputId": "184e9284-9645-49f4-c9b6-4465650292dc"
      },
      "source": [
        "census.loc[\"M\":\"N\", \"population\"].sum()"
      ],
      "execution_count": null,
      "outputs": [
        {
          "output_type": "execute_result",
          "data": {
            "text/plain": [
              "39290015"
            ]
          },
          "metadata": {
            "tags": []
          },
          "execution_count": 207
        }
      ]
    },
    {
      "cell_type": "code",
      "metadata": {
        "id": "R9iFizGI3xvb",
        "colab": {
          "base_uri": "https://localhost:8080/"
        },
        "outputId": "379a1644-cc4b-4950-9b94-55e7deb26ae6"
      },
      "source": [
        "census.loc[census[\"population\"] >= 20_000_000, \"area\"].sum()"
      ],
      "execution_count": null,
      "outputs": [
        {
          "output_type": "execute_result",
          "data": {
            "text/plain": [
              "1218946.4370999997"
            ]
          },
          "metadata": {
            "tags": []
          },
          "execution_count": 208
        }
      ]
    },
    {
      "cell_type": "code",
      "metadata": {
        "id": "xiYtko1L6eBw",
        "colab": {
          "base_uri": "https://localhost:8080/"
        },
        "outputId": "f9d6359f-2092-469e-e934-e509fb87ef39"
      },
      "source": [
        "population_percent = census.iloc[:, 1] / census.iloc[:, 0] * 100\r\n",
        "census.loc[(population_percent >= 1) == True, \"population\"].mean()"
      ],
      "execution_count": null,
      "outputs": [
        {
          "output_type": "execute_result",
          "data": {
            "text/plain": [
              "7307324.0"
            ]
          },
          "metadata": {
            "tags": []
          },
          "execution_count": 209
        }
      ]
    },
    {
      "cell_type": "code",
      "metadata": {
        "id": "MWuaiy8D_Xbd",
        "colab": {
          "base_uri": "https://localhost:8080/"
        },
        "outputId": "d87e7b4a-487e-4f5b-c8a1-69986cb99627"
      },
      "source": [
        "census.sort_values(\"density\", ascending=True).head(5).area.sum()"
      ],
      "execution_count": null,
      "outputs": [
        {
          "output_type": "execute_result",
          "data": {
            "text/plain": [
              "2481457.4771"
            ]
          },
          "metadata": {
            "tags": []
          },
          "execution_count": 210
        }
      ]
    },
    {
      "cell_type": "code",
      "metadata": {
        "id": "2b-oCrotAoJR",
        "colab": {
          "base_uri": "https://localhost:8080/"
        },
        "outputId": "094da0d1-ad6d-4171-966d-6ae87c34caff"
      },
      "source": [
        "census.sort_values(\"area\", ascending=False).iloc[2, 0]"
      ],
      "execution_count": null,
      "outputs": [
        {
          "output_type": "execute_result",
          "data": {
            "text/plain": [
              "38783436"
            ]
          },
          "metadata": {
            "tags": []
          },
          "execution_count": 211
        }
      ]
    }
  ]
}