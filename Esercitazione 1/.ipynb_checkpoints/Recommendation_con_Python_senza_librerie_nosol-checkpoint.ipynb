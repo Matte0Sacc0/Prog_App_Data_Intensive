{
 "cells": [
  {
   "cell_type": "markdown",
   "metadata": {
    "id": "jWFos3WkCzwA"
   },
   "source": [
    "# Laboratorio: Recommendation con Python (senza librerie)\n",
    "\n",
    "**Programmazione di Applicazioni Data Intensive**  \n",
    "Laurea in Ingegneria e Scienze Informatiche  \n",
    "DISI - Università di Bologna, Cesena\n",
    "\n",
    "Proff. Gianluca Moro, Roberto Pasolini  \n",
    "nome.cognome@unibo.it"
   ]
  },
  {
   "cell_type": "markdown",
   "metadata": {
    "id": "fe_MY2rBCzwI"
   },
   "source": [
    "## Introduzione a Jupyter/Colab\n",
    "\n",
    "- Questo è un file Jupyter (`.ipynb`)\n",
    "- Al suo interno si trovano celle di codice Python eseguibili\n",
    "- Eseguendo una cella, il risultato che si ottiene è riportato sotto la cella stessa\n",
    "  - stringhe stampate con `print` e/o risultato di un'espressione\n",
    "- Le celle di codice possono essere modificate e rieseguite liberamente"
   ]
  },
  {
   "cell_type": "markdown",
   "metadata": {
    "id": "Zbm1i_A4CzwJ"
   },
   "source": [
    "- Questo è un esempio di cella di codice:"
   ]
  },
  {
   "cell_type": "code",
   "execution_count": 173,
   "metadata": {
    "id": "vv5lJDDBCzwJ",
    "outputId": "f2f0284f-492c-4d52-b30e-952212b3ff90"
   },
   "outputs": [
    {
     "data": {
      "text/plain": [
       "42"
      ]
     },
     "execution_count": 173,
     "metadata": {},
     "output_type": "execute_result"
    }
   ],
   "source": [
    "20 + 20 + 2"
   ]
  },
  {
   "cell_type": "markdown",
   "metadata": {
    "id": "GZUDCb7DCzwK"
   },
   "source": [
    "- Cliccare sulla cella e premere **Maiusc + Invio** per eseguirla: il risultato dell'espressione comparirà sotto\n",
    "- Si può aggiungere una nuova cella di codice sotto a quella corrente\n",
    "  - cliccando sul pulsante \"+ Code\" che appare tra le celle in Colab\n",
    "  - cliccando sul pulsante \"+\" in alto in Jupyter"
   ]
  },
  {
   "cell_type": "markdown",
   "metadata": {
    "id": "OItVunZzCzwL"
   },
   "source": [
    "### Comandi principali da tastiera\n",
    "\n",
    "- **Ctrl + Invio**: esegui cella corrente\n",
    "- **Maiusc + Invio**: esegui cella corrente e seleziona la successiva\n",
    "- **Esc**: termina modifica (senza eseguire)\n",
    "\n",
    "I comandi sotto funzionano sulla cella selezionata solo se non se ne sta modificando il contenuto:\n",
    "- **Invio**: modifica contenuto\n",
    "- **A/B**: crea nuova cella sopra/sotto\n",
    "- **Ctrl+M** seguito da **D**: elimina cella (due volte D in Jupyter)"
   ]
  },
  {
   "cell_type": "markdown",
   "metadata": {
    "id": "kxylZm1vCzwL"
   },
   "source": [
    "### Autocompletamento e inline help\n",
    "\n",
    "- Nelle celle di codice sono forniti suggerimenti sul completamento di un nome di variabile, funzione, ecc.\n",
    "  - si provi ad es. a creare una cella di codice (tasto B), e digitare \"so\", Jupyter suggerisce ad es. la funzione `sorted`\n",
    "  - in Jupyter premere Tab dopo aver digitato \"so\" per attivare l'autocompletamento\n",
    "- Per ottenere informazioni in linea su una funzione o metodo `foo`, eseguire una cella con `foo?`\n",
    "  - in alternativa, usare la funzione `help` di Python: `help(foo)`"
   ]
  },
  {
   "cell_type": "code",
   "execution_count": 174,
   "metadata": {
    "id": "8wLnQoOYCzwL",
    "outputId": "c753d070-b0ee-4b94-bdfa-bd62bc567908"
   },
   "outputs": [
    {
     "data": {
      "text/plain": [
       "\u001b[1;31mSignature:\u001b[0m \u001b[0mlen\u001b[0m\u001b[1;33m(\u001b[0m\u001b[0mobj\u001b[0m\u001b[1;33m,\u001b[0m \u001b[1;33m/\u001b[0m\u001b[1;33m)\u001b[0m\u001b[1;33m\u001b[0m\u001b[1;33m\u001b[0m\u001b[0m\n",
       "\u001b[1;31mDocstring:\u001b[0m Return the number of items in a container.\n",
       "\u001b[1;31mType:\u001b[0m      builtin_function_or_method\n"
      ]
     },
     "metadata": {},
     "output_type": "display_data"
    }
   ],
   "source": [
    "len?"
   ]
  },
  {
   "cell_type": "code",
   "execution_count": 175,
   "metadata": {
    "id": "wcYaTlSACzwM",
    "outputId": "7b035601-436b-49aa-c6f5-ed4c403df1e2"
   },
   "outputs": [
    {
     "data": {
      "text/plain": [
       "\u001b[1;31mSignature:\u001b[0m \u001b[0mlist\u001b[0m\u001b[1;33m.\u001b[0m\u001b[0mappend\u001b[0m\u001b[1;33m(\u001b[0m\u001b[0mself\u001b[0m\u001b[1;33m,\u001b[0m \u001b[0mobject\u001b[0m\u001b[1;33m,\u001b[0m \u001b[1;33m/\u001b[0m\u001b[1;33m)\u001b[0m\u001b[1;33m\u001b[0m\u001b[1;33m\u001b[0m\u001b[0m\n",
       "\u001b[1;31mDocstring:\u001b[0m Append object to the end of the list.\n",
       "\u001b[1;31mType:\u001b[0m      method_descriptor\n"
      ]
     },
     "metadata": {},
     "output_type": "display_data"
    }
   ],
   "source": [
    "list.append?"
   ]
  },
  {
   "cell_type": "markdown",
   "metadata": {
    "id": "fsN28QTOCzwM"
   },
   "source": [
    "## Recommendation: Prevedere le propensioni di acquisto (e molto altro...)\n",
    "\n",
    "- Ogni azienda ha i dati storici di acquisto di ciascun cliente/utente\n",
    "- Vogliamo **raccomandare/suggerire ai singoli utenti quali prodotti acquistare** \n",
    "  - idea: utenti con storie di acquisti simili faranno probabilmente acquisti simili anche in futuro \n",
    "  - metodo: proponiamo ad ogni utente gli acquisti fatti da altri utenti con storico più simile al proprio\n",
    "- Vediamo come estrarre i suggerimenti sfruttando le **strutture dati standard di Python** e le operazioni che offrono\n",
    "  - vedremo poi come farlo in modo più efficiente con operazioni tra matrici...\n",
    "- Usiamo come esempio un set di dati ricavato da vendite su Amazon"
   ]
  },
  {
   "cell_type": "markdown",
   "metadata": {
    "id": "kUKa3xtQCzwN"
   },
   "source": [
    "## Scaricamento file dati\n",
    "\n",
    "- Un archivio ZIP con i file necessari per l'esercitazione si trova all'URL https://git.io/fhxQh\n",
    "- Eseguire la seguente cella di codice per\n",
    "  - verificare se il file ZIP con i dati è già presente\n",
    "  - scaricare il file ZIP se non è già presente\n",
    "  - estrarre i file nella cartella corrente\n",
    "- Si può vedere come la libreria standard di Python fornisca già funzioni per eseguire agevolmente queste operazioni"
   ]
  },
  {
   "cell_type": "code",
   "execution_count": 176,
   "metadata": {
    "id": "2X9Tj6HICzwN"
   },
   "outputs": [],
   "source": [
    "# importo le librerie necessarie\n",
    "import os.path\n",
    "from urllib.request import urlretrieve\n",
    "from zipfile import ZipFile\n",
    "\n",
    "# se il file \"purchases_data.zip\" non esiste\n",
    "if not os.path.exists(\"purchases_data.zip\"):\n",
    "    # scarica il file dall'URL indicato\n",
    "    urlretrieve(\"https://git.io/fhxQh\", \"purchases_data.zip\")\n",
    "    # apri il file zip ed estrai tutto il contenuto nella directory corrente\n",
    "    with ZipFile(\"purchases_data.zip\") as f:\n",
    "        f.extractall()"
   ]
  },
  {
   "cell_type": "markdown",
   "metadata": {
    "id": "ObyzWdP3CzwN"
   },
   "source": [
    "## Caricamento nomi utenti\n",
    "\n",
    "- Il file `users.csv` contiene un elenco degli utenti coinvolti nell'analisi\n",
    "  - sono stati selezionati gli utenti con almeno 30 acquisti nello storico\n",
    "- È un file CSV (_Comma Separated Values_) contenente una riga per ogni utente nel formato `IdUtente;Nome`\n",
    "- Possiamo usare il modulo `csv` della libreria standard di Python per leggere tali file in modo semplice\n",
    "- Importiamo il modulo per caricarlo in memoria"
   ]
  },
  {
   "cell_type": "code",
   "execution_count": 177,
   "metadata": {
    "id": "oLva9wY6CzwO"
   },
   "outputs": [],
   "source": [
    "import csv"
   ]
  },
  {
   "cell_type": "markdown",
   "metadata": {
    "id": "p_7szt8QCzwO"
   },
   "source": [
    "- Creiamo un dizionario `users` e inseriamo in esso i dati letti dal file\n",
    "  - vogliamo inserire un elemento per ogni utente, la cui chiave sia l'ID e il cui valore sia il nome"
   ]
  },
  {
   "cell_type": "code",
   "execution_count": 178,
   "metadata": {
    "id": "0tB2HS_vCzwO"
   },
   "outputs": [],
   "source": [
    "users = {}"
   ]
  },
  {
   "cell_type": "markdown",
   "metadata": {
    "id": "DrJG9ojDCzwO"
   },
   "source": [
    "- Per **aprire il file** utilizziamo la funzione `open` specificando il nome del file\n",
    "  - il file è aperto in lettura (`\"r\"`) e modalità testo"
   ]
  },
  {
   "cell_type": "code",
   "execution_count": 179,
   "metadata": {
    "id": "s1MYF6dBCzwO"
   },
   "outputs": [],
   "source": [
    "f = open(\"users.csv\", \"r\")"
   ]
  },
  {
   "cell_type": "markdown",
   "metadata": {
    "id": "ilLn5cnhCzwP"
   },
   "source": [
    "- L'oggetto `f` può essere iterato per ottenere le righe del file una alla volta\n",
    "- Usiamo però `csv.reader` su `f` per scomporre ogni riga in una **tupla di valori**\n",
    "  - specifichiamo che i valori sono separati da \";\""
   ]
  },
  {
   "cell_type": "code",
   "execution_count": 180,
   "metadata": {
    "id": "BKZbagWTCzwP"
   },
   "outputs": [],
   "source": [
    "reader = csv.reader(f, delimiter=\";\")"
   ]
  },
  {
   "cell_type": "markdown",
   "metadata": {
    "id": "cw5ENykjCzwP"
   },
   "source": [
    "- Col costrutto `for` iteriamo le righe del file\n",
    "  - iterando su tuple di 2 elementi ciascuna, l'_unpacking_ ci permette di scomporre ciascuna tupla in due variabili\n",
    "- Per ciascuna, inseriamo nel dizionario la coppia ID-nome\n",
    "  - nel far ciò, convertiamo l'ID da stringa a numero `int`"
   ]
  },
  {
   "cell_type": "code",
   "execution_count": 181,
   "metadata": {
    "id": "KWeo0AegCzwP"
   },
   "outputs": [],
   "source": [
    "for uid, name in reader:\n",
    "    users[int(uid)] = name"
   ]
  },
  {
   "cell_type": "markdown",
   "metadata": {
    "id": "57r8p4ZJCzwQ"
   },
   "source": [
    "- Una volta finito di leggere il file, lo chiudiamo"
   ]
  },
  {
   "cell_type": "code",
   "execution_count": 182,
   "metadata": {
    "id": "4TR0sAOvCzwQ"
   },
   "outputs": [],
   "source": [
    "f.close()"
   ]
  },
  {
   "cell_type": "markdown",
   "metadata": {
    "id": "01CAqFdvCzwQ"
   },
   "source": [
    "### Usare il costrutto with\n",
    "\n",
    "- Quando si lavora con un file, è consigliabile gestirne apertura e chiusura col costrutto `with`\n",
    "  - il file viene chiuso automaticamente all'uscita dell blocco `with`, anche in caso d'errore\n",
    "- Come esempio, ripetiamo la creazione e popolazione della struttura dati `users`"
   ]
  },
  {
   "cell_type": "code",
   "execution_count": 183,
   "metadata": {
    "id": "6WHWC7zyCzwQ"
   },
   "outputs": [],
   "source": [
    "users = {}\n",
    "with open(\"users.csv\", \"r\") as f:\n",
    "    reader = csv.reader(f, delimiter=\";\")\n",
    "    for uid, name in reader:\n",
    "        users[int(uid)] = name"
   ]
  },
  {
   "cell_type": "markdown",
   "metadata": {
    "id": "0zuckRggCzwQ"
   },
   "source": [
    "### Usare le comprehension\n",
    "\n",
    "- Abbiamo creato una collezione (un dizionario) rielaborando gli elementi (righe) di un iterabile (file)\n",
    "- Operazioni come questa si possono esprimere in Python in modo più compatto con le _comprehension_\n",
    "  - `f(a) for a in X` indica \"da ciascun elemento `a` estratto da un iterabile `X` calcola un'espressione `f(a)`\"\n",
    "- Per generare un dizionario scriviamo `{k: v for a in X}`\n",
    "  - per ciascun elemento `a` in `X` otteniamo una coppia con chiave `k` e valore `v`\n",
    "- Un modo equivalente per ottenere il dizionario `users` sopra è quindi questo:\n",
    "  - (scriviamo la comprehension su più righe per evidenziarne le parti, possiamo farlo perché dentro parentesi)"
   ]
  },
  {
   "cell_type": "code",
   "execution_count": 184,
   "metadata": {
    "id": "t3DwytCVCzwR"
   },
   "outputs": [],
   "source": [
    "with open(\"users.csv\", \"r\") as f:\n",
    "    users = {\n",
    "        int(uid): name\n",
    "        for uid, name\n",
    "        in csv.reader(f, delimiter=\";\")\n",
    "    }"
   ]
  },
  {
   "cell_type": "markdown",
   "metadata": {
    "id": "afjcImboCzwR"
   },
   "source": [
    "- Dal dizionario possiamo reperire il nome di un qualsiasi utente dato il suo ID"
   ]
  },
  {
   "cell_type": "code",
   "execution_count": 185,
   "metadata": {
    "id": "JecjSobzCzwS",
    "outputId": "84305132-9cd3-4822-ca5f-3d00e4cd4df9"
   },
   "outputs": [
    {
     "data": {
      "text/plain": [
       "'malachix'"
      ]
     },
     "execution_count": 185,
     "metadata": {},
     "output_type": "execute_result"
    }
   ],
   "source": [
    "users[84]"
   ]
  },
  {
   "cell_type": "markdown",
   "metadata": {
    "id": "L5imMI9aCzwS"
   },
   "source": [
    "- Tramite la funzione `len` possiamo contare il numero totale di utenti"
   ]
  },
  {
   "cell_type": "code",
   "execution_count": 186,
   "metadata": {
    "id": "eUsn4XmvCzwS",
    "outputId": "e7d4e163-2a3c-4012-dec5-6d0cbdff4c11"
   },
   "outputs": [
    {
     "data": {
      "text/plain": [
       "178"
      ]
     },
     "execution_count": 186,
     "metadata": {},
     "output_type": "execute_result"
    }
   ],
   "source": [
    "len(users)"
   ]
  },
  {
   "cell_type": "markdown",
   "metadata": {
    "id": "bTq5u2GpCzwT"
   },
   "source": [
    "### Esercizio 1: Caricamento nomi prodotti\n",
    "\n",
    "- Il file `items.csv` contiene i prodotti distinti acquistati dagli utenti sopra\n",
    "- Il formato del file è analogo a quello sopra, con righe `IdProdotto;Nome`\n",
    "- Ne salviamo il contenuto in un dizionario `items`, ottenuto come fatto sopra con `users`"
   ]
  },
  {
   "cell_type": "markdown",
   "metadata": {
    "id": "49WYi-YeCzwT"
   },
   "source": [
    "- **(1a)** Costruire un dizionario `items` in modo analogo a `users`\n",
    "  - anche quì assicurarsi di convertire gli ID prodotti in numeri `int`\n",
    "- **(1b)** Ottenere il numero totale di prodotti\n",
    "- **(1c)** Ottenere il nome del prodotto con ID 2669\n",
    "\n",
    "_(selezionare questa cella di testo e premere B per inserire una nuova cella di codice sotto in cui svolgere gli esercizi)_"
   ]
  },
  {
   "cell_type": "code",
   "execution_count": 187,
   "metadata": {},
   "outputs": [],
   "source": [
    "with open(\"items.csv\", \"r\") as f:\n",
    "    items = {\n",
    "        int(iid): name\n",
    "        for iid, name\n",
    "        in csv.reader(f, delimiter=\";\")\n",
    "    }"
   ]
  },
  {
   "cell_type": "code",
   "execution_count": 188,
   "metadata": {},
   "outputs": [
    {
     "data": {
      "text/plain": [
       "3384"
      ]
     },
     "execution_count": 188,
     "metadata": {},
     "output_type": "execute_result"
    }
   ],
   "source": [
    "len(items)"
   ]
  },
  {
   "cell_type": "code",
   "execution_count": 189,
   "metadata": {},
   "outputs": [
    {
     "data": {
      "text/plain": [
       "'Independence Day [VHS]'"
      ]
     },
     "execution_count": 189,
     "metadata": {},
     "output_type": "execute_result"
    }
   ],
   "source": [
    "items[2669]"
   ]
  },
  {
   "cell_type": "markdown",
   "metadata": {
    "id": "pZYeM_tvCzwT"
   },
   "source": [
    "## Caricamento dati acquisti\n",
    "\n",
    "- Il file CSV `purchases-2000.csv` contiene i dati sugli acquisti effettuati dagli utenti analizzati fino alla fine del 2000\n",
    "- Per ciascun acquisto registrato, il file contiene una riga `IdUtente;IdProdotto`\n",
    "- Usiamo le funzioni viste sopra per leggere il file, creando stavolta un insieme (`set`) di tuple `(uid, iid)`\n",
    "  - i `set` sono collezioni di oggetti senza un ordine definito (seguono il concetto matematico di insieme)\n",
    "  - i `set` possono contenere solo oggetti _immutabili_, come ad es. numeri, stringhe e tuple di oggetti a loro volta immutabili"
   ]
  },
  {
   "cell_type": "code",
   "execution_count": 190,
   "metadata": {
    "id": "Fl5t2Fe7CzwT"
   },
   "outputs": [],
   "source": [
    "with open(\"purchases-2000.csv\", \"r\") as f:\n",
    "    purchases = set(\n",
    "        (int(uid), int(iid))\n",
    "        for uid, iid\n",
    "        in csv.reader(f, delimiter=\";\")\n",
    "    )"
   ]
  },
  {
   "cell_type": "markdown",
   "metadata": {
    "id": "jz3GqfZZCzwT"
   },
   "source": [
    "### Esercizio 2: Analisi acquisti\n",
    "\n",
    "- **(2a)** Ottenere il numero di tuple caricate dal file\n",
    "- **(2b)** Ottenere il numero medio di acquisti effettuati da ogni utente"
   ]
  },
  {
   "cell_type": "code",
   "execution_count": 191,
   "metadata": {},
   "outputs": [
    {
     "data": {
      "text/plain": [
       "9683"
      ]
     },
     "execution_count": 191,
     "metadata": {},
     "output_type": "execute_result"
    }
   ],
   "source": [
    "len(purchases)"
   ]
  },
  {
   "cell_type": "code",
   "execution_count": 192,
   "metadata": {},
   "outputs": [
    {
     "data": {
      "text/plain": [
       "54.39887640449438"
      ]
     },
     "execution_count": 192,
     "metadata": {},
     "output_type": "execute_result"
    }
   ],
   "source": [
    "len(purchases) / len(users)"
   ]
  },
  {
   "cell_type": "markdown",
   "metadata": {
    "id": "TCW9yG0cCzwU"
   },
   "source": [
    "## Raggruppare gli acquisti per utente\n",
    "\n",
    "- Per lavorare agevolmente con questi dati, estraiamo un dizionario `purchases_by_user` che associ ad ogni ID utente l'insieme di ID dei prodotti che ha acquistato\n",
    "  - usiamo un ciclo `for` per scorrere tutte le coppie utente U - prodotto P\n",
    "  - per ogni coppia, se all'utente U non è associato un insieme di acquisti, ne associamo uno vuoto\n",
    "  - quindi aggiungiamo P all'insieme acquisti di U"
   ]
  },
  {
   "cell_type": "code",
   "execution_count": 193,
   "metadata": {
    "id": "uN9uvVvpCzwU"
   },
   "outputs": [],
   "source": [
    "purchases_by_user = {}\n",
    "for uid, iid in purchases:\n",
    "    if uid not in purchases_by_user:\n",
    "        purchases_by_user[uid] = set()\n",
    "    purchases_by_user[uid].add(iid)"
   ]
  },
  {
   "cell_type": "markdown",
   "metadata": {
    "id": "unr3MiufCzwU"
   },
   "source": [
    "- Possiamo abbreviare il codice sfruttando il metodo `setdefault` dei dizionari\n",
    "  - `d.setdefault(k, v)` restituisce `d[k]` impostandolo prima a `v` se non esistente"
   ]
  },
  {
   "cell_type": "code",
   "execution_count": 194,
   "metadata": {
    "id": "T3wKtUauCzwV"
   },
   "outputs": [],
   "source": [
    "purchases_by_user = {}\n",
    "for uid, iid in purchases:\n",
    "    purchases_by_user.setdefault(uid, set()).add(iid)"
   ]
  },
  {
   "cell_type": "markdown",
   "metadata": {
    "id": "pdrplgc-CzwV"
   },
   "source": [
    "- Possiamo verificare che ogni utente abbia effettivamente almeno 30 acquisti\n",
    "  - col metodo `values` iteriamo gli insiemi di oggetti acquistati (i soli valori, non le chiavi) nel dizionario `purchases_by_user`\n",
    "  - con `len` estraiamo il numero di elementi di ciascuno\n",
    "  - con `min` estraiamo il più piccolo di essi e verifichiamo che sia 30"
   ]
  },
  {
   "cell_type": "code",
   "execution_count": 195,
   "metadata": {
    "id": "Ji0rpuboCzwV",
    "outputId": "9ea551a4-3c33-4ee1-eb3e-dd73961990fd"
   },
   "outputs": [
    {
     "data": {
      "text/plain": [
       "30"
      ]
     },
     "execution_count": 195,
     "metadata": {},
     "output_type": "execute_result"
    }
   ],
   "source": [
    "min(len(itemset) for itemset in purchases_by_user.values())"
   ]
  },
  {
   "cell_type": "markdown",
   "metadata": {
    "id": "mgDQKA5xCzwV"
   },
   "source": [
    "- In alternativa alla comprehension possiamo usare la funzione `map(f, i)`, che applica una funzione `f` (quì `len`) a tutti gli elementi di un iterabile"
   ]
  },
  {
   "cell_type": "code",
   "execution_count": 196,
   "metadata": {
    "id": "m_557vRiCzwV",
    "outputId": "6fafb5af-b447-41a9-db56-ff0f74ac46b8"
   },
   "outputs": [
    {
     "data": {
      "text/plain": [
       "30"
      ]
     },
     "execution_count": 196,
     "metadata": {},
     "output_type": "execute_result"
    }
   ],
   "source": [
    "min(map(len, purchases_by_user.values()))"
   ]
  },
  {
   "cell_type": "markdown",
   "metadata": {
    "id": "RI8Ecxy1CzwW"
   },
   "source": [
    "### Esercizio 3: Raggruppare gli acquisti per prodotto\n",
    "\n",
    "- **(3a)** Costruire in modo simile a `purchases_by_user` un dizionario `purchases_by_item` che associ ad ogni ID di _prodotto_ l'insieme di ID degli _utenti_ che l'hanno acquistato\n",
    "- **(3b)** Ottenere il numero di acquisti del prodotto più venduto e di quello meno venduto"
   ]
  },
  {
   "cell_type": "code",
   "execution_count": 197,
   "metadata": {},
   "outputs": [],
   "source": [
    "purchases_by_item = {}\n",
    "for uid, iid in purchases:\n",
    "    purchases_by_item.setdefault(iid, set()).add(uid)"
   ]
  },
  {
   "cell_type": "code",
   "execution_count": 198,
   "metadata": {},
   "outputs": [
    {
     "data": {
      "text/plain": [
       "1"
      ]
     },
     "execution_count": 198,
     "metadata": {},
     "output_type": "execute_result"
    }
   ],
   "source": [
    "min(map(len, purchases_by_item.values()))"
   ]
  },
  {
   "cell_type": "code",
   "execution_count": 199,
   "metadata": {},
   "outputs": [
    {
     "ename": "TypeError",
     "evalue": "'int' object is not callable",
     "output_type": "error",
     "traceback": [
      "\u001b[1;31m---------------------------------------------------------------------------\u001b[0m",
      "\u001b[1;31mTypeError\u001b[0m                                 Traceback (most recent call last)",
      "\u001b[1;32m<ipython-input-199-1fc43f541c75>\u001b[0m in \u001b[0;36m<module>\u001b[1;34m\u001b[0m\n\u001b[1;32m----> 1\u001b[1;33m \u001b[0mmax\u001b[0m\u001b[1;33m(\u001b[0m\u001b[0mmap\u001b[0m\u001b[1;33m(\u001b[0m\u001b[0mlen\u001b[0m\u001b[1;33m,\u001b[0m \u001b[0mpurchases_by_item\u001b[0m\u001b[1;33m.\u001b[0m\u001b[0mvalues\u001b[0m\u001b[1;33m(\u001b[0m\u001b[1;33m)\u001b[0m\u001b[1;33m)\u001b[0m\u001b[1;33m)\u001b[0m\u001b[1;33m\u001b[0m\u001b[1;33m\u001b[0m\u001b[0m\n\u001b[0m",
      "\u001b[1;31mTypeError\u001b[0m: 'int' object is not callable"
     ]
    }
   ],
   "source": [
    "max(map(len, purchases_by_item.values()))"
   ]
  },
  {
   "cell_type": "markdown",
   "metadata": {
    "id": "9HbPVkYYCzwW"
   },
   "source": [
    "## Similarità tra utenti\n",
    "\n",
    "- Vogliamo suggerire prodotti agli utenti in base a **cos'hanno acquistato utenti simili**\n",
    "- Come determinare quanto due utenti siano \"simili\"?\n",
    "- Possiamo contare **quanti sono i prodotti che entrambi hanno acquistato**\n",
    "- Per ottenere i prodotti acquistati da entrambi due utenti, possiamo calcolare **l'intersezione** degli insiemi dei prodotti acquistati\n",
    "- Sugli insiemi si può usare l'operatore `&` (AND) per calcolare l'intersezione\n",
    "- Ad esempio, gli ID dei prodotti acquistati sia dall'utente con ID 84 che da quello con ID 7661 sono:"
   ]
  },
  {
   "cell_type": "code",
   "execution_count": 200,
   "metadata": {
    "id": "UqFnkMzXCzwW",
    "outputId": "5d3be490-36c6-4d2f-f1bb-670d9f04d62f"
   },
   "outputs": [
    {
     "data": {
      "text/plain": [
       "{5162, 43911, 43921, 100267}"
      ]
     },
     "execution_count": 200,
     "metadata": {},
     "output_type": "execute_result"
    }
   ],
   "source": [
    "purchases_by_user[84] & purchases_by_user[7661]"
   ]
  },
  {
   "cell_type": "markdown",
   "metadata": {
    "id": "Ac7yhepgCzwW"
   },
   "source": [
    "### Esercizio 4: Funzione per calcolo similarità\n",
    "\n",
    "- Creare una funzione `user_similarity` che, dati due ID utente `uid1` e `uid2`, restituisca il numero di prodotti nell'intersezione dei loro acquisti\n",
    "  - completare la definizione abbozzata sotto"
   ]
  },
  {
   "cell_type": "code",
   "execution_count": 201,
   "metadata": {
    "id": "XGuKqQBiCzwX"
   },
   "outputs": [],
   "source": [
    "def user_similarity(uid1, uid2):\n",
    "    return len(purchases_by_user[uid1] & purchases_by_user[uid2])"
   ]
  },
  {
   "cell_type": "markdown",
   "metadata": {
    "id": "ZVcmXfBWCzwX"
   },
   "source": [
    "- Eseguire la cella sotto per verificare la funzione sulla base dell'esempio sopra\n",
    "  - se la condizione data è soddisfatta non succede nulla, altrimenti `assert` genera un errore"
   ]
  },
  {
   "cell_type": "code",
   "execution_count": 202,
   "metadata": {
    "id": "4YWPbxRYCzwX"
   },
   "outputs": [],
   "source": [
    "assert user_similarity(84, 7661) == 4"
   ]
  },
  {
   "cell_type": "markdown",
   "metadata": {
    "id": "aFPX0Bc7CzwX"
   },
   "source": [
    "## Calcolo di tutte le similarità\n",
    "\n",
    "- Usiamo questa funzione per creare un dizionario `user_similiarities` che, ad ogni tupla con due ID utente, associa la loro similarità\n",
    "  - scorriamo tutti gli ID utente attraverso due cicli (`for`) innestati, eliminando le coppie di ID uguali\n",
    "  - _(per semplicità, lasciamo che la similarità di ogni coppia sia calcolata due volte)_"
   ]
  },
  {
   "cell_type": "code",
   "execution_count": 203,
   "metadata": {
    "id": "AUgKWYhmCzwX"
   },
   "outputs": [],
   "source": [
    "user_similarities = {\n",
    "    (i, j): user_similarity(i, j)\n",
    "    for i in users.keys()\n",
    "    for j in users.keys()\n",
    "    if i != j\n",
    "}"
   ]
  },
  {
   "cell_type": "markdown",
   "metadata": {
    "id": "Dh-FIoPsCzwY"
   },
   "source": [
    "- Ad esempio, riprendendo l'esempio sopra, la similarità tra gli utenti 84 e 7661 deve essere 4"
   ]
  },
  {
   "cell_type": "code",
   "execution_count": 204,
   "metadata": {
    "id": "rOfWGXooCzwY",
    "outputId": "215f5b74-4bf8-4957-c308-84dfe7fef54e"
   },
   "outputs": [
    {
     "data": {
      "text/plain": [
       "4"
      ]
     },
     "execution_count": 204,
     "metadata": {},
     "output_type": "execute_result"
    }
   ],
   "source": [
    "user_similarities[(84, 7661)]"
   ]
  },
  {
   "cell_type": "markdown",
   "metadata": {
    "id": "WwTUSUCZCzwY"
   },
   "source": [
    "### Esercizio 5: Stimare il potenziale interesse nei prodotti\n",
    "\n",
    "- Vogliamo stimare **quanto ciascun utente sia potenzialmente interessato** in ciascun prodotto non ancora acquistato\n",
    "- Possiamo stimarlo in base a quanto il prodotto **sia stato acquistato da utenti simili**\n",
    "- Associamo per ogni utente U e prodotto P un _punteggio d'interesse_ pari alla somma delle similarità degli altri utenti che hanno acquistato P\n",
    "- Creare una funzione `interest` che calcoli tale punteggio per un utente `uid` e un prodotto `iid` dati\n",
    "  - assicurarsi di iterare gli utenti che hanno acquistato `iid` escludendo `uid`\n",
    "  - usare la funzione `sum(...)` per sommare i valori ricavati da una comprehension"
   ]
  },
  {
   "cell_type": "code",
   "execution_count": 205,
   "metadata": {
    "id": "SBCowedACzwY"
   },
   "outputs": [],
   "source": [
    "def interest(uid, iid):\n",
    "    return sum(\n",
    "        user_similarities[(uid_gen, uid)]\n",
    "        for uid_gen in purchases_by_item[iid]\n",
    "        if uid_gen != uid\n",
    "    )"
   ]
  },
  {
   "cell_type": "markdown",
   "metadata": {
    "id": "kJTm9hixCzwZ"
   },
   "source": [
    "### Calcolo di tutti i punteggi d'interesse\n",
    "\n",
    "- Raccogliamo tutti i punteggi in un dizionario che associa ad ogni utente U un dizionario di punteggi d'interesse\n",
    "  - ciascuno associa a sua volta a ciascun prodotto il punteggio d'interesse\n",
    "  - sono però esclusi i prodotti già acquistati da U"
   ]
  },
  {
   "cell_type": "code",
   "execution_count": 206,
   "metadata": {
    "id": "ZR4WVqUNCzwZ"
   },
   "outputs": [],
   "source": [
    "interests_by_user = {\n",
    "    uid: {\n",
    "        iid: interest(uid, iid)\n",
    "        for iid in items.keys()\n",
    "        if iid not in purchases_by_user[uid]\n",
    "    } for uid in users.keys()\n",
    "}"
   ]
  },
  {
   "cell_type": "markdown",
   "metadata": {
    "id": "Vu4501WrCzwZ"
   },
   "source": [
    "- Ad esempio il punteggio d'interesse dell'utente 84 verso l'oggetto 2669 è"
   ]
  },
  {
   "cell_type": "code",
   "execution_count": 207,
   "metadata": {
    "id": "F-CHrFdcCzwa",
    "outputId": "8c87de36-0c98-47d1-d2c9-b6a08e06ba32"
   },
   "outputs": [
    {
     "data": {
      "text/plain": [
       "57"
      ]
     },
     "execution_count": 207,
     "metadata": {},
     "output_type": "execute_result"
    }
   ],
   "source": [
    "interests_by_user[84][2669]"
   ]
  },
  {
   "cell_type": "markdown",
   "metadata": {
    "id": "snqJeak_Czwa"
   },
   "source": [
    "### Esercizio 6: Estrazione punteggio massimo\n",
    "\n",
    "- Estrarre il valore del punteggio d'interesse massimo tra quelli calcolati"
   ]
  },
  {
   "cell_type": "code",
   "execution_count": 208,
   "metadata": {},
   "outputs": [],
   "source": [
    "max = 0\n",
    "for uid in users.keys():\n",
    "    for iid in interests_by_user[uid]:\n",
    "        if interests_by_user[uid][iid] > max:\n",
    "            max = interests_by_user[uid][iid]"
   ]
  },
  {
   "cell_type": "code",
   "execution_count": 209,
   "metadata": {},
   "outputs": [
    {
     "data": {
      "text/plain": [
       "462"
      ]
     },
     "execution_count": 209,
     "metadata": {},
     "output_type": "execute_result"
    }
   ],
   "source": [
    "max"
   ]
  },
  {
   "cell_type": "code",
   "execution_count": 210,
   "metadata": {},
   "outputs": [
    {
     "ename": "TypeError",
     "evalue": "'int' object is not callable",
     "output_type": "error",
     "traceback": [
      "\u001b[1;31m---------------------------------------------------------------------------\u001b[0m",
      "\u001b[1;31mTypeError\u001b[0m                                 Traceback (most recent call last)",
      "\u001b[1;32m<ipython-input-210-60316f08cd15>\u001b[0m in \u001b[0;36m<module>\u001b[1;34m\u001b[0m\n\u001b[1;32m----> 1\u001b[1;33m max(\n\u001b[0m\u001b[0;32m      2\u001b[0m     \u001b[0mpoi\u001b[0m\u001b[1;33m\u001b[0m\u001b[1;33m\u001b[0m\u001b[0m\n\u001b[0;32m      3\u001b[0m     \u001b[1;32mfor\u001b[0m \u001b[0muser\u001b[0m \u001b[1;32min\u001b[0m \u001b[0minterests_by_user\u001b[0m\u001b[1;33m.\u001b[0m\u001b[0mvalues\u001b[0m\u001b[1;33m(\u001b[0m\u001b[1;33m)\u001b[0m\u001b[1;33m\u001b[0m\u001b[1;33m\u001b[0m\u001b[0m\n\u001b[0;32m      4\u001b[0m     \u001b[1;32mfor\u001b[0m \u001b[0mpoi\u001b[0m \u001b[1;32min\u001b[0m \u001b[0muser\u001b[0m\u001b[1;33m.\u001b[0m\u001b[0mvalues\u001b[0m\u001b[1;33m(\u001b[0m\u001b[1;33m)\u001b[0m\u001b[1;33m\u001b[0m\u001b[1;33m\u001b[0m\u001b[0m\n\u001b[0;32m      5\u001b[0m )\n",
      "\u001b[1;31mTypeError\u001b[0m: 'int' object is not callable"
     ]
    }
   ],
   "source": [
    "max(\n",
    "    poi \n",
    "    for user in interests_by_user.values() \n",
    "    for poi in user.values()\n",
    ")"
   ]
  },
  {
   "cell_type": "markdown",
   "metadata": {
    "id": "9kRAYI9JCzwa"
   },
   "source": [
    "## Ottenere _N_ suggerimenti di acquisto per ogni utente\n",
    "\n",
    "- Da migliaia di prodotti nel catalogo, vogliamo suggerirne **un numero limitato ad ogni utente** massimizzando la probabilità di acquisto\n",
    "- Fissiamo un numero _N_ di prodotti da suggerire..."
   ]
  },
  {
   "cell_type": "code",
   "execution_count": 211,
   "metadata": {
    "id": "mir4N8gOCzwb"
   },
   "outputs": [],
   "source": [
    "N = 20"
   ]
  },
  {
   "cell_type": "markdown",
   "metadata": {
    "id": "pUleCzqVCzwb"
   },
   "source": [
    "- ...vogliamo selezionare per ogni utente gli **_N_ prodotti con \"potenziale interesse\" maggiore**"
   ]
  },
  {
   "cell_type": "markdown",
   "metadata": {
    "id": "ST7SLRQ-Czwb"
   },
   "source": [
    "- Estraiamo ad esempio _N_ prodotti suggeriti per l'utente con ID 84\n",
    "- Da `interests_by_user` estraiamo delle tuple `(IdOggetto, Punteggio)`\n",
    "  - usiamo il metodo `items` per estrarre tutte le coppie chiave-valore di un dizionario in forma di tuple"
   ]
  },
  {
   "cell_type": "code",
   "execution_count": 212,
   "metadata": {
    "id": "liR-CWoKCzwb"
   },
   "outputs": [
    {
     "data": {
      "text/plain": [
       "3346"
      ]
     },
     "execution_count": 212,
     "metadata": {},
     "output_type": "execute_result"
    }
   ],
   "source": [
    "interests_of_user_84 = interests_by_user[84].items()\n",
    "len(interests_of_user_84)"
   ]
  },
  {
   "cell_type": "markdown",
   "metadata": {
    "id": "sWUAp80RCzwc"
   },
   "source": [
    "- Usiamo la funzione `sorted` per ottenere una lista con gli elementi in ordine\n",
    "  - col parametro `key` specifichiamo un criterio d'ordinamento\n",
    "    - usiamo una funzione lambda che estragga da ogni tupla `x` il secondo elemento `x[1]`, cioè il punteggio\n",
    "  - normalmente l'ordinamento è in ordine crescente, impostiamolo in ordine decrescente con `reverse=True`"
   ]
  },
  {
   "cell_type": "code",
   "execution_count": 213,
   "metadata": {
    "id": "xIUdO_5xCzwc"
   },
   "outputs": [],
   "source": [
    "sorted_interests_of_user_84 = \\\n",
    "    sorted(interests_of_user_84,\n",
    "           key=lambda x: x[1],\n",
    "           reverse=True)"
   ]
  },
  {
   "cell_type": "markdown",
   "metadata": {
    "id": "Zt3DsZRqCzwc"
   },
   "source": [
    "- Abbiamo così una lista di tuple `(IdOggetto, Punteggio)` ordinate da quelle con punteggio maggiore\n",
    "  - vediamo ad esempio le prime 5"
   ]
  },
  {
   "cell_type": "code",
   "execution_count": 214,
   "metadata": {
    "id": "UGQ3Yv1rCzwc",
    "outputId": "a214719c-bb7e-44cc-cbc3-271e8adfbc9b"
   },
   "outputs": [
    {
     "data": {
      "text/plain": [
       "[(57372, 127), (59817, 97), (44030, 96), (57190, 86), (7989, 73)]"
      ]
     },
     "execution_count": 214,
     "metadata": {},
     "output_type": "execute_result"
    }
   ],
   "source": [
    "sorted_interests_of_user_84[:5]"
   ]
  },
  {
   "cell_type": "code",
   "execution_count": 215,
   "metadata": {},
   "outputs": [
    {
     "data": {
      "text/plain": [
       "127"
      ]
     },
     "execution_count": 215,
     "metadata": {},
     "output_type": "execute_result"
    }
   ],
   "source": [
    "iid, pid = sorted_interests_of_user_84[0]\n",
    "pid"
   ]
  },
  {
   "cell_type": "markdown",
   "metadata": {
    "id": "y0J3GAcxCzwc"
   },
   "source": [
    "### Esercizio 7: Ottenere i suggerimenti per un utente\n",
    "\n",
    "- **(7a)** Estrarre da quest'ultima lista un insieme degli ID degli _N_ prodotti da suggerire all'utente\n",
    "  - estrarre solo gli ID dei prodotti, scartando i punteggi\n",
    "- **(7b)** Definire una funzione `suggest` che, dato un ID utente `uid` arbitrario, restituisca un insieme simile di ID di _N_ prodotti seguendo la procedura descritta"
   ]
  },
  {
   "cell_type": "code",
   "execution_count": 216,
   "metadata": {
    "id": "bkBsfOK3Czwd"
   },
   "outputs": [],
   "source": [
    "suggestions_for_user_84 = [pid for pid, point in sorted_interests_of_user_84[0:N]]"
   ]
  },
  {
   "cell_type": "code",
   "execution_count": 217,
   "metadata": {},
   "outputs": [
    {
     "data": {
      "text/plain": [
       "[57372,\n",
       " 59817,\n",
       " 44030,\n",
       " 57190,\n",
       " 7989,\n",
       " 43290,\n",
       " 95843,\n",
       " 43586,\n",
       " 60230,\n",
       " 96456,\n",
       " 96025,\n",
       " 96454,\n",
       " 60041,\n",
       " 101103,\n",
       " 2669,\n",
       " 44037,\n",
       " 56561,\n",
       " 95480,\n",
       " 5288,\n",
       " 7985]"
      ]
     },
     "execution_count": 217,
     "metadata": {},
     "output_type": "execute_result"
    }
   ],
   "source": [
    "suggestions_for_user_84"
   ]
  },
  {
   "cell_type": "code",
   "execution_count": 218,
   "metadata": {},
   "outputs": [
    {
     "data": {
      "text/plain": [
       "1131446"
      ]
     },
     "execution_count": 218,
     "metadata": {},
     "output_type": "execute_result"
    }
   ],
   "source": [
    "sum(suggestions_for_user_84)"
   ]
  },
  {
   "cell_type": "code",
   "execution_count": 219,
   "metadata": {
    "id": "TcuapRcCCzwd"
   },
   "outputs": [],
   "source": [
    "def suggest(uid):\n",
    "    sorted_interests_of_user = sorted(interests_by_user[uid].items(), key=lambda x: x[1], reverse=True)\n",
    "    return [pid for pid, point in sorted_interests_of_user[0:N]]"
   ]
  },
  {
   "cell_type": "markdown",
   "metadata": {
    "id": "jYhS6IqRCzwd"
   },
   "source": [
    "- Applichiamo la funzione così definita a tutti gli utenti"
   ]
  },
  {
   "cell_type": "code",
   "execution_count": 220,
   "metadata": {
    "id": "3DoyfKeMCzwd"
   },
   "outputs": [],
   "source": [
    "suggestions_by_user = {uid: suggest(uid) for uid in users.keys()}"
   ]
  },
  {
   "cell_type": "markdown",
   "metadata": {
    "id": "qXG9kI6MCzwd"
   },
   "source": [
    "- Abbiamo così per ciascun utente un set di _N_ prodotti non precedentemente acquistati da suggerire"
   ]
  },
  {
   "cell_type": "code",
   "execution_count": 221,
   "metadata": {
    "id": "tJvjpKDyCzwd",
    "outputId": "90b237dc-3ec8-4097-ab03-a24fe4319de1"
   },
   "outputs": [
    {
     "name": "stdout",
     "output_type": "stream",
     "text": [
      "[57372, 59817, 44030, 57190, 7989, 43290, 95843, 43586, 60230, 96456, 96025, 96454, 60041, 101103, 2669, 44037, 56561, 95480, 5288, 7985]\n"
     ]
    }
   ],
   "source": [
    "print(suggestions_by_user[84])"
   ]
  },
  {
   "cell_type": "code",
   "execution_count": 222,
   "metadata": {},
   "outputs": [
    {
     "data": {
      "text/plain": [
       "1131446"
      ]
     },
     "execution_count": 222,
     "metadata": {},
     "output_type": "execute_result"
    }
   ],
   "source": [
    "sum(suggestions_by_user[84])"
   ]
  },
  {
   "cell_type": "markdown",
   "metadata": {
    "id": "jEYKvC2sCzwe"
   },
   "source": [
    "- Ad esempio, per l'utente 84, stampiamo i titoli dei film che ha acquistato...\n",
    "  - sostituire `\"; \"` con `\"\\n\"` (interruzione di riga) per visualizzare i titoli uno sotto l'altro"
   ]
  },
  {
   "cell_type": "code",
   "execution_count": 223,
   "metadata": {
    "id": "zVRkQRrICzwe",
    "outputId": "91e4a4d7-21d3-4496-e6a3-f01cafdba4cd"
   },
   "outputs": [
    {
     "name": "stdout",
     "output_type": "stream",
     "text": [
      "Eyes Wide Shut [VHS]; The Lion King [VHS]; The Matrix; Batman & Robin [VHS]; Blade [VHS]; First Knight [VHS]; Omen 3: The Final Conflict [VHS]; Summer of Sam [VHS]; The World Is Not Enough [VHS]; The Chinese Connection [VHS]; Enter the Dragon [VHS]; Star Wars - Episode I, The Phantom Menace [VHS]; Fists of Fury [VHS]; Lost World: Jurassic Park [VHS]; Alien [VHS]; Batman Returns (1992); Beloved; Reservoir Dogs [VHS]; Total Recall; Touch of Evil [VHS]; Batman Forever; Inspector Gadget; Enemy of the State; Blade Runner (The Director's Cut); Tomorrow Never Dies (Limited Edition Gift Pack) [VHS]; Aliens [VHS]; A Bug's Life; Return of the Dragon [VHS]; Batman (1989); The Exorcist; Lost in Space [VHS]; GoldenEye (Special Edition); Excalibur [VHS]; Alien Resurrection [VHS]; Alien 3 [VHS]; Godzilla [VHS]; Game of Death [VHS]; Jurassic Park (Widescreen Edition) [VHS]\n"
     ]
    }
   ],
   "source": [
    "print(\"; \".join(items[iid] for iid in purchases_by_user[84]))"
   ]
  },
  {
   "cell_type": "markdown",
   "metadata": {
    "id": "KaXMPcMnCzwe"
   },
   "source": [
    "- ...e i titoli dei film suggeriti"
   ]
  },
  {
   "cell_type": "code",
   "execution_count": 224,
   "metadata": {
    "id": "c1_qkq5QCzwe",
    "outputId": "499f4970-b113-49e3-c2ef-2bb001aa4880"
   },
   "outputs": [
    {
     "name": "stdout",
     "output_type": "stream",
     "text": [
      "The Sixth Sense [VHS]; Saving Private Ryan [VHS]; Sleepy Hollow; Curse of the Blair Witch [VHS]; Fight Club; The Green Mile [VHS]; Jaws [VHS]; Galaxy Quest [VHS]; Three Kings; Titanic [VHS]; American Pie - Rated Edition (Special Edition) [VHS]; The Talented Mr. Ripley; Deep Blue Sea; Abyss [VHS]; Independence Day [VHS]; Double Jeopardy; Armageddon [VHS]; Dogma [VHS]; Being John Malkovich; The Insider\n"
     ]
    }
   ],
   "source": [
    "print(\"; \".join(items[iid] for iid in suggestions_by_user[84]))"
   ]
  },
  {
   "cell_type": "markdown",
   "metadata": {
    "id": "PTDgzddVCzwe"
   },
   "source": [
    "## Accuratezza dei suggerimenti di acquisto\n",
    "\n",
    "- Come valutare se i suggerimenti ottenuti in questo modo siano azzeccati?\n",
    "- Una possibilità consiste nel verificare **se gli oggetti suggeriti siano stati effettivamente acquistati** in un successivo momento\n",
    "- Nel file `purchases-2014.csv` è fornita una seconda lista di acquisti aggiornata, che include anche quelli successivi al 2000\n",
    "  - utenti e prodotti sono limitati a quelli già caricati in `users` e `items`\n",
    "- Possiamo quindi confrontare i prodotti suggeriti con questa nuova matrice\n",
    "- Carichiamo l'insieme di tuple da questo file come abbiamo fatto per il precedente"
   ]
  },
  {
   "cell_type": "code",
   "execution_count": 225,
   "metadata": {
    "id": "h_eze9ekCzwf"
   },
   "outputs": [],
   "source": [
    "with open(\"purchases-2014.csv\", \"r\") as f:\n",
    "    purchases_updated = set(\n",
    "        (int(uid), int(iid))\n",
    "        for uid, iid\n",
    "        in csv.reader(f, delimiter=\";\")\n",
    "    )"
   ]
  },
  {
   "cell_type": "markdown",
   "metadata": {
    "id": "j0-9mXg4Czwf"
   },
   "source": [
    "### Selezionare solo i nuovi acquisti\n",
    "\n",
    "- Il nuovo file riporta **tutti** gli acquisti, compresi quelli già indicati nel file precedente\n",
    "- Vogliamo un insieme dei soli acquisti successivi all'analisi svolta sopra\n",
    "- Possiamo ottenerlo calcolando la differenza tra gli insiemi di acquisti, tramite l'operatore `-`"
   ]
  },
  {
   "cell_type": "code",
   "execution_count": 226,
   "metadata": {
    "id": "-56cq_GxCzwf"
   },
   "outputs": [],
   "source": [
    "new_purchases = purchases_updated - purchases"
   ]
  },
  {
   "cell_type": "markdown",
   "metadata": {
    "id": "SoPMPlAYCzwf"
   },
   "source": [
    "### Esercizio 8\n",
    "\n",
    "- **(8a)** Costruire un dizionario `new_purchases_by_user` simile a `purchases_by_user` creato in precedenza, con i nuovi acquisti raggruppati per utente\n",
    "- **(8b)** Individuare il numero di nuovi acquisti massimo e quello medio per ogni utente"
   ]
  },
  {
   "cell_type": "markdown",
   "metadata": {
    "id": "GRts939wCzwf"
   },
   "source": [
    "### Quali nuovi acquisti sono stati suggeriti?\n",
    "\n",
    "- Abbiamo ora i dizionari\n",
    "  - `suggestions_by_user` con gli acquisti _suggeriti_\n",
    "  - `new_purchases_by_user` con i nuovi acquisti _effettivi_\n",
    "- Da questi possiamo individuare quali sono i suggerimenti **validi**, quelli a cui dopo l'analisi è corrisposto un acquisto\n",
    "- Consideriamo un utente _soddisfatto_ se ha ricevuto **almeno un suggerimento valido**\n",
    "- Individuiamo l'insieme degli utenti soddisfatti individuando quelli dove l'intersezione tra suggerimenti e nuovi acquisti non è vuota\n",
    "  - usando un insieme (o altra collezione) in `if`, otteniamo `True` se e solo se l'insieme non è vuoto\n",
    "  - dato che alcuni utenti non sono presenti come chiavi in `new_purchases_by_user`, usiamo il metodo `d.get(k, v)` per restituire un valore default `v` se `d[k]` non esiste"
   ]
  },
  {
   "cell_type": "code",
   "execution_count": 227,
   "metadata": {
    "id": "llo_M-cHCzwf"
   },
   "outputs": [
    {
     "ename": "NameError",
     "evalue": "name 'new_purchases_by_user' is not defined",
     "output_type": "error",
     "traceback": [
      "\u001b[1;31m---------------------------------------------------------------------------\u001b[0m",
      "\u001b[1;31mNameError\u001b[0m                                 Traceback (most recent call last)",
      "\u001b[1;32m<ipython-input-227-9b0b09e68aac>\u001b[0m in \u001b[0;36m<module>\u001b[1;34m\u001b[0m\n\u001b[1;32m----> 1\u001b[1;33m satisfied_users = {uid for uid in users.keys()\n\u001b[0m\u001b[0;32m      2\u001b[0m                    if suggestions_by_user[uid] & new_purchases_by_user.get(uid, set())}\n",
      "\u001b[1;32m<ipython-input-227-9b0b09e68aac>\u001b[0m in \u001b[0;36m<setcomp>\u001b[1;34m(.0)\u001b[0m\n\u001b[0;32m      1\u001b[0m satisfied_users = {uid for uid in users.keys()\n\u001b[1;32m----> 2\u001b[1;33m                    if suggestions_by_user[uid] & new_purchases_by_user.get(uid, set())}\n\u001b[0m",
      "\u001b[1;31mNameError\u001b[0m: name 'new_purchases_by_user' is not defined"
     ]
    }
   ],
   "source": [
    "satisfied_users = {uid for uid in users.keys()\n",
    "                   if suggestions_by_user[uid] & new_purchases_by_user.get(uid, set())}"
   ]
  },
  {
   "cell_type": "markdown",
   "metadata": {
    "id": "3GEvsrr2Czwg"
   },
   "source": [
    "- Quanti sono gli utenti soddisfatti?"
   ]
  },
  {
   "cell_type": "code",
   "execution_count": null,
   "metadata": {
    "id": "efHKlO7eCzwg",
    "outputId": "cd047c65-4777-414e-f069-ba91a09b1fce"
   },
   "outputs": [
    {
     "data": {
      "text/plain": [
       "62"
      ]
     },
     "execution_count": 57,
     "metadata": {
      "tags": []
     },
     "output_type": "execute_result"
    }
   ],
   "source": [
    "len(satisfied_users)"
   ]
  },
  {
   "cell_type": "markdown",
   "metadata": {
    "id": "-9PHSruWCzwg"
   },
   "source": [
    "- Quanti sono come percentuale rispetto al totale degli utenti analizzati?"
   ]
  },
  {
   "cell_type": "code",
   "execution_count": null,
   "metadata": {
    "id": "3Xo37XizCzwg",
    "outputId": "64f967c4-17b3-42c7-afaf-17405fbbda0c"
   },
   "outputs": [
    {
     "data": {
      "text/plain": [
       "0.34831460674157305"
      ]
     },
     "execution_count": 58,
     "metadata": {
      "tags": []
     },
     "output_type": "execute_result"
    }
   ],
   "source": [
    "len(satisfied_users) / len(users)"
   ]
  },
  {
   "cell_type": "markdown",
   "metadata": {
    "id": "1Z5nEIoFCzwg"
   },
   "source": [
    "- Abbiamo quindi suggerito **almeno un prodotto valido** per circa **un terzo degli utenti**"
   ]
  },
  {
   "cell_type": "markdown",
   "metadata": {
    "id": "FFp4uGGxCzwh"
   },
   "source": [
    "## Sviluppi successivi\n",
    "\n",
    "- Abbiamo quì visto come usare le strutture dati e le funzioni standard di Python per un compito pratico\n",
    "- Nel prossimo laboratorio vedremo come ottenere lo stesso risultato tramite **operazioni tra matrici e algebra lineare**"
   ]
  },
  {
   "cell_type": "markdown",
   "metadata": {
    "id": "UMFO91f6Czwh"
   },
   "source": [
    "## Esercizio avanzato: Confronto con una selezione casuale di prodotti\n",
    "\n",
    "_(si propone come esercizio da svolgere opzionalmente dopo la lezione)_\n",
    "\n",
    "- Per valutare quanto il risultato ottenuto sia buono, possiamo misurare cosa otterremmo **suggerendo _N_ prodotti a caso** a ciascun utente\n",
    "- Con questa procedura, si verifica che si otterrebbe una percentuale di clienti soddisfatti intorno al **13%**, contro il **35%** ottenuto sopra\n",
    "- Per generare numeri casuali, usiamo il modulo `random` di Python"
   ]
  },
  {
   "cell_type": "code",
   "execution_count": null,
   "metadata": {
    "id": "1Lh5QOpZCzwh"
   },
   "outputs": [],
   "source": [
    "import random"
   ]
  },
  {
   "cell_type": "markdown",
   "metadata": {
    "id": "yHpk2td2Czwh"
   },
   "source": [
    "- Per ottenere risultati riproducibili, impostiamo un valore fisso come seed"
   ]
  },
  {
   "cell_type": "code",
   "execution_count": null,
   "metadata": {
    "id": "44aItYvJCzwh"
   },
   "outputs": [],
   "source": [
    "random.seed(1234567)"
   ]
  },
  {
   "cell_type": "markdown",
   "metadata": {
    "id": "d_mQ7kBMCzwh"
   },
   "source": [
    "- **1)** creare una funzione `suggest_random` che, dato un ID utente, restituisca una lista di _N_ ID prodotti casuali tra quelli che non risultano da lui acquistati nel dataset del 2000\n",
    "  - per un utente `uid`, gli ID dei prodotti non acquistati sono le chiavi di `interests_by_user[uid]`\n",
    "  - la funzione `sample(x, k)` del modulo `random` seleziona una lista di k elementi casuali da x\n",
    "  - tale lista va convertita in un `set` per compatibilità con i passaggi successivi"
   ]
  },
  {
   "cell_type": "code",
   "execution_count": null,
   "metadata": {
    "id": "w8i0nJlOCzwi"
   },
   "outputs": [],
   "source": [
    "def suggest_random(uid):\n",
    "    ..."
   ]
  },
  {
   "cell_type": "markdown",
   "metadata": {
    "id": "JBRALaj3Czwi"
   },
   "source": [
    "- **2)** usare la funzione per creare un dizionario `random_suggestions_by_user` che associ ad ogni utente i suoi suggerimenti casuali\n",
    "  - come riferimento si usi la creazione del dizionario `suggestions_by_user` sopra"
   ]
  },
  {
   "cell_type": "markdown",
   "metadata": {
    "id": "-qHJjuCDCzwi"
   },
   "source": [
    "- **3)** creare un insieme `randomly_satisfied_users` con gli ID degli utenti per cui almeno un prodotto tra i suggerimenti casuali è stato acquistato in seguito\n",
    "  - usare `satisfied_users` come riferimento"
   ]
  },
  {
   "cell_type": "markdown",
   "metadata": {
    "id": "x1RlqeaTCzwi"
   },
   "source": [
    "- **4)** calcolare la percentuale di utenti in `randomly_satisfied_users` rispetto al totale"
   ]
  },
  {
   "cell_type": "markdown",
   "metadata": {
    "id": "F6MG7HODCzwi"
   },
   "source": [
    "- **Extra.** Questa percentuale può cambiare variando il valore `seed` in alto. Rieseguire i calcoli sopra con 2-3 seed differenti, quindi calcolare la percentuale media su 1.000 prove con seed diversi."
   ]
  }
 ],
 "metadata": {
  "colab": {
   "name": "Copia di Recommendation_con_Python_senza_librerie.nosol.ipynb",
   "provenance": [],
   "toc_visible": true
  },
  "kernelspec": {
   "display_name": "Python 3",
   "language": "python",
   "name": "python3"
  },
  "language_info": {
   "codemirror_mode": {
    "name": "ipython",
    "version": 3
   },
   "file_extension": ".py",
   "mimetype": "text/x-python",
   "name": "python",
   "nbconvert_exporter": "python",
   "pygments_lexer": "ipython3",
   "version": "3.9.1"
  }
 },
 "nbformat": 4,
 "nbformat_minor": 4
}
