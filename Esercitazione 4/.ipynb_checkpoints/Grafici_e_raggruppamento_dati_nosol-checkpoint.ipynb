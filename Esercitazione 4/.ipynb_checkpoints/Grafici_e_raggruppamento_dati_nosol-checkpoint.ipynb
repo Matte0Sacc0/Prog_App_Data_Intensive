{
  "nbformat": 4,
  "nbformat_minor": 0,
  "metadata": {
    "colab": {
      "name": "Grafici_e_raggruppamento_dati.nosol.ipynb",
      "provenance": []
    },
    "language_info": {
      "name": "python"
    },
    "kernelspec": {
      "name": "python3",
      "display_name": "Python 3"
    }
  },
  "cells": [
    {
      "cell_type": "markdown",
      "metadata": {
        "id": "gkC20ZRduNZE"
      },
      "source": [
        "# Laboratorio: Grafici e Raggruppamento di Dati con pandas\n",
        "\n",
        "**Programmazione di Applicazioni Data Intensive**  \n",
        "Laurea in Ingegneria e Scienze Informatiche  \n",
        "DISI - Università di Bologna, Cesena\n",
        "\n",
        "Proff. Gianluca Moro, Roberto Pasolini  \n",
        "`nome.cognome@unibo.it`"
      ]
    },
    {
      "cell_type": "code",
      "metadata": {
        "id": "0Mw1zKXguNZK"
      },
      "source": [
        "# test librerie\n",
        "import numpy, pandas, matplotlib"
      ],
      "execution_count": 1,
      "outputs": []
    },
    {
      "cell_type": "markdown",
      "metadata": {
        "id": "mJ0YLli3uNZK"
      },
      "source": [
        "## Dataset: Mance dei clienti di un ristorante\n",
        "\n",
        "- _tips_ è un set di dati raccolti ipoteticamente da un cameriere di un ristorante sulle mance che ha ricevuto dai clienti in un certo periodo di tempo\n",
        "- Scarichiamo il dataset in locale"
      ]
    },
    {
      "cell_type": "code",
      "metadata": {
        "id": "pb7hYvIduNZL"
      },
      "source": [
        "import os.path\n",
        "if not os.path.exists(\"tips.csv\"):\n",
        "    from urllib.request import urlretrieve\n",
        "    urlretrieve(\"https://git.io/JYJNP\", \"tips.csv\")"
      ],
      "execution_count": 2,
      "outputs": []
    },
    {
      "cell_type": "markdown",
      "metadata": {
        "id": "kEOx2vrruNZL"
      },
      "source": [
        "- Usiamo la funzione `read_csv` per caricare il file e visualizziamone alcune righe"
      ]
    },
    {
      "cell_type": "code",
      "metadata": {
        "id": "hsHACXueuNZL"
      },
      "source": [
        "import numpy as np\n",
        "import pandas as pd\n",
        "tips = pd.read_csv(\"tips.csv\")"
      ],
      "execution_count": 3,
      "outputs": []
    },
    {
      "cell_type": "code",
      "metadata": {
        "id": "C7mN9ityuNZM",
        "colab": {
          "base_uri": "https://localhost:8080/",
          "height": 195
        },
        "outputId": "9101a12e-5273-44ab-f1cd-dec11181f390"
      },
      "source": [
        "tips.head()"
      ],
      "execution_count": 4,
      "outputs": [
        {
          "output_type": "execute_result",
          "data": {
            "text/html": [
              "<div>\n",
              "<style scoped>\n",
              "    .dataframe tbody tr th:only-of-type {\n",
              "        vertical-align: middle;\n",
              "    }\n",
              "\n",
              "    .dataframe tbody tr th {\n",
              "        vertical-align: top;\n",
              "    }\n",
              "\n",
              "    .dataframe thead th {\n",
              "        text-align: right;\n",
              "    }\n",
              "</style>\n",
              "<table border=\"1\" class=\"dataframe\">\n",
              "  <thead>\n",
              "    <tr style=\"text-align: right;\">\n",
              "      <th></th>\n",
              "      <th>total_bill</th>\n",
              "      <th>tip</th>\n",
              "      <th>sex</th>\n",
              "      <th>smoker</th>\n",
              "      <th>day</th>\n",
              "      <th>time</th>\n",
              "      <th>size</th>\n",
              "    </tr>\n",
              "  </thead>\n",
              "  <tbody>\n",
              "    <tr>\n",
              "      <th>0</th>\n",
              "      <td>16.99</td>\n",
              "      <td>1.01</td>\n",
              "      <td>Female</td>\n",
              "      <td>No</td>\n",
              "      <td>Sun</td>\n",
              "      <td>Dinner</td>\n",
              "      <td>2</td>\n",
              "    </tr>\n",
              "    <tr>\n",
              "      <th>1</th>\n",
              "      <td>10.34</td>\n",
              "      <td>1.66</td>\n",
              "      <td>Male</td>\n",
              "      <td>No</td>\n",
              "      <td>Sun</td>\n",
              "      <td>Dinner</td>\n",
              "      <td>3</td>\n",
              "    </tr>\n",
              "    <tr>\n",
              "      <th>2</th>\n",
              "      <td>21.01</td>\n",
              "      <td>3.50</td>\n",
              "      <td>Male</td>\n",
              "      <td>No</td>\n",
              "      <td>Sun</td>\n",
              "      <td>Dinner</td>\n",
              "      <td>3</td>\n",
              "    </tr>\n",
              "    <tr>\n",
              "      <th>3</th>\n",
              "      <td>23.68</td>\n",
              "      <td>3.31</td>\n",
              "      <td>Male</td>\n",
              "      <td>No</td>\n",
              "      <td>Sun</td>\n",
              "      <td>Dinner</td>\n",
              "      <td>2</td>\n",
              "    </tr>\n",
              "    <tr>\n",
              "      <th>4</th>\n",
              "      <td>24.59</td>\n",
              "      <td>3.61</td>\n",
              "      <td>Female</td>\n",
              "      <td>No</td>\n",
              "      <td>Sun</td>\n",
              "      <td>Dinner</td>\n",
              "      <td>4</td>\n",
              "    </tr>\n",
              "  </tbody>\n",
              "</table>\n",
              "</div>"
            ],
            "text/plain": [
              "   total_bill   tip     sex smoker  day    time  size\n",
              "0       16.99  1.01  Female     No  Sun  Dinner     2\n",
              "1       10.34  1.66    Male     No  Sun  Dinner     3\n",
              "2       21.01  3.50    Male     No  Sun  Dinner     3\n",
              "3       23.68  3.31    Male     No  Sun  Dinner     2\n",
              "4       24.59  3.61  Female     No  Sun  Dinner     4"
            ]
          },
          "metadata": {
            "tags": []
          },
          "execution_count": 4
        }
      ]
    },
    {
      "cell_type": "markdown",
      "metadata": {
        "id": "9AyJK2ADuNZN"
      },
      "source": [
        "### Significati delle colonne\n",
        "\n",
        "- `total_bill`: totale del conto\n",
        "- `tip` mancia lasciata dal cliente pagante\n",
        "- `sex`: sesso del cliente pagante\n",
        "- `smoker`: se nel gruppo erano presenti fumatori\n",
        "- `day`: giorno della settimana\n",
        "- `time`: pranzo o cena\n",
        "- `size`: numero di persone al tavolo\n",
        "\n",
        "I tipi dei dati sono:\n",
        "- numeri decimali in `total_bill` e `tip` (quantità di denaro)\n",
        "- numeri interi in `size`\n",
        "- categorici nelle altre colonne"
      ]
    },
    {
      "cell_type": "markdown",
      "metadata": {
        "id": "GmIQF7PKuNZO"
      },
      "source": [
        "### Tipi di dato e consumo di memoria\n",
        "\n",
        "- Possiamo vedere i tipi delle colonne assegnati da pandas e la memoria occupata dal DataFrame col metodo `info`"
      ]
    },
    {
      "cell_type": "code",
      "metadata": {
        "id": "HlfwxwWguNZO",
        "colab": {
          "base_uri": "https://localhost:8080/"
        },
        "outputId": "4f66c372-2932-4377-9154-d727a70287f4"
      },
      "source": [
        "tips.info(memory_usage=\"deep\")"
      ],
      "execution_count": 5,
      "outputs": [
        {
          "output_type": "stream",
          "text": [
            "<class 'pandas.core.frame.DataFrame'>\n",
            "RangeIndex: 244 entries, 0 to 243\n",
            "Data columns (total 7 columns):\n",
            " #   Column      Non-Null Count  Dtype  \n",
            "---  ------      --------------  -----  \n",
            " 0   total_bill  244 non-null    float64\n",
            " 1   tip         244 non-null    float64\n",
            " 2   sex         244 non-null    object \n",
            " 3   smoker      244 non-null    object \n",
            " 4   day         244 non-null    object \n",
            " 5   time        244 non-null    object \n",
            " 6   size        244 non-null    int64  \n",
            "dtypes: float64(2), int64(1), object(4)\n",
            "memory usage: 64.0 KB\n"
          ],
          "name": "stdout"
        }
      ]
    },
    {
      "cell_type": "markdown",
      "metadata": {
        "id": "jAdP99_quNZP"
      },
      "source": [
        "- Le colonne `sex`, `smoker`, `day` e `time` sono considerate di tipo `object` in quanto stringhe, ma sappiamo che sono categoriche"
      ]
    },
    {
      "cell_type": "markdown",
      "metadata": {
        "id": "L82gbjuMuNZP"
      },
      "source": [
        "- Carichiamo nuovamente il DataFrame specificando con l'opzione `dtype` che tali colonne sono di tipo `category`"
      ]
    },
    {
      "cell_type": "code",
      "metadata": {
        "id": "Mwa18RjNuNZP"
      },
      "source": [
        "custom_dtypes = {\n",
        "    \"sex\": \"category\",\n",
        "    \"smoker\": \"category\",\n",
        "    \"day\": \"category\",\n",
        "    \"time\": \"category\",\n",
        "}\n",
        "tips = pd.read_csv(\"tips.csv\", dtype=custom_dtypes)"
      ],
      "execution_count": 7,
      "outputs": []
    },
    {
      "cell_type": "markdown",
      "metadata": {
        "id": "OTqyTb-ruNZP"
      },
      "source": [
        "- Otteniamo un DataFrame con gli stessi dati sopra..."
      ]
    },
    {
      "cell_type": "code",
      "metadata": {
        "id": "IVvxwVCluNZQ",
        "colab": {
          "base_uri": "https://localhost:8080/",
          "height": 136
        },
        "outputId": "d28c0dea-9152-4748-e2a4-e0d408e1d55b"
      },
      "source": [
        "tips.head(3)"
      ],
      "execution_count": 8,
      "outputs": [
        {
          "output_type": "execute_result",
          "data": {
            "text/html": [
              "<div>\n",
              "<style scoped>\n",
              "    .dataframe tbody tr th:only-of-type {\n",
              "        vertical-align: middle;\n",
              "    }\n",
              "\n",
              "    .dataframe tbody tr th {\n",
              "        vertical-align: top;\n",
              "    }\n",
              "\n",
              "    .dataframe thead th {\n",
              "        text-align: right;\n",
              "    }\n",
              "</style>\n",
              "<table border=\"1\" class=\"dataframe\">\n",
              "  <thead>\n",
              "    <tr style=\"text-align: right;\">\n",
              "      <th></th>\n",
              "      <th>total_bill</th>\n",
              "      <th>tip</th>\n",
              "      <th>sex</th>\n",
              "      <th>smoker</th>\n",
              "      <th>day</th>\n",
              "      <th>time</th>\n",
              "      <th>size</th>\n",
              "    </tr>\n",
              "  </thead>\n",
              "  <tbody>\n",
              "    <tr>\n",
              "      <th>0</th>\n",
              "      <td>16.99</td>\n",
              "      <td>1.01</td>\n",
              "      <td>Female</td>\n",
              "      <td>No</td>\n",
              "      <td>Sun</td>\n",
              "      <td>Dinner</td>\n",
              "      <td>2</td>\n",
              "    </tr>\n",
              "    <tr>\n",
              "      <th>1</th>\n",
              "      <td>10.34</td>\n",
              "      <td>1.66</td>\n",
              "      <td>Male</td>\n",
              "      <td>No</td>\n",
              "      <td>Sun</td>\n",
              "      <td>Dinner</td>\n",
              "      <td>3</td>\n",
              "    </tr>\n",
              "    <tr>\n",
              "      <th>2</th>\n",
              "      <td>21.01</td>\n",
              "      <td>3.50</td>\n",
              "      <td>Male</td>\n",
              "      <td>No</td>\n",
              "      <td>Sun</td>\n",
              "      <td>Dinner</td>\n",
              "      <td>3</td>\n",
              "    </tr>\n",
              "  </tbody>\n",
              "</table>\n",
              "</div>"
            ],
            "text/plain": [
              "   total_bill   tip     sex smoker  day    time  size\n",
              "0       16.99  1.01  Female     No  Sun  Dinner     2\n",
              "1       10.34  1.66    Male     No  Sun  Dinner     3\n",
              "2       21.01  3.50    Male     No  Sun  Dinner     3"
            ]
          },
          "metadata": {
            "tags": []
          },
          "execution_count": 8
        }
      ]
    },
    {
      "cell_type": "markdown",
      "metadata": {
        "id": "dXMvbr-JuNZQ"
      },
      "source": [
        "- ...ma con occupazione di memoria ridotta di quasi 10 volte"
      ]
    },
    {
      "cell_type": "code",
      "metadata": {
        "id": "mVAhWyIBuNZQ",
        "colab": {
          "base_uri": "https://localhost:8080/"
        },
        "outputId": "517a1f19-7a36-4694-c9b7-d4ecee22043f"
      },
      "source": [
        "tips.info(memory_usage=\"deep\")"
      ],
      "execution_count": 9,
      "outputs": [
        {
          "output_type": "stream",
          "text": [
            "<class 'pandas.core.frame.DataFrame'>\n",
            "RangeIndex: 244 entries, 0 to 243\n",
            "Data columns (total 7 columns):\n",
            " #   Column      Non-Null Count  Dtype   \n",
            "---  ------      --------------  -----   \n",
            " 0   total_bill  244 non-null    float64 \n",
            " 1   tip         244 non-null    float64 \n",
            " 2   sex         244 non-null    category\n",
            " 3   smoker      244 non-null    category\n",
            " 4   day         244 non-null    category\n",
            " 5   time        244 non-null    category\n",
            " 6   size        244 non-null    int64   \n",
            "dtypes: category(4), float64(2), int64(1)\n",
            "memory usage: 7.5 KB\n"
          ],
          "name": "stdout"
        }
      ]
    },
    {
      "cell_type": "markdown",
      "metadata": {
        "id": "zAo_BbIJuNZQ"
      },
      "source": [
        "- In ciascuna colonna/serie categorica potranno essere contenuti solo i valori possibili per ciascuna\n",
        "  - quando si stampa la serie, i valori possibili si vedono nel riepilogo in fondo"
      ]
    },
    {
      "cell_type": "code",
      "metadata": {
        "id": "_Z2QDSSTuNZR",
        "colab": {
          "base_uri": "https://localhost:8080/"
        },
        "outputId": "0828d152-a9a6-4cc4-c77f-f5e0ebaf7859"
      },
      "source": [
        "tips[\"day\"]   .head(3)"
      ],
      "execution_count": 10,
      "outputs": [
        {
          "output_type": "execute_result",
          "data": {
            "text/plain": [
              "0    Sun\n",
              "1    Sun\n",
              "2    Sun\n",
              "Name: day, dtype: category\n",
              "Categories (4, object): ['Fri', 'Sat', 'Sun', 'Thur']"
            ]
          },
          "metadata": {
            "tags": []
          },
          "execution_count": 10
        }
      ]
    },
    {
      "cell_type": "markdown",
      "metadata": {
        "id": "tGy0PtiduNZR"
      },
      "source": [
        "- Il risparmio di memoria conta poco per dataset piccoli come questo, ma può fare la differenza per dataset molto grandi\n",
        "- Se si ha un file molto grande, è possibile leggere solo le prime N righe con l'opzione `nrows=N`, analizzare i valori caricati e impostare i tipi di colonna appropriati prima di caricarlo per intero"
      ]
    },
    {
      "cell_type": "code",
      "metadata": {
        "id": "N-8gy3fPuNZR",
        "colab": {
          "base_uri": "https://localhost:8080/",
          "height": 166
        },
        "outputId": "b2d96bb0-4439-4179-b0a8-2cd7761c0a0a"
      },
      "source": [
        "pd.read_csv(\"tips.csv\", nrows=4)"
      ],
      "execution_count": 11,
      "outputs": [
        {
          "output_type": "execute_result",
          "data": {
            "text/html": [
              "<div>\n",
              "<style scoped>\n",
              "    .dataframe tbody tr th:only-of-type {\n",
              "        vertical-align: middle;\n",
              "    }\n",
              "\n",
              "    .dataframe tbody tr th {\n",
              "        vertical-align: top;\n",
              "    }\n",
              "\n",
              "    .dataframe thead th {\n",
              "        text-align: right;\n",
              "    }\n",
              "</style>\n",
              "<table border=\"1\" class=\"dataframe\">\n",
              "  <thead>\n",
              "    <tr style=\"text-align: right;\">\n",
              "      <th></th>\n",
              "      <th>total_bill</th>\n",
              "      <th>tip</th>\n",
              "      <th>sex</th>\n",
              "      <th>smoker</th>\n",
              "      <th>day</th>\n",
              "      <th>time</th>\n",
              "      <th>size</th>\n",
              "    </tr>\n",
              "  </thead>\n",
              "  <tbody>\n",
              "    <tr>\n",
              "      <th>0</th>\n",
              "      <td>16.99</td>\n",
              "      <td>1.01</td>\n",
              "      <td>Female</td>\n",
              "      <td>No</td>\n",
              "      <td>Sun</td>\n",
              "      <td>Dinner</td>\n",
              "      <td>2</td>\n",
              "    </tr>\n",
              "    <tr>\n",
              "      <th>1</th>\n",
              "      <td>10.34</td>\n",
              "      <td>1.66</td>\n",
              "      <td>Male</td>\n",
              "      <td>No</td>\n",
              "      <td>Sun</td>\n",
              "      <td>Dinner</td>\n",
              "      <td>3</td>\n",
              "    </tr>\n",
              "    <tr>\n",
              "      <th>2</th>\n",
              "      <td>21.01</td>\n",
              "      <td>3.50</td>\n",
              "      <td>Male</td>\n",
              "      <td>No</td>\n",
              "      <td>Sun</td>\n",
              "      <td>Dinner</td>\n",
              "      <td>3</td>\n",
              "    </tr>\n",
              "    <tr>\n",
              "      <th>3</th>\n",
              "      <td>23.68</td>\n",
              "      <td>3.31</td>\n",
              "      <td>Male</td>\n",
              "      <td>No</td>\n",
              "      <td>Sun</td>\n",
              "      <td>Dinner</td>\n",
              "      <td>2</td>\n",
              "    </tr>\n",
              "  </tbody>\n",
              "</table>\n",
              "</div>"
            ],
            "text/plain": [
              "   total_bill   tip     sex smoker  day    time  size\n",
              "0       16.99  1.01  Female     No  Sun  Dinner     2\n",
              "1       10.34  1.66    Male     No  Sun  Dinner     3\n",
              "2       21.01  3.50    Male     No  Sun  Dinner     3\n",
              "3       23.68  3.31    Male     No  Sun  Dinner     2"
            ]
          },
          "metadata": {
            "tags": []
          },
          "execution_count": 11
        }
      ]
    },
    {
      "cell_type": "markdown",
      "metadata": {
        "id": "KZVA8crKuNZR"
      },
      "source": [
        "### Esercizio 1: Ripasso operazioni sui `DataFrame`\n",
        "\n",
        "Estrarre le seguenti informazioni senza aggiungere colonne al frame o modificarlo in altri modi\n",
        "\n",
        "- **(1a)** numero di persone nella prima riga della tabella (la cui etichetta è 0)\n",
        "  - promemoria: `DataFrame.loc[riga, colonna]`\n",
        "- **(1b)** tutti i dati (cioè l'intera riga) relativi al tavolo col totale del conto più alto\n",
        "  - promemoria: `Serie.idxmax()` = etichetta del valore più alto\n",
        "- **(1c)** media delle mance ricevute\n",
        "- **(1d)** spesa media per persona più alta in un tavolo"
      ]
    },
    {
      "cell_type": "code",
      "metadata": {
        "colab": {
          "base_uri": "https://localhost:8080/"
        },
        "id": "yadBU7kEvyvu",
        "outputId": "6b41394e-3eb9-41d9-c432-04954c4e4864"
      },
      "source": [
        "tips.loc[0, 'size']"
      ],
      "execution_count": 13,
      "outputs": [
        {
          "output_type": "execute_result",
          "data": {
            "text/plain": [
              "2"
            ]
          },
          "metadata": {
            "tags": []
          },
          "execution_count": 13
        }
      ]
    },
    {
      "cell_type": "code",
      "metadata": {
        "colab": {
          "base_uri": "https://localhost:8080/"
        },
        "id": "Z6Uw5so7wABj",
        "outputId": "879408cd-3e1f-4464-e82c-09ac2fde8fe6"
      },
      "source": [
        "tips.loc[tips['total_bill'].idxmax()]"
      ],
      "execution_count": 14,
      "outputs": [
        {
          "output_type": "execute_result",
          "data": {
            "text/plain": [
              "total_bill     50.81\n",
              "tip               10\n",
              "sex             Male\n",
              "smoker           Yes\n",
              "day              Sat\n",
              "time          Dinner\n",
              "size               3\n",
              "Name: 170, dtype: object"
            ]
          },
          "metadata": {
            "tags": []
          },
          "execution_count": 14
        }
      ]
    },
    {
      "cell_type": "code",
      "metadata": {
        "colab": {
          "base_uri": "https://localhost:8080/"
        },
        "id": "w1LsbjygwMZ1",
        "outputId": "78c434c5-8772-46f5-e2b5-46669b37b8e1"
      },
      "source": [
        "tips['tip'].mean()"
      ],
      "execution_count": 15,
      "outputs": [
        {
          "output_type": "execute_result",
          "data": {
            "text/plain": [
              "2.9982786885245902"
            ]
          },
          "metadata": {
            "tags": []
          },
          "execution_count": 15
        }
      ]
    },
    {
      "cell_type": "code",
      "metadata": {
        "colab": {
          "base_uri": "https://localhost:8080/"
        },
        "id": "nTZaJut3wSLB",
        "outputId": "753e7f14-f20a-4236-ffce-a6250f83d973"
      },
      "source": [
        "np.max(tips[\"total_bill\"]/tips[\"size\"])"
      ],
      "execution_count": 18,
      "outputs": [
        {
          "output_type": "execute_result",
          "data": {
            "text/plain": [
              "20.275"
            ]
          },
          "metadata": {
            "tags": []
          },
          "execution_count": 18
        }
      ]
    },
    {
      "cell_type": "markdown",
      "metadata": {
        "id": "NXnQtKDFuNZS"
      },
      "source": [
        "## Statistiche di base\n",
        "\n",
        "- Analizziamo la distribuzione dei dati nelle colonne\n",
        "- Per le colonne numeriche, possiamo ottenere delle statistiche di base con `describe` (utilizzabile sia su singole serie che su frame)"
      ]
    },
    {
      "cell_type": "code",
      "metadata": {
        "id": "CcJbDDZpuNZS",
        "colab": {
          "base_uri": "https://localhost:8080/",
          "height": 284
        },
        "outputId": "f542d9a9-14bf-461c-9338-7f3c57426595"
      },
      "source": [
        "tips.describe()"
      ],
      "execution_count": 19,
      "outputs": [
        {
          "output_type": "execute_result",
          "data": {
            "text/html": [
              "<div>\n",
              "<style scoped>\n",
              "    .dataframe tbody tr th:only-of-type {\n",
              "        vertical-align: middle;\n",
              "    }\n",
              "\n",
              "    .dataframe tbody tr th {\n",
              "        vertical-align: top;\n",
              "    }\n",
              "\n",
              "    .dataframe thead th {\n",
              "        text-align: right;\n",
              "    }\n",
              "</style>\n",
              "<table border=\"1\" class=\"dataframe\">\n",
              "  <thead>\n",
              "    <tr style=\"text-align: right;\">\n",
              "      <th></th>\n",
              "      <th>total_bill</th>\n",
              "      <th>tip</th>\n",
              "      <th>size</th>\n",
              "    </tr>\n",
              "  </thead>\n",
              "  <tbody>\n",
              "    <tr>\n",
              "      <th>count</th>\n",
              "      <td>244.000000</td>\n",
              "      <td>244.000000</td>\n",
              "      <td>244.000000</td>\n",
              "    </tr>\n",
              "    <tr>\n",
              "      <th>mean</th>\n",
              "      <td>19.785943</td>\n",
              "      <td>2.998279</td>\n",
              "      <td>2.569672</td>\n",
              "    </tr>\n",
              "    <tr>\n",
              "      <th>std</th>\n",
              "      <td>8.902412</td>\n",
              "      <td>1.383638</td>\n",
              "      <td>0.951100</td>\n",
              "    </tr>\n",
              "    <tr>\n",
              "      <th>min</th>\n",
              "      <td>3.070000</td>\n",
              "      <td>1.000000</td>\n",
              "      <td>1.000000</td>\n",
              "    </tr>\n",
              "    <tr>\n",
              "      <th>25%</th>\n",
              "      <td>13.347500</td>\n",
              "      <td>2.000000</td>\n",
              "      <td>2.000000</td>\n",
              "    </tr>\n",
              "    <tr>\n",
              "      <th>50%</th>\n",
              "      <td>17.795000</td>\n",
              "      <td>2.900000</td>\n",
              "      <td>2.000000</td>\n",
              "    </tr>\n",
              "    <tr>\n",
              "      <th>75%</th>\n",
              "      <td>24.127500</td>\n",
              "      <td>3.562500</td>\n",
              "      <td>3.000000</td>\n",
              "    </tr>\n",
              "    <tr>\n",
              "      <th>max</th>\n",
              "      <td>50.810000</td>\n",
              "      <td>10.000000</td>\n",
              "      <td>6.000000</td>\n",
              "    </tr>\n",
              "  </tbody>\n",
              "</table>\n",
              "</div>"
            ],
            "text/plain": [
              "       total_bill         tip        size\n",
              "count  244.000000  244.000000  244.000000\n",
              "mean    19.785943    2.998279    2.569672\n",
              "std      8.902412    1.383638    0.951100\n",
              "min      3.070000    1.000000    1.000000\n",
              "25%     13.347500    2.000000    2.000000\n",
              "50%     17.795000    2.900000    2.000000\n",
              "75%     24.127500    3.562500    3.000000\n",
              "max     50.810000   10.000000    6.000000"
            ]
          },
          "metadata": {
            "tags": []
          },
          "execution_count": 19
        }
      ]
    },
    {
      "cell_type": "markdown",
      "metadata": {
        "id": "-x9ZUoc7uNZS"
      },
      "source": [
        "- Vediamo ad esempio che la mancia media è di circa 3\\\\$ e nella metà \"centrale\" dei casi (tra il 25° e il 75° percentile) è compresa tra 2\\\\$ e 3,5\\\\$"
      ]
    },
    {
      "cell_type": "markdown",
      "metadata": {
        "id": "IjBw7xqCuNZT"
      },
      "source": [
        "- Si può inoltre usare il metodo `agg` (forma breve di `aggregate`) per ottenere una lista di statistiche specificata"
      ]
    },
    {
      "cell_type": "code",
      "metadata": {
        "id": "GgPkJSdTuNZT",
        "colab": {
          "base_uri": "https://localhost:8080/",
          "height": 166
        },
        "outputId": "f136d90d-83d9-41f4-99f8-021aa5e4c9d2"
      },
      "source": [
        "tips.agg([\"sum\", \"mean\", \"std\",         \"median\"])\n",
        "#         somma, media,  dev. standard, mediana"
      ],
      "execution_count": 20,
      "outputs": [
        {
          "output_type": "execute_result",
          "data": {
            "text/html": [
              "<div>\n",
              "<style scoped>\n",
              "    .dataframe tbody tr th:only-of-type {\n",
              "        vertical-align: middle;\n",
              "    }\n",
              "\n",
              "    .dataframe tbody tr th {\n",
              "        vertical-align: top;\n",
              "    }\n",
              "\n",
              "    .dataframe thead th {\n",
              "        text-align: right;\n",
              "    }\n",
              "</style>\n",
              "<table border=\"1\" class=\"dataframe\">\n",
              "  <thead>\n",
              "    <tr style=\"text-align: right;\">\n",
              "      <th></th>\n",
              "      <th>total_bill</th>\n",
              "      <th>tip</th>\n",
              "      <th>size</th>\n",
              "    </tr>\n",
              "  </thead>\n",
              "  <tbody>\n",
              "    <tr>\n",
              "      <th>sum</th>\n",
              "      <td>4827.770000</td>\n",
              "      <td>731.580000</td>\n",
              "      <td>627.000000</td>\n",
              "    </tr>\n",
              "    <tr>\n",
              "      <th>mean</th>\n",
              "      <td>19.785943</td>\n",
              "      <td>2.998279</td>\n",
              "      <td>2.569672</td>\n",
              "    </tr>\n",
              "    <tr>\n",
              "      <th>std</th>\n",
              "      <td>8.902412</td>\n",
              "      <td>1.383638</td>\n",
              "      <td>0.951100</td>\n",
              "    </tr>\n",
              "    <tr>\n",
              "      <th>median</th>\n",
              "      <td>17.795000</td>\n",
              "      <td>2.900000</td>\n",
              "      <td>2.000000</td>\n",
              "    </tr>\n",
              "  </tbody>\n",
              "</table>\n",
              "</div>"
            ],
            "text/plain": [
              "         total_bill         tip        size\n",
              "sum     4827.770000  731.580000  627.000000\n",
              "mean      19.785943    2.998279    2.569672\n",
              "std        8.902412    1.383638    0.951100\n",
              "median    17.795000    2.900000    2.000000"
            ]
          },
          "metadata": {
            "tags": []
          },
          "execution_count": 20
        }
      ]
    },
    {
      "cell_type": "markdown",
      "metadata": {
        "id": "MGbJkFubuNZT"
      },
      "source": [
        "- Oltre a quelle sopra, altre statistiche includono \"count\" (conteggio valori non mancanti), \"min\" e \"max\""
      ]
    },
    {
      "cell_type": "markdown",
      "metadata": {
        "id": "BGINcrufuNZT"
      },
      "source": [
        "- Per le colonne nominali, possiamo usare il metodo `value_counts` su ciascuna per analizzarne la distribuzione dei valori\n",
        "- Ad esempio, otteniamo i conteggi di valori `Male` e `Female` nella colonna `sex`"
      ]
    },
    {
      "cell_type": "code",
      "metadata": {
        "id": "yGlRFLKFuNZU",
        "colab": {
          "base_uri": "https://localhost:8080/"
        },
        "outputId": "8e3b5a21-54f1-415a-a6af-dfb1915476ce"
      },
      "source": [
        "tips[\"sex\"].value_counts()"
      ],
      "execution_count": 21,
      "outputs": [
        {
          "output_type": "execute_result",
          "data": {
            "text/plain": [
              "Male      157\n",
              "Female     87\n",
              "Name: sex, dtype: int64"
            ]
          },
          "metadata": {
            "tags": []
          },
          "execution_count": 21
        }
      ]
    },
    {
      "cell_type": "markdown",
      "metadata": {
        "id": "1OsEwvDcuNZU"
      },
      "source": [
        "- Specificando `normalize=True` otteniamo le frequenze relative, in pratica le percentuali sul totale"
      ]
    },
    {
      "cell_type": "code",
      "metadata": {
        "id": "NLUKF30wuNZU",
        "colab": {
          "base_uri": "https://localhost:8080/"
        },
        "outputId": "3da7ef65-77bd-4aee-e270-76714e5f6b0e"
      },
      "source": [
        "tips[\"sex\"].value_counts(normalize=True)"
      ],
      "execution_count": 22,
      "outputs": [
        {
          "output_type": "execute_result",
          "data": {
            "text/plain": [
              "Male      0.643443\n",
              "Female    0.356557\n",
              "Name: sex, dtype: float64"
            ]
          },
          "metadata": {
            "tags": []
          },
          "execution_count": 22
        }
      ]
    },
    {
      "cell_type": "markdown",
      "metadata": {
        "id": "5hF9OdDCuNZU"
      },
      "source": [
        "- Vediamo ad esempio che il conto è stato pagato da un uomo nel 64\\% dei casi"
      ]
    },
    {
      "cell_type": "markdown",
      "metadata": {
        "id": "tDV2D9COuNZU"
      },
      "source": [
        "- Per svolgere un'analisi simile su colonne numeriche continue, possiamo eseguirne il _binning_ (o _discretizzazione_)\n",
        "- L'intero intervallo di valori possibili di una serie è suddiviso in fasce (_bin_) e ogni valore è sostituito con la fascia in cui ricade\n",
        "  - la funzione `cut` crea un dato numero di fasce di **uguale ampiezza** o definite manualmente\n",
        "  - la funzione `qcut` crea un dato numero di fasce suddividendo i campioni in **parti uguali**\n",
        "  - in tutti i casi si ottiene una serie categorica, dove i valori possibili sono le fasce\n",
        "- Dividiamo ad esempio i totali dei conti in 4 fasce di uguale ampiezza e contiamo quanti sono in ciascuna"
      ]
    },
    {
      "cell_type": "code",
      "metadata": {
        "id": "_aupiO1puNZV",
        "colab": {
          "base_uri": "https://localhost:8080/"
        },
        "outputId": "48aab170-1f12-43eb-f2ca-ca19b736e01b"
      },
      "source": [
        "pd.cut(tips[\"total_bill\"], 4)   .head(5)"
      ],
      "execution_count": 25,
      "outputs": [
        {
          "output_type": "execute_result",
          "data": {
            "text/plain": [
              "0    (15.005, 26.94]\n",
              "1    (3.022, 15.005]\n",
              "2    (15.005, 26.94]\n",
              "3    (15.005, 26.94]\n",
              "4    (15.005, 26.94]\n",
              "Name: total_bill, dtype: category\n",
              "Categories (4, interval[float64]): [(3.022, 15.005] < (15.005, 26.94] < (26.94, 38.875] <\n",
              "                                    (38.875, 50.81]]"
            ]
          },
          "metadata": {
            "tags": []
          },
          "execution_count": 25
        }
      ]
    },
    {
      "cell_type": "code",
      "metadata": {
        "id": "DugHwW0wuNZV",
        "colab": {
          "base_uri": "https://localhost:8080/"
        },
        "outputId": "9a72ee31-636a-404e-e027-8fa616cf2454"
      },
      "source": [
        "pd.cut(tips[\"total_bill\"], 4).value_counts()"
      ],
      "execution_count": 26,
      "outputs": [
        {
          "output_type": "execute_result",
          "data": {
            "text/plain": [
              "(15.005, 26.94]    119\n",
              "(3.022, 15.005]     80\n",
              "(26.94, 38.875]     34\n",
              "(38.875, 50.81]     11\n",
              "Name: total_bill, dtype: int64"
            ]
          },
          "metadata": {
            "tags": []
          },
          "execution_count": 26
        }
      ]
    },
    {
      "cell_type": "markdown",
      "metadata": {
        "id": "s8C01mfvuNZV"
      },
      "source": [
        "### Esercizio 2: Analisi esplorativa\n",
        "\n",
        "- **(2a)** Estrarre le statistiche di base (`describe`) sulla spesa media per persona ai tavoli\n",
        "- **(2b)** Suddividere la percentuale della mancia rispetto al totale in 3 fasce di uguale ampiezza ed estrarre il numero di conti in ciascuna"
      ]
    },
    {
      "cell_type": "code",
      "metadata": {
        "colab": {
          "base_uri": "https://localhost:8080/"
        },
        "id": "v6Jtgr2vwmKt",
        "outputId": "a3730c55-5df6-4808-c5f7-4770287ca31d"
      },
      "source": [
        "(tips['total_bill'] / tips['size']).describe()"
      ],
      "execution_count": 40,
      "outputs": [
        {
          "output_type": "execute_result",
          "data": {
            "text/plain": [
              "count    244.00000\n",
              "mean       7.88823\n",
              "std        2.91435\n",
              "min        2.87500\n",
              "25%        5.80250\n",
              "50%        7.25500\n",
              "75%        9.39000\n",
              "max       20.27500\n",
              "dtype: float64"
            ]
          },
          "metadata": {
            "tags": []
          },
          "execution_count": 40
        }
      ]
    },
    {
      "cell_type": "code",
      "metadata": {
        "colab": {
          "base_uri": "https://localhost:8080/"
        },
        "id": "cEBTax4Gwl7W",
        "outputId": "7c94aea3-69e7-46f1-9f65-8acc0d4ff7e9"
      },
      "source": [
        "tip_percent = (tips['tip'] / tips['total_bill'] * 100)\n",
        "pd.cut(tip_percent, 3).value_counts()"
      ],
      "execution_count": 44,
      "outputs": [
        {
          "output_type": "execute_result",
          "data": {
            "text/plain": [
              "(3.496, 26.054]     236\n",
              "(26.054, 48.544]      7\n",
              "(48.544, 71.034]      1\n",
              "dtype: int64"
            ]
          },
          "metadata": {
            "tags": []
          },
          "execution_count": 44
        }
      ]
    },
    {
      "cell_type": "markdown",
      "metadata": {
        "id": "_lkqhmb1uNZV"
      },
      "source": [
        "## Grafici\n",
        "\n",
        "- I grafici sono utili per indicare visivamente come sono distribuiti i valori in una serie di dati\n",
        "- **matplotlib** è una libreria Python diffusa per creare grafici di svariati tipi (a barre, a torta, ...)\n",
        "- Per usare matplotlib, importiamo l'interfaccia semplificata `pyplot` con l'alias convenzionale `plt`\n",
        "- Vedremo come creare grafici\n",
        "  - con le funzioni di `pyplot`, dando come input oggetti \"array-like\" (liste, vettori, serie, ...)\n",
        "  - direttamente sui dati contenuti in serie e frame con i metodi `plot.*`"
      ]
    },
    {
      "cell_type": "code",
      "metadata": {
        "id": "41twZbr6uNZW"
      },
      "source": [
        "import matplotlib.pyplot as plt"
      ],
      "execution_count": 45,
      "outputs": []
    },
    {
      "cell_type": "markdown",
      "metadata": {
        "id": "XiPid33FuNZW"
      },
      "source": [
        "- Per abilitare il rendering dei grafici all'interno del file Jupyter:"
      ]
    },
    {
      "cell_type": "code",
      "metadata": {
        "id": "Ms5quIiEuNZW"
      },
      "source": [
        "%matplotlib inline"
      ],
      "execution_count": 46,
      "outputs": []
    },
    {
      "cell_type": "markdown",
      "metadata": {
        "id": "0Y51ZEicuNZW"
      },
      "source": [
        "### Grafico a torta\n",
        "\n",
        "- Un grafico a torta raffigura un cerchio diviso in settori (spicchi) di diverse dimensioni\n",
        "- Si può creare con la funzione `pie`, passando un vettore che definisce le proporzioni tra gli spicchi\n",
        "  - con l'attributo `labels` è possibile assegnare etichette a ciascun settore"
      ]
    },
    {
      "cell_type": "code",
      "metadata": {
        "id": "9opK3hSquNZW",
        "colab": {
          "base_uri": "https://localhost:8080/",
          "height": 349
        },
        "outputId": "e850db42-63c1-44b6-b0e7-b3f3a9bf0e79"
      },
      "source": [
        "plt.pie([1, 2, 3], labels=[\"one\", \"two\", \"three\"])"
      ],
      "execution_count": 47,
      "outputs": [
        {
          "output_type": "execute_result",
          "data": {
            "text/plain": [
              "([<matplotlib.patches.Wedge at 0x7f4607534990>,\n",
              "  <matplotlib.patches.Wedge at 0x7f460751ccd0>,\n",
              "  <matplotlib.patches.Wedge at 0x7f460751c510>],\n",
              " [Text(0.9526279355804298, 0.5500000148652441, 'one'),\n",
              "  Text(-0.5500000594609755, 0.9526279098330699, 'two'),\n",
              "  Text(1.0298943251329445e-07, -1.0999999999999954, 'three')])"
            ]
          },
          "metadata": {
            "tags": []
          },
          "execution_count": 47
        },
        {
          "output_type": "display_data",
          "data": {
            "image/png": "[encoded data removed]",
            "text/plain": [
              "<Figure size 432x288 with 1 Axes>"
            ]
          },
          "metadata": {
            "tags": []
          }
        }
      ]
    },
    {
      "cell_type": "markdown",
      "metadata": {
        "id": "t6BuCW1iuNZX"
      },
      "source": [
        "- Di default i colori del grafico sono scelti automaticamente\n",
        "- Si può impostare manualmente una lista di colori con l'attributo `colors`\n",
        "- I colori possono essere specificati [in vari modi](https://matplotlib.org/tutorials/colors/colors.html), ad es. per nome, in notazione HTML/CSS o tupla di valori RGB\n",
        "- _trucco: aggiungere `;` alla fine dell'istruzione per sopprimere l'output testuale `<matplotlib...>`_"
      ]
    },
    {
      "cell_type": "code",
      "metadata": {
        "id": "ctQxfeXduNZY",
        "colab": {
          "base_uri": "https://localhost:8080/",
          "height": 248
        },
        "outputId": "54feb19d-b471-427a-aec3-03875d740ebd"
      },
      "source": [
        "plt.pie(       [ 0.8,   1.0,       1.2           ],\n",
        "        labels=[ \"red\", \"yellow\",  \"blue\"        ],\n",
        "        colors=[ \"red\", \"#ffff00\", (0.0,0.0,1.0) ]);"
      ],
      "execution_count": 49,
      "outputs": [
        {
          "output_type": "display_data",
          "data": {
            "image/png": "[encoded data removed]",
            "text/plain": [
              "<Figure size 432x288 with 1 Axes>"
            ]
          },
          "metadata": {
            "tags": []
          }
        }
      ]
    },
    {
      "cell_type": "markdown",
      "metadata": {
        "id": "7JWa_LRIuNZY"
      },
      "source": [
        "- I grafici a torta sono usati per visualizzare la distribuzione di valori categorici\n",
        "- Estraiamo ad esempio la colonna `sex` e i conteggi dei valori con `value_counts`\n",
        "- Il metodo `plot.pie` crea un grafico a torta usando valori ed etichette della serie estratta\n",
        "  - usa internamente la funzione `pie`, a cui è possibile passare altri parametri, ad es. `colors`"
      ]
    },
    {
      "cell_type": "code",
      "metadata": {
        "id": "uS47mVLruNZY",
        "colab": {
          "base_uri": "https://localhost:8080/",
          "height": 248
        },
        "outputId": "a2111799-f156-4f91-bec9-8222a5adf457"
      },
      "source": [
        "tips[\"sex\"].value_counts().plot.pie(colors=[\"lightblue\", \"pink\"]);"
      ],
      "execution_count": 50,
      "outputs": [
        {
          "output_type": "display_data",
          "data": {
            "image/png": "[encoded data removed]",
            "text/plain": [
              "<Figure size 432x288 with 1 Axes>"
            ]
          },
          "metadata": {
            "tags": []
          }
        }
      ]
    },
    {
      "cell_type": "markdown",
      "metadata": {
        "id": "yFhERSyKuNZZ"
      },
      "source": [
        "- Possiamo visualizzare un grafico a torta anche di una serie numerica continua, discretizzandone i valori con `cut`"
      ]
    },
    {
      "cell_type": "code",
      "metadata": {
        "id": "kYqwC0VAuNZZ",
        "colab": {
          "base_uri": "https://localhost:8080/",
          "height": 248
        },
        "outputId": "bc2fef2b-4ea6-4011-a990-7264533bf8c4"
      },
      "source": [
        "pd.cut(tips[\"tip\"], 4).value_counts().plot.pie();"
      ],
      "execution_count": 51,
      "outputs": [
        {
          "output_type": "display_data",
          "data": {
            "image/png": "[encoded data removed]",
            "text/plain": [
              "<Figure size 432x288 with 1 Axes>"
            ]
          },
          "metadata": {
            "tags": []
          }
        }
      ]
    },
    {
      "cell_type": "markdown",
      "metadata": {
        "id": "Z3gken8OuNZZ"
      },
      "source": [
        "- Il grafico evidenzia la presenza di poche mance alte"
      ]
    },
    {
      "cell_type": "markdown",
      "metadata": {
        "id": "HXhDDpnhuNZZ"
      },
      "source": [
        "### Grafico a barre\n",
        "\n",
        "- Un grafico a barre raffigura delle barre di diversa altezza\n",
        "- Si crea con la funzione `bar`, indicando in ordine le etichette delle barre e le rispettive altezze"
      ]
    },
    {
      "cell_type": "code",
      "metadata": {
        "id": "hhUMuJ6quNZZ",
        "colab": {
          "base_uri": "https://localhost:8080/",
          "height": 265
        },
        "outputId": "3aede4e1-9194-498e-cff1-a3cb975d6413"
      },
      "source": [
        "plt.bar([\"two\", \"e\", \"pi\", \"four\"], [2, 2.71, 3.14, 4]);"
      ],
      "execution_count": 52,
      "outputs": [
        {
          "output_type": "display_data",
          "data": {
            "image/png": "[encoded data removed]",
            "text/plain": [
              "<Figure size 432x288 with 1 Axes>"
            ]
          },
          "metadata": {
            "tags": [],
            "needs_background": "light"
          }
        }
      ]
    },
    {
      "cell_type": "markdown",
      "metadata": {
        "id": "oBMOynVyuNZa"
      },
      "source": [
        "- I grafici a barre sono un'alternativa a quelli a torta per visualizzare la distribuzione di valori categorici\n",
        "- Applichiamo il metodo `plot.bar` al conteggio dei valori della colonna `day`"
      ]
    },
    {
      "cell_type": "code",
      "metadata": {
        "id": "sDwDPYPcuNZa",
        "colab": {
          "base_uri": "https://localhost:8080/",
          "height": 278
        },
        "outputId": "45eb6565-ff4d-490d-a934-9b6bea7de931"
      },
      "source": [
        "tips[\"day\"].value_counts().plot.bar();"
      ],
      "execution_count": 53,
      "outputs": [
        {
          "output_type": "display_data",
          "data": {
            "image/png": "[encoded data removed]",
            "text/plain": [
              "<Figure size 432x288 with 1 Axes>"
            ]
          },
          "metadata": {
            "tags": [],
            "needs_background": "light"
          }
        }
      ]
    },
    {
      "cell_type": "markdown",
      "metadata": {
        "id": "2U1v51XbuNZa"
      },
      "source": [
        "### Istogramma\n",
        "\n",
        "- Un istogramma visualizza in un diagramma a barre la distribuzione di valori in una serie numerica\n",
        "- I valori sono divisi in intervalli di pari ampiezza (come per `pd.cut`), le barre del grafico indicano il numero di valori in ciascun intervallo\n",
        "- Si crea con la funzione `hist`, indicando un array di valori di cui visualizzare la distribuzione e il numero di fasce in cui dividerli (default 10)\n",
        "- Generiamo ad esempio un array di 1.000 valori con distribuzione normale e visualizziamone l'istogramma"
      ]
    },
    {
      "cell_type": "code",
      "metadata": {
        "id": "ddwiItxYuNZa",
        "colab": {
          "base_uri": "https://localhost:8080/",
          "height": 353
        },
        "outputId": "909a4fde-c888-4ed2-cc18-ff194aa5e212"
      },
      "source": [
        "np.random.seed(123)\n",
        "values = np.random.normal(size=1000)\n",
        "plt.hist(values, 10)"
      ],
      "execution_count": 54,
      "outputs": [
        {
          "output_type": "execute_result",
          "data": {
            "text/plain": [
              "(array([  7.,  27.,  95., 183., 286., 202., 142.,  49.,   7.,   2.]),\n",
              " array([-3.23105501, -2.55079159, -1.87052816, -1.19026474, -0.51000132,\n",
              "         0.17026211,  0.85052553,  1.53078895,  2.21105237,  2.8913158 ,\n",
              "         3.57157922]),\n",
              " <a list of 10 Patch objects>)"
            ]
          },
          "metadata": {
            "tags": []
          },
          "execution_count": 54
        },
        {
          "output_type": "display_data",
          "data": {
            "image/png": "[encoded data removed]",
            "text/plain": [
              "<Figure size 432x288 with 1 Axes>"
            ]
          },
          "metadata": {
            "tags": [],
            "needs_background": "light"
          }
        }
      ]
    },
    {
      "cell_type": "markdown",
      "metadata": {
        "id": "vtk1Yb-muNZa"
      },
      "source": [
        "- Per ottenere l'istogramma di una serie numerica chiamarne il metodo `plot.hist`\n",
        "- Vediamo ed esempio la distribuzione delle mance lasciate"
      ]
    },
    {
      "cell_type": "code",
      "metadata": {
        "id": "0eSMorGHuNZb",
        "colab": {
          "base_uri": "https://localhost:8080/",
          "height": 265
        },
        "outputId": "4cf7dd9d-d560-4fe6-bfa8-b7efe017da4d"
      },
      "source": [
        "tips[\"tip\"].plot.hist(bins=18);"
      ],
      "execution_count": 55,
      "outputs": [
        {
          "output_type": "display_data",
          "data": {
            "image/png": "[encoded data removed]",
            "text/plain": [
              "<Figure size 432x288 with 1 Axes>"
            ]
          },
          "metadata": {
            "tags": [],
            "needs_background": "light"
          }
        }
      ]
    },
    {
      "cell_type": "markdown",
      "metadata": {
        "id": "ngl3uyPeuNZb"
      },
      "source": [
        "- Dall'istogramma vediamo ad occhio (come indicato in parte dall'output di `describe`) che la mancia massima è 10\\\\$, ma molte sono comprese tra 2\\\\$ e 3,5\\\\$"
      ]
    },
    {
      "cell_type": "markdown",
      "metadata": {
        "id": "wH7kPUQpuNZb"
      },
      "source": [
        "### Box plot\n",
        "\n",
        "- Un _box plot_ visualizza le statistiche di base di una o più serie di dati\n",
        "- Fornisce visivamente molte informazioni fornite dal metodo `describe`\n",
        "- Vediamolo ad esempio sui totali dei conti, usando il metodo `plot.box`\n",
        "  - funzione matplotlib: `plt.boxplot(valori)`"
      ]
    },
    {
      "cell_type": "code",
      "metadata": {
        "id": "KwuGAfd4uNZc",
        "colab": {
          "base_uri": "https://localhost:8080/",
          "height": 266
        },
        "outputId": "58c0c9fc-30f6-488a-a4c3-a9caebb9f60d"
      },
      "source": [
        "tips[\"total_bill\"].plot.box(showmeans=True);"
      ],
      "execution_count": 56,
      "outputs": [
        {
          "output_type": "display_data",
          "data": {
            "image/png": "[encoded data removed]",
            "text/plain": [
              "<Figure size 432x288 with 1 Axes>"
            ]
          },
          "metadata": {
            "tags": [],
            "needs_background": "light"
          }
        }
      ]
    },
    {
      "cell_type": "markdown",
      "metadata": {
        "id": "QPl74Y2guNZc"
      },
      "source": [
        "- Il rettangolo evidenzia che il 50\\% \"centrale\" dei conti è tra i 15\\\\$ **(25%)** e i 25\\\\$ **(75%)** circa\n",
        "- Il triangolo (~20\\\\$) e la linea centrale (~18\\\\$) indicano rispettivamente **media** e **mediana (50%)**\n",
        "- I \"baffi\" indicano il **minimo** (~2\\\\$) e il **massimo** (~40\\\\$) dei dati \"ordinari\"\n",
        "- I valori molto fuori dalla norma (_outlier_) sono mostrati come cerchi esterni ai baffi"
      ]
    },
    {
      "cell_type": "markdown",
      "metadata": {
        "id": "OxP2ZP54uNZc"
      },
      "source": [
        "- Possiamo invocare `plot.box` su un frame per visualizzare i box di tutte le colonne numeriche in un solo grafico\n",
        "  - però se i valori sono su scale diverse come in questo caso, alcuni box plot risultano schiacciati"
      ]
    },
    {
      "cell_type": "code",
      "metadata": {
        "id": "Xo8NLPsvuNZd",
        "colab": {
          "base_uri": "https://localhost:8080/",
          "height": 266
        },
        "outputId": "3bec4e45-1df3-4b3e-f3d1-138a33adf288"
      },
      "source": [
        "tips.plot.box(showmeans=True);"
      ],
      "execution_count": 57,
      "outputs": [
        {
          "output_type": "display_data",
          "data": {
            "image/png": "[encoded data removed]",
            "text/plain": [
              "<Figure size 432x288 with 1 Axes>"
            ]
          },
          "metadata": {
            "tags": [],
            "needs_background": "light"
          }
        }
      ]
    },
    {
      "cell_type": "markdown",
      "metadata": {
        "id": "2dCzcStAuNZd"
      },
      "source": [
        "- I frame forniscono anche il metodo `boxplot` con alcune funzioni aggiuntive\n",
        "  - con `column` si specifica di quale colonna mostrare il grafico\n",
        "  - con `by` si partizionano i dati secondo il valore di un'altra colonna e si mostra il box plot per gruppi\n",
        "- Vediamo ad esempio la distribuzione delle mance differenziata per giorno della settimana"
      ]
    },
    {
      "cell_type": "code",
      "metadata": {
        "id": "f2rC0SPNuNZd",
        "colab": {
          "base_uri": "https://localhost:8080/",
          "height": 354
        },
        "outputId": "ede2eed0-1190-4280-8c7c-eceb39be2fe8"
      },
      "source": [
        "tips.boxplot(column=\"tip\", by=\"day\", showmeans=True);"
      ],
      "execution_count": 58,
      "outputs": [
        {
          "output_type": "stream",
          "text": [
            "/usr/local/lib/python3.7/dist-packages/numpy/core/_asarray.py:83: VisibleDeprecationWarning: Creating an ndarray from ragged nested sequences (which is a list-or-tuple of lists-or-tuples-or ndarrays with different lengths or shapes) is deprecated. If you meant to do this, you must specify 'dtype=object' when creating the ndarray\n",
            "  return array(a, dtype, copy=False, order=order)\n"
          ],
          "name": "stderr"
        },
        {
          "output_type": "display_data",
          "data": {
            "image/png": "[encoded data removed]",
            "text/plain": [
              "<Figure size 432x288 with 1 Axes>"
            ]
          },
          "metadata": {
            "tags": [],
            "needs_background": "light"
          }
        }
      ]
    },
    {
      "cell_type": "markdown",
      "metadata": {
        "id": "OcEENvYDuNZd"
      },
      "source": [
        "### Grafico a dispersione\n",
        "\n",
        "- Un grafico a dispersione (_scatter plot_) visualizza dei punti in un piano\n",
        "- Si crea con la funzione `scatter`, passando due vettori di pari lunghezza con rispettivamente i valori per le coordinate X e Y di ciascun punto"
      ]
    },
    {
      "cell_type": "code",
      "metadata": {
        "id": "CBD38vSUuNZe",
        "colab": {
          "base_uri": "https://localhost:8080/",
          "height": 265
        },
        "outputId": "e68856cd-c389-4cb3-d73a-a9d3baa91841"
      },
      "source": [
        "plt.scatter([1,    2, 3.14, 4, 5],    # X\n",
        "            [1.73, 3, 1,    3, 2]);   # Y"
      ],
      "execution_count": 59,
      "outputs": [
        {
          "output_type": "display_data",
          "data": {
            "image/png": "[encoded data removed]",
            "text/plain": [
              "<Figure size 432x288 with 1 Axes>"
            ]
          },
          "metadata": {
            "tags": [],
            "needs_background": "light"
          }
        }
      ]
    },
    {
      "cell_type": "markdown",
      "metadata": {
        "id": "b6TxSIW7uNZe"
      },
      "source": [
        "- Un grafico a dispersione può essere usato per visualizzare la distribuzione di due variabili in modo congiunto\n",
        "- In questo modo è possibile **valutare se esiste una correlazione** tra tali due variabili\n",
        "- Usando il metodo `plot.scatter` su un frame, creiamo un grafico che utilizza due colonne indicate come valori X e Y\n",
        "- Vediamo ad esempio la correlazione tra totale del conto (asse X) e mancia lasciata (asse Y)"
      ]
    },
    {
      "cell_type": "code",
      "metadata": {
        "id": "Mr61juc-uNZe",
        "colab": {
          "base_uri": "https://localhost:8080/",
          "height": 280
        },
        "outputId": "d786c83c-8f6b-4e7b-d22b-ae716028bea0"
      },
      "source": [
        "tips.plot.scatter(\"total_bill\", \"tip\");"
      ],
      "execution_count": 60,
      "outputs": [
        {
          "output_type": "display_data",
          "data": {
            "image/png": "[encoded data removed]",
            "text/plain": [
              "<Figure size 432x288 with 1 Axes>"
            ]
          },
          "metadata": {
            "tags": [],
            "needs_background": "light"
          }
        }
      ]
    },
    {
      "cell_type": "markdown",
      "metadata": {
        "id": "7bdBjSQbuNZe"
      },
      "source": [
        "- Il grafico evidenzia che tendenzialmente la mancia è (come prevedibile) tanto più alta quanto lo è il totale da pagare"
      ]
    },
    {
      "cell_type": "markdown",
      "metadata": {
        "id": "TPp2mZgBuNZf"
      },
      "source": [
        "- I parametri `s` (size) e `c` (col) di `scatter` permettono di decidere dimensione e colore dei punti\n",
        "- Si può facilmente assegnare la stessa dimensione e/o colore a tutti i punti..."
      ]
    },
    {
      "cell_type": "code",
      "metadata": {
        "id": "51hzmvUfuNZf",
        "colab": {
          "base_uri": "https://localhost:8080/",
          "height": 280
        },
        "outputId": "fa3e6c7c-0386-4022-e3a9-cd895c6ef873"
      },
      "source": [
        "tips.plot.scatter(\"total_bill\", \"tip\", s=7, c=\"red\");"
      ],
      "execution_count": 61,
      "outputs": [
        {
          "output_type": "display_data",
          "data": {
            "image/png": "[encoded data removed]",
            "text/plain": [
              "<Figure size 432x288 with 1 Axes>"
            ]
          },
          "metadata": {
            "tags": [],
            "needs_background": "light"
          }
        }
      ]
    },
    {
      "cell_type": "markdown",
      "metadata": {
        "id": "men009mhuNZf"
      },
      "source": [
        "- Si possono però anche differenziare dimensioni e colori in base ai singoli punti, passando a `s` e `c` una serie di valori"
      ]
    },
    {
      "cell_type": "markdown",
      "metadata": {
        "id": "aU2aDLW9uNZf"
      },
      "source": [
        "- Ad esempio, creiamo un grafico con dimensioni dei punti corrispondenti al numero di persone e colori diversificati per pranzi e cene\n",
        "  - a `s` passiamo la colonna `size` con applicata la funzione esponenziale per differenziare meglio le dimensioni\n",
        "  - a `c` passiamo una serie col colore di ciascun punto, ottenuta col metodo `map` che convertire ciascun valore in un altro secondo un dizionario dato"
      ]
    },
    {
      "cell_type": "code",
      "metadata": {
        "id": "HMlgIZ52uNZf",
        "colab": {
          "base_uri": "https://localhost:8080/",
          "height": 280
        },
        "outputId": "5bfbd9de-7bd9-4a40-9a7c-d54e058eaca4"
      },
      "source": [
        "time_colors = {\"Lunch\": \"red\", \"Dinner\": \"blue\"}\n",
        "tips.plot.scatter(\"total_bill\",                       # X\n",
        "                  \"tip\",                              # Y\n",
        "                  s=np.exp(tips[\"size\"]),             # dimensione\n",
        "                  c=tips[\"time\"].map(time_colors));   # colore"
      ],
      "execution_count": 62,
      "outputs": [
        {
          "output_type": "display_data",
          "data": {
            "image/png": "[encoded data removed]",
            "text/plain": [
              "<Figure size 432x288 with 1 Axes>"
            ]
          },
          "metadata": {
            "tags": [],
            "needs_background": "light"
          }
        }
      ]
    },
    {
      "cell_type": "markdown",
      "metadata": {
        "id": "gSOKIUCZuNZg"
      },
      "source": [
        "- Se come colore viene indicata una colonna numerica, viene usata una _colormap_ per mappare i valori numerici a colori secondo una scala\n",
        "  - esistono [molte colormap](https://matplotlib.org/stable/tutorials/colors/colormaps.html) integrate in matplotlib ed è possibile [crearne nuove](https://matplotlib.org/stable/tutorials/colors/colormap-manipulation.html)"
      ]
    },
    {
      "cell_type": "code",
      "metadata": {
        "id": "Sg2t1srPuNZg",
        "colab": {
          "base_uri": "https://localhost:8080/",
          "height": 258
        },
        "outputId": "ae590e0b-cfd1-4371-f443-2c2edb36dbfa"
      },
      "source": [
        "tips.plot.scatter(\"total_bill\", \"tip\", c=\"size\", colormap=\"plasma\");"
      ],
      "execution_count": 63,
      "outputs": [
        {
          "output_type": "display_data",
          "data": {
            "image/png": "[encoded data removed]",
            "text/plain": [
              "<Figure size 432x288 with 2 Axes>"
            ]
          },
          "metadata": {
            "tags": [],
            "needs_background": "light"
          }
        }
      ]
    },
    {
      "cell_type": "markdown",
      "metadata": {
        "id": "Xjhl3UEyuNZg"
      },
      "source": [
        "### Personalizzazione dei grafici\n",
        "\n",
        "matplotlib offre molti parametri e funzioni applicabili ai grafici, ad esempio:\n",
        "- il parametro `figsize` può essere usato nei metodi `plot.*` per stabilire la dimensione della figura come una tupla `(larghezza, altezza)`\n",
        "- le funzioni `xlabel` e `ylabel` impostano le etichette degli assi\n",
        "- la funzione `title` imposta un titolo visualizzato sopra il grafico\n",
        "  - il titolo può anche essere impostato col parametro `title` nei metodi `plot.*`"
      ]
    },
    {
      "cell_type": "code",
      "metadata": {
        "id": "L-6K5dv3uNZg",
        "colab": {
          "base_uri": "https://localhost:8080/",
          "height": 187
        },
        "outputId": "6ff606ca-44b1-4f09-9c2e-0311af986802"
      },
      "source": [
        "tips.plot.scatter(\"total_bill\", \"tip\", figsize=(12, 2))\n",
        "plt.title(\"Correlazione tra totali e mance\")\n",
        "plt.xlabel(\"Totale conto\")\n",
        "plt.ylabel(\"Mancia lasciata\");"
      ],
      "execution_count": 64,
      "outputs": [
        {
          "output_type": "display_data",
          "data": {
            "image/png": "[encoded data removed]",
            "text/plain": [
              "<Figure size 864x144 with 1 Axes>"
            ]
          },
          "metadata": {
            "tags": [],
            "needs_background": "light"
          }
        }
      ]
    },
    {
      "cell_type": "markdown",
      "metadata": {
        "id": "En9Uj49juNZg"
      },
      "source": [
        "### Figure con grafici multipli\n",
        "\n",
        "- matplotlib permette di disporre a griglia molteplici grafici in una figura\n",
        "- Per riferirsi ad una porzione di grafico usare la funzione `subplot` indicando in ordine il numero di righe, il numero di colonne e l'indice della porzione (numerate da 1)\n",
        "- Sull'oggetto restituito da `subplot` possono essere invocate le funzioni per creare i singoli grafici\n",
        "- Creiamo ad esempio una figura con 3 grafici di diverso tipo in una riga\n",
        "  - Chiamando la funzione `figure` prima definiamo gli attributi della figura, in questo caso la dimensione"
      ]
    },
    {
      "cell_type": "code",
      "metadata": {
        "id": "Y8py9_2vuNZg",
        "colab": {
          "base_uri": "https://localhost:8080/",
          "height": 211
        },
        "outputId": "7feadca8-b9c4-46da-a222-315f38f66b0a"
      },
      "source": [
        "plt.figure(figsize=(12, 3))\n",
        "plt.subplot(1, 3, 1).bar([1, 2, 3], [1, 2, 3])\n",
        "plt.subplot(1, 3, 2).pie([1, 2, 3]);\n",
        "plt.subplot(1, 3, 3).scatter([1, 2, 3, 4], [2, 4, 1, 3]);"
      ],
      "execution_count": 65,
      "outputs": [
        {
          "output_type": "display_data",
          "data": {
            "image/png": "[encoded data removed]",
            "text/plain": [
              "<Figure size 864x216 with 3 Axes>"
            ]
          },
          "metadata": {
            "tags": [],
            "needs_background": "light"
          }
        }
      ]
    },
    {
      "cell_type": "markdown",
      "metadata": {
        "id": "oHreYyvruNZh"
      },
      "source": [
        "- Per inserire grafici creati tramite pandas in un `subplot`, indicarlo come parametro `ax` nel metodo `plot.*` utilizzato\n",
        "- Creiamo ad esempio una griglia con i bar plot di tutte le variabili categoriche\n",
        "  - `enumerate` con `start=1` restituisce le tuple `(1, \"sex\")`, `(2, \"smoker\")`, ..."
      ]
    },
    {
      "cell_type": "code",
      "metadata": {
        "id": "PGN6s9PGuNZh",
        "outputId": "f6b8c17e-e1c9-4dd5-d033-ff10e8e9c4b0"
      },
      "source": [
        "plt.figure(figsize=(12, 6))\n",
        "for n, col in enumerate([\"sex\", \"smoker\", \"day\", \"time\"], start=1):\n",
        "    tips[col].value_counts().plot.bar(ax=plt.subplot(2, 2, n))"
      ],
      "execution_count": null,
      "outputs": [
        {
          "output_type": "display_data",
          "data": {
            "image/png": "[encoded data removed]",
            "text/plain": [
              "<Figure size 864x432 with 4 Axes>"
            ]
          },
          "metadata": {
            "tags": [],
            "needs_background": "light"
          }
        }
      ]
    },
    {
      "cell_type": "markdown",
      "metadata": {
        "id": "9S2wGUvbuNZh"
      },
      "source": [
        "### Esercizio 3: Grafici\n",
        "\n",
        "Creare i seguenti grafici:\n",
        "- **(3a)** un grafico a torta con la distribuzione dei totali dei conti in tre fasce di uguale ampiezza\n",
        "- **(3b)** un grafico a torta con la distribuzione delle sole cene (`time=\"Dinner\"`) per giorno della settimana\n",
        "- **(3c)** un'istogramma con la distribuzione del rapporto tra mancia e totale del conto\n",
        "- **(3d)** un box plot con la stessa distribuzione (3c)\n",
        "- **(3e)** un grafico a dispersione con la correlazione tra mancia lasciata e numero di persone al tavolo\n",
        "- **(3f)** una figura con un grafico a barre con la distribuzione di tavoli fumatori e non per ciascun giorno della settimana"
      ]
    },
    {
      "cell_type": "code",
      "metadata": {
        "colab": {
          "base_uri": "https://localhost:8080/",
          "height": 265
        },
        "id": "_re2JcF93M-S",
        "outputId": "3dfda7e4-87e3-440a-c0e0-6a278dfce221"
      },
      "source": [
        "pd.cut(tips['total_bill'], 3).value_counts().plot.pie()"
      ],
      "execution_count": 72,
      "outputs": [
        {
          "output_type": "execute_result",
          "data": {
            "text/plain": [
              "<matplotlib.axes._subplots.AxesSubplot at 0x7f4609017690>"
            ]
          },
          "metadata": {
            "tags": []
          },
          "execution_count": 72
        },
        {
          "output_type": "display_data",
          "data": {
            "image/png": "[encoded data removed]",
            "text/plain": [
              "<Figure size 432x288 with 1 Axes>"
            ]
          },
          "metadata": {
            "tags": []
          }
        }
      ]
    },
    {
      "cell_type": "code",
      "metadata": {
        "colab": {
          "base_uri": "https://localhost:8080/",
          "height": 265
        },
        "id": "OmDgCqWH3km7",
        "outputId": "77ccfb43-09c9-4546-ab51-fdcb0b82ff73"
      },
      "source": [
        "tips.loc[tips['time']=='Dinner', 'day'].value_counts().plot.pie()"
      ],
      "execution_count": 121,
      "outputs": [
        {
          "output_type": "execute_result",
          "data": {
            "text/plain": [
              "<matplotlib.axes._subplots.AxesSubplot at 0x7f4606d7e7d0>"
            ]
          },
          "metadata": {
            "tags": []
          },
          "execution_count": 121
        },
        {
          "output_type": "display_data",
          "data": {
            "image/png": "[encoded data removed]",
            "text/plain": [
              "<Figure size 432x288 with 1 Axes>"
            ]
          },
          "metadata": {
            "tags": []
          }
        }
      ]
    },
    {
      "cell_type": "code",
      "metadata": {
        "colab": {
          "base_uri": "https://localhost:8080/",
          "height": 282
        },
        "id": "ZJn9nz0o6Tj4",
        "outputId": "f150071d-32d9-404d-cf02-d1e40e5652b1"
      },
      "source": [
        "(tips['tip'] / tips['total_bill'] * 100).plot.hist(bins=10)"
      ],
      "execution_count": 126,
      "outputs": [
        {
          "output_type": "execute_result",
          "data": {
            "text/plain": [
              "<matplotlib.axes._subplots.AxesSubplot at 0x7f46066da150>"
            ]
          },
          "metadata": {
            "tags": []
          },
          "execution_count": 126
        },
        {
          "output_type": "display_data",
          "data": {
            "image/png": "[encoded data removed]",
            "text/plain": [
              "<Figure size 432x288 with 1 Axes>"
            ]
          },
          "metadata": {
            "tags": [],
            "needs_background": "light"
          }
        }
      ]
    },
    {
      "cell_type": "code",
      "metadata": {
        "colab": {
          "base_uri": "https://localhost:8080/",
          "height": 282
        },
        "id": "uSFSDWzc7sbU",
        "outputId": "d399fbbf-8514-47ad-fcc0-7f059a6eb19a"
      },
      "source": [
        "(tips['tip'] / tips['total_bill'] * 100).plot.box()"
      ],
      "execution_count": 127,
      "outputs": [
        {
          "output_type": "execute_result",
          "data": {
            "text/plain": [
              "<matplotlib.axes._subplots.AxesSubplot at 0x7f46065195d0>"
            ]
          },
          "metadata": {
            "tags": []
          },
          "execution_count": 127
        },
        {
          "output_type": "display_data",
          "data": {
            "image/png": "[encoded data removed]",
            "text/plain": [
              "<Figure size 432x288 with 1 Axes>"
            ]
          },
          "metadata": {
            "tags": [],
            "needs_background": "light"
          }
        }
      ]
    },
    {
      "cell_type": "code",
      "metadata": {
        "colab": {
          "base_uri": "https://localhost:8080/",
          "height": 296
        },
        "id": "5wCeUlul8b54",
        "outputId": "42562d7c-1a02-48d6-da5f-5bcea20d529c"
      },
      "source": [
        "tips.plot.scatter('size', 'tip')"
      ],
      "execution_count": 128,
      "outputs": [
        {
          "output_type": "execute_result",
          "data": {
            "text/plain": [
              "<matplotlib.axes._subplots.AxesSubplot at 0x7f460465b5d0>"
            ]
          },
          "metadata": {
            "tags": []
          },
          "execution_count": 128
        },
        {
          "output_type": "display_data",
          "data": {
            "image/png": "[encoded data removed]",
            "text/plain": [
              "<Figure size 432x288 with 1 Axes>"
            ]
          },
          "metadata": {
            "tags": [],
            "needs_background": "light"
          }
        }
      ]
    },
    {
      "cell_type": "code",
      "metadata": {
        "colab": {
          "base_uri": "https://localhost:8080/",
          "height": 396
        },
        "id": "TQN2f5PD8mOi",
        "outputId": "b9bade24-9079-4b31-a26e-a063d64104fd"
      },
      "source": [
        "plt.figure(figsize=(12,6))\n",
        "for n, category in enumerate(tips.day.cat.categories, start=1):\n",
        "  tips.loc[tips.day == category, 'smoker'].value_counts().plot.bar(ax=plt.subplot(2, 2, n), title=category)"
      ],
      "execution_count": 155,
      "outputs": [
        {
          "output_type": "display_data",
          "data": {
            "image/png": "[encoded data removed]",
            "text/plain": [
              "<Figure size 864x432 with 4 Axes>"
            ]
          },
          "metadata": {
            "tags": [],
            "needs_background": "light"
          }
        }
      ]
    },
    {
      "cell_type": "markdown",
      "metadata": {
        "id": "B5jnGeb_uNZh"
      },
      "source": [
        "## Raggruppamento\n",
        "\n",
        "- I `DataFrame` partizionati in due o più gruppi di righe\n",
        "- I gruppi sono definiti in base ai valori in una o più colonne _chiave_ o a valori derivati da esse\n",
        "- Sul frame partizionato è possibile compiere operazioni separate sui singoli gruppi, in particolare ottenere statistiche separate per gruppo"
      ]
    },
    {
      "cell_type": "markdown",
      "metadata": {
        "id": "RYuHuhPVuNZh"
      },
      "source": [
        "### Raggruppamento su colonna singola\n",
        "\n",
        "- Come primo esempio, definiamo una partizione in base al valore della singola colonna `time`, che distingue i tavoli per pranzo (\"Lunch\") e cena (\"Dinner\")\n",
        "- Usiamo il metodo `groupby` indicando il nome della colonna"
      ]
    },
    {
      "cell_type": "code",
      "metadata": {
        "id": "lvVXOEFVuNZh"
      },
      "source": [
        "tips_by_time = tips.groupby(\"time\")"
      ],
      "execution_count": 156,
      "outputs": []
    },
    {
      "cell_type": "markdown",
      "metadata": {
        "id": "DQf_fWAIuNZi"
      },
      "source": [
        "- La partizione così creata contiene due gruppi, come verificabile dall'attributo `ngroups`"
      ]
    },
    {
      "cell_type": "code",
      "metadata": {
        "id": "kLQGi3ksuNZi",
        "colab": {
          "base_uri": "https://localhost:8080/"
        },
        "outputId": "42b8ad05-38fa-41c9-b34e-f15859caf8d7"
      },
      "source": [
        "tips_by_time.ngroups"
      ],
      "execution_count": 157,
      "outputs": [
        {
          "output_type": "execute_result",
          "data": {
            "text/plain": [
              "2"
            ]
          },
          "metadata": {
            "tags": []
          },
          "execution_count": 157
        }
      ]
    },
    {
      "cell_type": "markdown",
      "metadata": {
        "id": "DR-dVrFkuNZi"
      },
      "source": [
        "- Il dizionario `groups` contiene gli indici delle righe di ciascun gruppo\n",
        "- Le chiavi sono i nomi dei gruppi, corrispondenti ai valori della colonna di raggruppamento"
      ]
    },
    {
      "cell_type": "code",
      "metadata": {
        "id": "Szq1p7PTuNZi",
        "colab": {
          "base_uri": "https://localhost:8080/"
        },
        "outputId": "041076b5-f545-4d3d-9fd8-87825b0fcb01"
      },
      "source": [
        "list(tips_by_time.groups.keys())"
      ],
      "execution_count": 158,
      "outputs": [
        {
          "output_type": "execute_result",
          "data": {
            "text/plain": [
              "['Dinner', 'Lunch']"
            ]
          },
          "metadata": {
            "tags": []
          },
          "execution_count": 158
        }
      ]
    },
    {
      "cell_type": "markdown",
      "metadata": {
        "id": "5sa_d-KauNZi"
      },
      "source": [
        "- `size` restituisce una serie col numero di righe in ciascun gruppo"
      ]
    },
    {
      "cell_type": "code",
      "metadata": {
        "id": "FNF3lyQMuNZi",
        "colab": {
          "base_uri": "https://localhost:8080/"
        },
        "outputId": "4cef4554-c9ad-4450-95b9-815edabaf2c4"
      },
      "source": [
        "tips_by_time.size()"
      ],
      "execution_count": 160,
      "outputs": [
        {
          "output_type": "execute_result",
          "data": {
            "text/plain": [
              "time\n",
              "Dinner    176\n",
              "Lunch      68\n",
              "dtype: int64"
            ]
          },
          "metadata": {
            "tags": []
          },
          "execution_count": 160
        }
      ]
    },
    {
      "cell_type": "markdown",
      "metadata": {
        "id": "ajXyFIsruNZj"
      },
      "source": [
        "- Sulla partizione è possibile chiamare i metodi di aggregazione per ottenere statistiche divise per gruppi\n",
        "- Chiamiamo ad esempio il metodo `mean` per il calcolo della media"
      ]
    },
    {
      "cell_type": "code",
      "metadata": {
        "id": "jmhzwS3muNZj",
        "colab": {
          "base_uri": "https://localhost:8080/",
          "height": 136
        },
        "outputId": "f6f27801-6cb0-4c2d-f42c-b135e94b60a3"
      },
      "source": [
        "tips_by_time.mean()"
      ],
      "execution_count": 161,
      "outputs": [
        {
          "output_type": "execute_result",
          "data": {
            "text/html": [
              "<div>\n",
              "<style scoped>\n",
              "    .dataframe tbody tr th:only-of-type {\n",
              "        vertical-align: middle;\n",
              "    }\n",
              "\n",
              "    .dataframe tbody tr th {\n",
              "        vertical-align: top;\n",
              "    }\n",
              "\n",
              "    .dataframe thead th {\n",
              "        text-align: right;\n",
              "    }\n",
              "</style>\n",
              "<table border=\"1\" class=\"dataframe\">\n",
              "  <thead>\n",
              "    <tr style=\"text-align: right;\">\n",
              "      <th></th>\n",
              "      <th>total_bill</th>\n",
              "      <th>tip</th>\n",
              "      <th>size</th>\n",
              "    </tr>\n",
              "    <tr>\n",
              "      <th>time</th>\n",
              "      <th></th>\n",
              "      <th></th>\n",
              "      <th></th>\n",
              "    </tr>\n",
              "  </thead>\n",
              "  <tbody>\n",
              "    <tr>\n",
              "      <th>Dinner</th>\n",
              "      <td>20.797159</td>\n",
              "      <td>3.102670</td>\n",
              "      <td>2.630682</td>\n",
              "    </tr>\n",
              "    <tr>\n",
              "      <th>Lunch</th>\n",
              "      <td>17.168676</td>\n",
              "      <td>2.728088</td>\n",
              "      <td>2.411765</td>\n",
              "    </tr>\n",
              "  </tbody>\n",
              "</table>\n",
              "</div>"
            ],
            "text/plain": [
              "        total_bill       tip      size\n",
              "time                                  \n",
              "Dinner   20.797159  3.102670  2.630682\n",
              "Lunch    17.168676  2.728088  2.411765"
            ]
          },
          "metadata": {
            "tags": []
          },
          "execution_count": 161
        }
      ]
    },
    {
      "cell_type": "markdown",
      "metadata": {
        "id": "sauDSpvcuNZj"
      },
      "source": [
        "- Si ottiene un DataFrame con una riga per ogni gruppo, in cui sono riportate le medie di ciascuna colonna limitate a quel gruppo\n",
        "- Si può vedere ad esempio che la mancia (`tip`) media è circa 3,10\\\\$ a cena e 2,73\\\\$ a pranzo"
      ]
    },
    {
      "cell_type": "markdown",
      "metadata": {
        "id": "2_UdNxY5uNZj"
      },
      "source": [
        "- Possiamo anche selezionare una singola colonna dal raggruppamento per ottenere statistiche per gruppi limitate ad essa"
      ]
    },
    {
      "cell_type": "code",
      "metadata": {
        "id": "rCNZCwdQuNZj",
        "colab": {
          "base_uri": "https://localhost:8080/"
        },
        "outputId": "ea03593e-be3e-413b-97e6-7a9091c1f006"
      },
      "source": [
        "tips_by_time[\"tip\"].mean()"
      ],
      "execution_count": 162,
      "outputs": [
        {
          "output_type": "execute_result",
          "data": {
            "text/plain": [
              "time\n",
              "Dinner    3.102670\n",
              "Lunch     2.728088\n",
              "Name: tip, dtype: float64"
            ]
          },
          "metadata": {
            "tags": []
          },
          "execution_count": 162
        }
      ]
    },
    {
      "cell_type": "markdown",
      "metadata": {
        "id": "Eod6HryluNZk"
      },
      "source": [
        "- Possiamo usare `describe` o `agg` per ottenere statistiche multiple"
      ]
    },
    {
      "cell_type": "code",
      "metadata": {
        "id": "kQ1lwPCIuNZk",
        "colab": {
          "base_uri": "https://localhost:8080/",
          "height": 136
        },
        "outputId": "af900875-aae7-4932-f180-29a5101a825c"
      },
      "source": [
        "tips_by_time[\"tip\"].describe()"
      ],
      "execution_count": 163,
      "outputs": [
        {
          "output_type": "execute_result",
          "data": {
            "text/html": [
              "<div>\n",
              "<style scoped>\n",
              "    .dataframe tbody tr th:only-of-type {\n",
              "        vertical-align: middle;\n",
              "    }\n",
              "\n",
              "    .dataframe tbody tr th {\n",
              "        vertical-align: top;\n",
              "    }\n",
              "\n",
              "    .dataframe thead th {\n",
              "        text-align: right;\n",
              "    }\n",
              "</style>\n",
              "<table border=\"1\" class=\"dataframe\">\n",
              "  <thead>\n",
              "    <tr style=\"text-align: right;\">\n",
              "      <th></th>\n",
              "      <th>count</th>\n",
              "      <th>mean</th>\n",
              "      <th>std</th>\n",
              "      <th>min</th>\n",
              "      <th>25%</th>\n",
              "      <th>50%</th>\n",
              "      <th>75%</th>\n",
              "      <th>max</th>\n",
              "    </tr>\n",
              "    <tr>\n",
              "      <th>time</th>\n",
              "      <th></th>\n",
              "      <th></th>\n",
              "      <th></th>\n",
              "      <th></th>\n",
              "      <th></th>\n",
              "      <th></th>\n",
              "      <th></th>\n",
              "      <th></th>\n",
              "    </tr>\n",
              "  </thead>\n",
              "  <tbody>\n",
              "    <tr>\n",
              "      <th>Dinner</th>\n",
              "      <td>176.0</td>\n",
              "      <td>3.102670</td>\n",
              "      <td>1.436243</td>\n",
              "      <td>1.00</td>\n",
              "      <td>2.0</td>\n",
              "      <td>3.00</td>\n",
              "      <td>3.6875</td>\n",
              "      <td>10.0</td>\n",
              "    </tr>\n",
              "    <tr>\n",
              "      <th>Lunch</th>\n",
              "      <td>68.0</td>\n",
              "      <td>2.728088</td>\n",
              "      <td>1.205345</td>\n",
              "      <td>1.25</td>\n",
              "      <td>2.0</td>\n",
              "      <td>2.25</td>\n",
              "      <td>3.2875</td>\n",
              "      <td>6.7</td>\n",
              "    </tr>\n",
              "  </tbody>\n",
              "</table>\n",
              "</div>"
            ],
            "text/plain": [
              "        count      mean       std   min  25%   50%     75%   max\n",
              "time                                                            \n",
              "Dinner  176.0  3.102670  1.436243  1.00  2.0  3.00  3.6875  10.0\n",
              "Lunch    68.0  2.728088  1.205345  1.25  2.0  2.25  3.2875   6.7"
            ]
          },
          "metadata": {
            "tags": []
          },
          "execution_count": 163
        }
      ]
    },
    {
      "cell_type": "markdown",
      "metadata": {
        "id": "tzlqq-4LuNZk"
      },
      "source": [
        "### Raggruppamento su valori derivati\n",
        "\n",
        "- Oltre che su una colonna, i gruppi possono essere creati in base a variabili derivate dalle colonne esistenti\n",
        "- Ipotizziamo ad esempio di voler distinguere tra tavoli \"piccoli\" con 4 persone al massimo e tavoli \"grandi\" con più persone\n",
        "- Creiamo una serie booleana che indichi se il tavolo è \"grande\" o meno e la passiamo come argomento a `groupby`"
      ]
    },
    {
      "cell_type": "code",
      "metadata": {
        "id": "WzuOpGgXuNZk"
      },
      "source": [
        "tips_by_large = tips.groupby(tips[\"size\"] > 4)"
      ],
      "execution_count": 164,
      "outputs": []
    },
    {
      "cell_type": "markdown",
      "metadata": {
        "id": "i1ttEdh5uNZk"
      },
      "source": [
        "- Otteniamo quindi una partizione nei gruppi `False` (tavoli piccoli) e `True` (tavoli grandi)"
      ]
    },
    {
      "cell_type": "code",
      "metadata": {
        "id": "p232ROPMuNZk",
        "colab": {
          "base_uri": "https://localhost:8080/"
        },
        "outputId": "b24db9ac-3ec1-44ee-d9df-6b400061f35f"
      },
      "source": [
        "list(tips_by_large.groups.keys())"
      ],
      "execution_count": 165,
      "outputs": [
        {
          "output_type": "execute_result",
          "data": {
            "text/plain": [
              "[False, True]"
            ]
          },
          "metadata": {
            "tags": []
          },
          "execution_count": 165
        }
      ]
    },
    {
      "cell_type": "markdown",
      "metadata": {
        "id": "lQrh5r0guNZl"
      },
      "source": [
        "- Anche in questo caso possiamo calcolare statistiche per gruppo"
      ]
    },
    {
      "cell_type": "code",
      "metadata": {
        "id": "SQWVtpWpuNZl",
        "colab": {
          "base_uri": "https://localhost:8080/",
          "height": 136
        },
        "outputId": "b7f0c524-8217-4f93-8183-77f3c648fbb9"
      },
      "source": [
        "tips_by_large.mean()"
      ],
      "execution_count": 166,
      "outputs": [
        {
          "output_type": "execute_result",
          "data": {
            "text/html": [
              "<div>\n",
              "<style scoped>\n",
              "    .dataframe tbody tr th:only-of-type {\n",
              "        vertical-align: middle;\n",
              "    }\n",
              "\n",
              "    .dataframe tbody tr th {\n",
              "        vertical-align: top;\n",
              "    }\n",
              "\n",
              "    .dataframe thead th {\n",
              "        text-align: right;\n",
              "    }\n",
              "</style>\n",
              "<table border=\"1\" class=\"dataframe\">\n",
              "  <thead>\n",
              "    <tr style=\"text-align: right;\">\n",
              "      <th></th>\n",
              "      <th>total_bill</th>\n",
              "      <th>tip</th>\n",
              "      <th>size</th>\n",
              "    </tr>\n",
              "    <tr>\n",
              "      <th>size</th>\n",
              "      <th></th>\n",
              "      <th></th>\n",
              "      <th></th>\n",
              "    </tr>\n",
              "  </thead>\n",
              "  <tbody>\n",
              "    <tr>\n",
              "      <th>False</th>\n",
              "      <td>19.311106</td>\n",
              "      <td>2.938468</td>\n",
              "      <td>2.459574</td>\n",
              "    </tr>\n",
              "    <tr>\n",
              "      <th>True</th>\n",
              "      <td>32.184444</td>\n",
              "      <td>4.560000</td>\n",
              "      <td>5.444444</td>\n",
              "    </tr>\n",
              "  </tbody>\n",
              "</table>\n",
              "</div>"
            ],
            "text/plain": [
              "       total_bill       tip      size\n",
              "size                                 \n",
              "False   19.311106  2.938468  2.459574\n",
              "True    32.184444  4.560000  5.444444"
            ]
          },
          "metadata": {
            "tags": []
          },
          "execution_count": 166
        }
      ]
    },
    {
      "cell_type": "markdown",
      "metadata": {
        "id": "SCi-HNsyuNZl"
      },
      "source": [
        "- Ovviamente nei tavoli più grandi sia il totale dei conti che le mance sono in media maggiori"
      ]
    },
    {
      "cell_type": "markdown",
      "metadata": {
        "id": "2Tenb-91uNZl"
      },
      "source": [
        "### Chiavi di raggruppamento multiple\n",
        "\n",
        "- Creiamo ora una partizione basata su due diverse colonne categoriche: `time` (pranzo o cena) e `smoker` (fumatori o non)\n",
        "- Passiamo a `groupby` la lista dei nomi delle colonne"
      ]
    },
    {
      "cell_type": "code",
      "metadata": {
        "id": "zoMFFTO6uNZl"
      },
      "source": [
        "tips_by_time_smoker = tips.groupby([\"time\", \"smoker\"])"
      ],
      "execution_count": 167,
      "outputs": []
    },
    {
      "cell_type": "markdown",
      "metadata": {
        "id": "jPKBBouFuNZl"
      },
      "source": [
        "- Abbiamo un totale di 2×2 = 4 gruppi possibili"
      ]
    },
    {
      "cell_type": "code",
      "metadata": {
        "id": "z2aBVK3kuNZl",
        "colab": {
          "base_uri": "https://localhost:8080/"
        },
        "outputId": "1d5bf48d-8513-4887-f234-a8d06dfb4669"
      },
      "source": [
        "list(tips_by_time_smoker.groups.keys())"
      ],
      "execution_count": 168,
      "outputs": [
        {
          "output_type": "execute_result",
          "data": {
            "text/plain": [
              "[('Dinner', 'No'), ('Dinner', 'Yes'), ('Lunch', 'No'), ('Lunch', 'Yes')]"
            ]
          },
          "metadata": {
            "tags": []
          },
          "execution_count": 168
        }
      ]
    },
    {
      "cell_type": "markdown",
      "metadata": {
        "id": "wr9kCJYNuNZm"
      },
      "source": [
        "- Ciascun gruppo è identificato da una tupla di due valori corrispondenti alle due chiavi: ad esempio `('Dinner', 'No')` indica tavoli a cena di non fumatori"
      ]
    },
    {
      "cell_type": "markdown",
      "metadata": {
        "id": "gZTmNqX5uNZm"
      },
      "source": [
        "- Anche in questo caso possiamo calcolare le medie per ciascun gruppo"
      ]
    },
    {
      "cell_type": "code",
      "metadata": {
        "id": "nFlMaUVGuNZm",
        "colab": {
          "base_uri": "https://localhost:8080/",
          "height": 195
        },
        "outputId": "169c2f09-8d01-4e8e-b782-f7059e8d06ef"
      },
      "source": [
        "tips_by_time_smoker.mean()"
      ],
      "execution_count": 169,
      "outputs": [
        {
          "output_type": "execute_result",
          "data": {
            "text/html": [
              "<div>\n",
              "<style scoped>\n",
              "    .dataframe tbody tr th:only-of-type {\n",
              "        vertical-align: middle;\n",
              "    }\n",
              "\n",
              "    .dataframe tbody tr th {\n",
              "        vertical-align: top;\n",
              "    }\n",
              "\n",
              "    .dataframe thead th {\n",
              "        text-align: right;\n",
              "    }\n",
              "</style>\n",
              "<table border=\"1\" class=\"dataframe\">\n",
              "  <thead>\n",
              "    <tr style=\"text-align: right;\">\n",
              "      <th></th>\n",
              "      <th></th>\n",
              "      <th>total_bill</th>\n",
              "      <th>tip</th>\n",
              "      <th>size</th>\n",
              "    </tr>\n",
              "    <tr>\n",
              "      <th>time</th>\n",
              "      <th>smoker</th>\n",
              "      <th></th>\n",
              "      <th></th>\n",
              "      <th></th>\n",
              "    </tr>\n",
              "  </thead>\n",
              "  <tbody>\n",
              "    <tr>\n",
              "      <th rowspan=\"2\" valign=\"top\">Dinner</th>\n",
              "      <th>No</th>\n",
              "      <td>20.095660</td>\n",
              "      <td>3.126887</td>\n",
              "      <td>2.735849</td>\n",
              "    </tr>\n",
              "    <tr>\n",
              "      <th>Yes</th>\n",
              "      <td>21.859429</td>\n",
              "      <td>3.066000</td>\n",
              "      <td>2.471429</td>\n",
              "    </tr>\n",
              "    <tr>\n",
              "      <th rowspan=\"2\" valign=\"top\">Lunch</th>\n",
              "      <th>No</th>\n",
              "      <td>17.050889</td>\n",
              "      <td>2.673778</td>\n",
              "      <td>2.511111</td>\n",
              "    </tr>\n",
              "    <tr>\n",
              "      <th>Yes</th>\n",
              "      <td>17.399130</td>\n",
              "      <td>2.834348</td>\n",
              "      <td>2.217391</td>\n",
              "    </tr>\n",
              "  </tbody>\n",
              "</table>\n",
              "</div>"
            ],
            "text/plain": [
              "               total_bill       tip      size\n",
              "time   smoker                                \n",
              "Dinner No       20.095660  3.126887  2.735849\n",
              "       Yes      21.859429  3.066000  2.471429\n",
              "Lunch  No       17.050889  2.673778  2.511111\n",
              "       Yes      17.399130  2.834348  2.217391"
            ]
          },
          "metadata": {
            "tags": []
          },
          "execution_count": 169
        }
      ]
    },
    {
      "cell_type": "markdown",
      "metadata": {
        "id": "VTaaaxyEuNZm"
      },
      "source": [
        "- Il frame ottenuto mostra un esempio di **indice delle righe a più livelli**: ciascuna riga è etichettata da una tupla di valori piuttosto che da uno come visto finora\n",
        "- In questo esempio i livelli sono due, per cui ogni riga è identificata da una tupla di due elementi\n",
        "- A ogni livello può essere associato un nome: quì i nomi (`time` e `smoker`) sono quelli delle colonne nel frame originale"
      ]
    },
    {
      "cell_type": "markdown",
      "metadata": {
        "id": "1SQu68s-uNZm"
      },
      "source": [
        "- Anche una serie può avere un indice a più livelli\n",
        "- Usiamo ad esempio `size` per ottenere il numero di elementi di ciascun gruppo"
      ]
    },
    {
      "cell_type": "code",
      "metadata": {
        "id": "1LxinTF-uNZm",
        "colab": {
          "base_uri": "https://localhost:8080/"
        },
        "outputId": "440a475d-53bd-4532-aae2-a7aaa61e7ced"
      },
      "source": [
        "tips_by_time_smoker.size()"
      ],
      "execution_count": 170,
      "outputs": [
        {
          "output_type": "execute_result",
          "data": {
            "text/plain": [
              "time    smoker\n",
              "Dinner  No        106\n",
              "        Yes        70\n",
              "Lunch   No         45\n",
              "        Yes        23\n",
              "dtype: int64"
            ]
          },
          "metadata": {
            "tags": []
          },
          "execution_count": 170
        }
      ]
    },
    {
      "cell_type": "markdown",
      "metadata": {
        "id": "_W7AKEJRuNZn"
      },
      "source": [
        "- Abbiamo una serie di 4 valori, ciascuno etichettato da una coppia di elementi"
      ]
    },
    {
      "cell_type": "markdown",
      "metadata": {
        "id": "psQLGCvkuNZn"
      },
      "source": [
        "- Per estrarre un singolo elemento dalla serie (o una singola riga dal DataFrame), specifichiamo l'etichetta in forma di tupla\n",
        "  - nota: le parentesi tonde all'interno delle quadre sono opzionali"
      ]
    },
    {
      "cell_type": "code",
      "metadata": {
        "id": "v60G11ofuNZn",
        "colab": {
          "base_uri": "https://localhost:8080/"
        },
        "outputId": "eb31ceca-5c81-4481-c1ed-4d389b4b41c0"
      },
      "source": [
        "tips_by_time_smoker.size()[(\"Dinner\", \"No\")]"
      ],
      "execution_count": 171,
      "outputs": [
        {
          "output_type": "execute_result",
          "data": {
            "text/plain": [
              "106"
            ]
          },
          "metadata": {
            "tags": []
          },
          "execution_count": 171
        }
      ]
    },
    {
      "cell_type": "markdown",
      "metadata": {
        "id": "LN0O4GnFuNZn"
      },
      "source": [
        "- Possiamo specificare un'etichetta parziale per estrarre una porzione dei dati\n",
        "  - ad esempio indichiamo `\"Dinner\"` per estrarre tutte le righe con etichetta `(\"Dinner\", *)`\n",
        "  - il livello `time` dell'indice sul quale è compiuta la selezione è rimosso dalla selezione, lasciando solo `smoker`"
      ]
    },
    {
      "cell_type": "code",
      "metadata": {
        "id": "qMrTeu5WuNZn",
        "colab": {
          "base_uri": "https://localhost:8080/"
        },
        "outputId": "db9e8445-e2d3-428c-a5e9-914da57acb6b"
      },
      "source": [
        "tips_by_time_smoker.size()[\"Dinner\"]"
      ],
      "execution_count": 172,
      "outputs": [
        {
          "output_type": "execute_result",
          "data": {
            "text/plain": [
              "smoker\n",
              "No     106\n",
              "Yes     70\n",
              "dtype: int64"
            ]
          },
          "metadata": {
            "tags": []
          },
          "execution_count": 172
        }
      ]
    },
    {
      "cell_type": "markdown",
      "metadata": {
        "id": "gNk7qw_4uNZo"
      },
      "source": [
        "### Esercizio 4: `groupby`\n",
        "\n",
        "Ottenere:\n",
        "- **(4a)** una serie col numero di persone medio a tavoli con fumatori e non\n",
        "- **(4b)** un frame col totale e la media delle mance per ciascun giorno della settimana\n",
        "- **(4c)** una serie con la media delle mance ricevute di venerdì (\"Fri\"), suddivise tra pranzo e cena\n",
        "- **(4d)** una serie con la media delle mance ricevute tra tavoli che hanno pagato almeno 20$ e quelli che han pagato di meno"
      ]
    },
    {
      "cell_type": "code",
      "metadata": {
        "colab": {
          "base_uri": "https://localhost:8080/"
        },
        "id": "yQWWiI0iGBRR",
        "outputId": "8685ec31-0e1d-4bb9-8fca-f5a1fbfda3f2"
      },
      "source": [
        "size_by_smoker = tips.groupby(\"smoker\")['size'].mean()\n",
        "size_by_smoker"
      ],
      "execution_count": 184,
      "outputs": [
        {
          "output_type": "execute_result",
          "data": {
            "text/plain": [
              "smoker\n",
              "No     2.668874\n",
              "Yes    2.408602\n",
              "Name: size, dtype: float64"
            ]
          },
          "metadata": {
            "tags": []
          },
          "execution_count": 184
        }
      ]
    },
    {
      "cell_type": "code",
      "metadata": {
        "colab": {
          "base_uri": "https://localhost:8080/",
          "height": 195
        },
        "id": "OYRbillbIoaa",
        "outputId": "dcb50396-fc1a-4cba-882c-251a27ab8e00"
      },
      "source": [
        "tips.groupby(\"day\")['tip'].agg(['sum', 'mean'])"
      ],
      "execution_count": 186,
      "outputs": [
        {
          "output_type": "execute_result",
          "data": {
            "text/html": [
              "<div>\n",
              "<style scoped>\n",
              "    .dataframe tbody tr th:only-of-type {\n",
              "        vertical-align: middle;\n",
              "    }\n",
              "\n",
              "    .dataframe tbody tr th {\n",
              "        vertical-align: top;\n",
              "    }\n",
              "\n",
              "    .dataframe thead th {\n",
              "        text-align: right;\n",
              "    }\n",
              "</style>\n",
              "<table border=\"1\" class=\"dataframe\">\n",
              "  <thead>\n",
              "    <tr style=\"text-align: right;\">\n",
              "      <th></th>\n",
              "      <th>sum</th>\n",
              "      <th>mean</th>\n",
              "    </tr>\n",
              "    <tr>\n",
              "      <th>day</th>\n",
              "      <th></th>\n",
              "      <th></th>\n",
              "    </tr>\n",
              "  </thead>\n",
              "  <tbody>\n",
              "    <tr>\n",
              "      <th>Fri</th>\n",
              "      <td>51.96</td>\n",
              "      <td>2.734737</td>\n",
              "    </tr>\n",
              "    <tr>\n",
              "      <th>Sat</th>\n",
              "      <td>260.40</td>\n",
              "      <td>2.993103</td>\n",
              "    </tr>\n",
              "    <tr>\n",
              "      <th>Sun</th>\n",
              "      <td>247.39</td>\n",
              "      <td>3.255132</td>\n",
              "    </tr>\n",
              "    <tr>\n",
              "      <th>Thur</th>\n",
              "      <td>171.83</td>\n",
              "      <td>2.771452</td>\n",
              "    </tr>\n",
              "  </tbody>\n",
              "</table>\n",
              "</div>"
            ],
            "text/plain": [
              "         sum      mean\n",
              "day                   \n",
              "Fri    51.96  2.734737\n",
              "Sat   260.40  2.993103\n",
              "Sun   247.39  3.255132\n",
              "Thur  171.83  2.771452"
            ]
          },
          "metadata": {
            "tags": []
          },
          "execution_count": 186
        }
      ]
    },
    {
      "cell_type": "code",
      "metadata": {
        "colab": {
          "base_uri": "https://localhost:8080/"
        },
        "id": "THA2AdgBIoTt",
        "outputId": "b7a800f8-fbf9-4002-e9ad-9cbb5f7cd6ef"
      },
      "source": [
        "tips.loc[tips['day']=='Fri'].groupby('time')['tip'].mean()\n",
        "#tips[tips.day==\"Fri\"].groupby(\"time\").tip.mean()"
      ],
      "execution_count": 190,
      "outputs": [
        {
          "output_type": "execute_result",
          "data": {
            "text/plain": [
              "time\n",
              "Dinner    2.940000\n",
              "Lunch     2.382857\n",
              "Name: tip, dtype: float64"
            ]
          },
          "metadata": {
            "tags": []
          },
          "execution_count": 190
        }
      ]
    },
    {
      "cell_type": "code",
      "metadata": {
        "colab": {
          "base_uri": "https://localhost:8080/"
        },
        "id": "ij0tW195Jqpr",
        "outputId": "74158ed5-d93a-4fbe-8466-4d1c055743ec"
      },
      "source": [
        "tips.groupby(tips['total_bill'] >= 20)['tip'].mean()\n",
        "# tips.groupby(tips['total_bill'] >= 20).tip'.mean()"
      ],
      "execution_count": 191,
      "outputs": [
        {
          "output_type": "execute_result",
          "data": {
            "text/plain": [
              "total_bill\n",
              "False    2.383810\n",
              "True     3.929485\n",
              "Name: tip, dtype: float64"
            ]
          },
          "metadata": {
            "tags": []
          },
          "execution_count": 191
        }
      ]
    },
    {
      "cell_type": "markdown",
      "metadata": {
        "id": "2eoLg354uNZo"
      },
      "source": [
        "## Pivoting\n",
        "\n",
        "- Le operazioni di _pivoting_ permettono di riorganizzare i valori contenuti in una serie o DataFrame con indice a più livelli\n",
        "- Un livello presente nell'indice della serie o delle righe del DataFrame può essere spostato nelle colonne o viceversa\n",
        "  - `stack` sposta un livello dalle colonne alle righe, per cui dati che erano affiancati sono messi uno sopra l'altro (\"stacked\")\n",
        "  - `unstack` compie l'operazione inversa, spostando un livello dalle righe alle colonne"
      ]
    },
    {
      "cell_type": "markdown",
      "metadata": {
        "id": "6QC14iYMuNZo"
      },
      "source": [
        "- Ad esempio, presa la serie con indice a due livelli ottenuta sopra..."
      ]
    },
    {
      "cell_type": "code",
      "metadata": {
        "id": "FTg-1kcAuNZo",
        "colab": {
          "base_uri": "https://localhost:8080/"
        },
        "outputId": "082b8916-8dac-4a51-9c4e-b05600765cfa"
      },
      "source": [
        "tips_by_time_smoker.size()"
      ],
      "execution_count": 192,
      "outputs": [
        {
          "output_type": "execute_result",
          "data": {
            "text/plain": [
              "time    smoker\n",
              "Dinner  No        106\n",
              "        Yes        70\n",
              "Lunch   No         45\n",
              "        Yes        23\n",
              "dtype: int64"
            ]
          },
          "metadata": {
            "tags": []
          },
          "execution_count": 192
        }
      ]
    },
    {
      "cell_type": "markdown",
      "metadata": {
        "id": "WekueaRJuNZo"
      },
      "source": [
        "- ...posso usare `unstack` per ottenere un frame dove uno dei due livelli tra `time` e `smoker` rimane come indice delle righe e l'altro diventa indice delle colonne\n",
        "- Ad esempio, imposto `smoker` come indice delle colonne per ottenere una tabella dove ogni riga corrisponde ad un valore di `time` e ogni colonna ad uno di `smoker`\n",
        "- Il frame ha gli stessi dati della serie, ma ridisposti in una tabella"
      ]
    },
    {
      "cell_type": "code",
      "metadata": {
        "id": "8DcVSompuNZo",
        "colab": {
          "base_uri": "https://localhost:8080/",
          "height": 136
        },
        "outputId": "1dc3c2ef-d731-4555-b691-11190a13320e"
      },
      "source": [
        "tips_by_time_smoker.size().unstack(\"smoker\")"
      ],
      "execution_count": 193,
      "outputs": [
        {
          "output_type": "execute_result",
          "data": {
            "text/html": [
              "<div>\n",
              "<style scoped>\n",
              "    .dataframe tbody tr th:only-of-type {\n",
              "        vertical-align: middle;\n",
              "    }\n",
              "\n",
              "    .dataframe tbody tr th {\n",
              "        vertical-align: top;\n",
              "    }\n",
              "\n",
              "    .dataframe thead th {\n",
              "        text-align: right;\n",
              "    }\n",
              "</style>\n",
              "<table border=\"1\" class=\"dataframe\">\n",
              "  <thead>\n",
              "    <tr style=\"text-align: right;\">\n",
              "      <th>smoker</th>\n",
              "      <th>No</th>\n",
              "      <th>Yes</th>\n",
              "    </tr>\n",
              "    <tr>\n",
              "      <th>time</th>\n",
              "      <th></th>\n",
              "      <th></th>\n",
              "    </tr>\n",
              "  </thead>\n",
              "  <tbody>\n",
              "    <tr>\n",
              "      <th>Dinner</th>\n",
              "      <td>106</td>\n",
              "      <td>70</td>\n",
              "    </tr>\n",
              "    <tr>\n",
              "      <th>Lunch</th>\n",
              "      <td>45</td>\n",
              "      <td>23</td>\n",
              "    </tr>\n",
              "  </tbody>\n",
              "</table>\n",
              "</div>"
            ],
            "text/plain": [
              "smoker   No  Yes\n",
              "time            \n",
              "Dinner  106   70\n",
              "Lunch    45   23"
            ]
          },
          "metadata": {
            "tags": []
          },
          "execution_count": 193
        }
      ]
    },
    {
      "cell_type": "markdown",
      "metadata": {
        "id": "siYfY53YuNZp"
      },
      "source": [
        "- Il metodo `unstack` può essere chiamato anche su un DataFrame, introducendo più livelli di colonne\n",
        "- Ad esempio, calcolando le medie per gruppo otteniamo un DataFrame con due livelli di righe (gli stessi della serie sopra) e uno di colonne (le colonne del DataFrame originale)"
      ]
    },
    {
      "cell_type": "code",
      "metadata": {
        "id": "FbGEVCYXuNZp",
        "colab": {
          "base_uri": "https://localhost:8080/",
          "height": 195
        },
        "outputId": "12174318-b872-40e7-c476-fd903cfed01b"
      },
      "source": [
        "tips_by_time_smoker.mean()"
      ],
      "execution_count": 194,
      "outputs": [
        {
          "output_type": "execute_result",
          "data": {
            "text/html": [
              "<div>\n",
              "<style scoped>\n",
              "    .dataframe tbody tr th:only-of-type {\n",
              "        vertical-align: middle;\n",
              "    }\n",
              "\n",
              "    .dataframe tbody tr th {\n",
              "        vertical-align: top;\n",
              "    }\n",
              "\n",
              "    .dataframe thead th {\n",
              "        text-align: right;\n",
              "    }\n",
              "</style>\n",
              "<table border=\"1\" class=\"dataframe\">\n",
              "  <thead>\n",
              "    <tr style=\"text-align: right;\">\n",
              "      <th></th>\n",
              "      <th></th>\n",
              "      <th>total_bill</th>\n",
              "      <th>tip</th>\n",
              "      <th>size</th>\n",
              "    </tr>\n",
              "    <tr>\n",
              "      <th>time</th>\n",
              "      <th>smoker</th>\n",
              "      <th></th>\n",
              "      <th></th>\n",
              "      <th></th>\n",
              "    </tr>\n",
              "  </thead>\n",
              "  <tbody>\n",
              "    <tr>\n",
              "      <th rowspan=\"2\" valign=\"top\">Dinner</th>\n",
              "      <th>No</th>\n",
              "      <td>20.095660</td>\n",
              "      <td>3.126887</td>\n",
              "      <td>2.735849</td>\n",
              "    </tr>\n",
              "    <tr>\n",
              "      <th>Yes</th>\n",
              "      <td>21.859429</td>\n",
              "      <td>3.066000</td>\n",
              "      <td>2.471429</td>\n",
              "    </tr>\n",
              "    <tr>\n",
              "      <th rowspan=\"2\" valign=\"top\">Lunch</th>\n",
              "      <th>No</th>\n",
              "      <td>17.050889</td>\n",
              "      <td>2.673778</td>\n",
              "      <td>2.511111</td>\n",
              "    </tr>\n",
              "    <tr>\n",
              "      <th>Yes</th>\n",
              "      <td>17.399130</td>\n",
              "      <td>2.834348</td>\n",
              "      <td>2.217391</td>\n",
              "    </tr>\n",
              "  </tbody>\n",
              "</table>\n",
              "</div>"
            ],
            "text/plain": [
              "               total_bill       tip      size\n",
              "time   smoker                                \n",
              "Dinner No       20.095660  3.126887  2.735849\n",
              "       Yes      21.859429  3.066000  2.471429\n",
              "Lunch  No       17.050889  2.673778  2.511111\n",
              "       Yes      17.399130  2.834348  2.217391"
            ]
          },
          "metadata": {
            "tags": []
          },
          "execution_count": 194
        }
      ]
    },
    {
      "cell_type": "markdown",
      "metadata": {
        "id": "i36YFVs-uNZp"
      },
      "source": [
        "- Chiamando `unstack` possiamo far diventare ad es. `time` un livello di colonne"
      ]
    },
    {
      "cell_type": "code",
      "metadata": {
        "id": "Qt5nlHs9uNZp",
        "colab": {
          "base_uri": "https://localhost:8080/",
          "height": 166
        },
        "outputId": "b3ef6fc8-d605-4867-b770-3abdbe51b3e5"
      },
      "source": [
        "tips_by_time_smoker.mean().unstack(\"time\")"
      ],
      "execution_count": 195,
      "outputs": [
        {
          "output_type": "execute_result",
          "data": {
            "text/html": [
              "<div>\n",
              "<style scoped>\n",
              "    .dataframe tbody tr th:only-of-type {\n",
              "        vertical-align: middle;\n",
              "    }\n",
              "\n",
              "    .dataframe tbody tr th {\n",
              "        vertical-align: top;\n",
              "    }\n",
              "\n",
              "    .dataframe thead tr th {\n",
              "        text-align: left;\n",
              "    }\n",
              "\n",
              "    .dataframe thead tr:last-of-type th {\n",
              "        text-align: right;\n",
              "    }\n",
              "</style>\n",
              "<table border=\"1\" class=\"dataframe\">\n",
              "  <thead>\n",
              "    <tr>\n",
              "      <th></th>\n",
              "      <th colspan=\"2\" halign=\"left\">total_bill</th>\n",
              "      <th colspan=\"2\" halign=\"left\">tip</th>\n",
              "      <th colspan=\"2\" halign=\"left\">size</th>\n",
              "    </tr>\n",
              "    <tr>\n",
              "      <th>time</th>\n",
              "      <th>Dinner</th>\n",
              "      <th>Lunch</th>\n",
              "      <th>Dinner</th>\n",
              "      <th>Lunch</th>\n",
              "      <th>Dinner</th>\n",
              "      <th>Lunch</th>\n",
              "    </tr>\n",
              "    <tr>\n",
              "      <th>smoker</th>\n",
              "      <th></th>\n",
              "      <th></th>\n",
              "      <th></th>\n",
              "      <th></th>\n",
              "      <th></th>\n",
              "      <th></th>\n",
              "    </tr>\n",
              "  </thead>\n",
              "  <tbody>\n",
              "    <tr>\n",
              "      <th>No</th>\n",
              "      <td>20.095660</td>\n",
              "      <td>17.050889</td>\n",
              "      <td>3.126887</td>\n",
              "      <td>2.673778</td>\n",
              "      <td>2.735849</td>\n",
              "      <td>2.511111</td>\n",
              "    </tr>\n",
              "    <tr>\n",
              "      <th>Yes</th>\n",
              "      <td>21.859429</td>\n",
              "      <td>17.399130</td>\n",
              "      <td>3.066000</td>\n",
              "      <td>2.834348</td>\n",
              "      <td>2.471429</td>\n",
              "      <td>2.217391</td>\n",
              "    </tr>\n",
              "  </tbody>\n",
              "</table>\n",
              "</div>"
            ],
            "text/plain": [
              "       total_bill                  tip                size          \n",
              "time       Dinner      Lunch    Dinner     Lunch    Dinner     Lunch\n",
              "smoker                                                              \n",
              "No      20.095660  17.050889  3.126887  2.673778  2.735849  2.511111\n",
              "Yes     21.859429  17.399130  3.066000  2.834348  2.471429  2.217391"
            ]
          },
          "metadata": {
            "tags": []
          },
          "execution_count": 195
        }
      ]
    },
    {
      "cell_type": "markdown",
      "metadata": {
        "id": "5NTWUU_TuNZp"
      },
      "source": [
        "- Con l'operazione inversa `stack` possiamo spostare un livello di colonne a livello di righe\n",
        "- Ad esempio, sul frame con le medie, spostando l'unico livello di colonne otteniamo una serie con indice a tre livelli\n",
        "  - si noti che il livello delle colonne non ha nome"
      ]
    },
    {
      "cell_type": "code",
      "metadata": {
        "id": "_zxxoTapuNZp",
        "colab": {
          "base_uri": "https://localhost:8080/"
        },
        "outputId": "932f32ef-7f68-4f3f-bca9-8c8c5dcfa1be"
      },
      "source": [
        "tips_by_time_smoker.mean().stack()"
      ],
      "execution_count": 196,
      "outputs": [
        {
          "output_type": "execute_result",
          "data": {
            "text/plain": [
              "time    smoker            \n",
              "Dinner  No      total_bill    20.095660\n",
              "                tip            3.126887\n",
              "                size           2.735849\n",
              "        Yes     total_bill    21.859429\n",
              "                tip            3.066000\n",
              "                size           2.471429\n",
              "Lunch   No      total_bill    17.050889\n",
              "                tip            2.673778\n",
              "                size           2.511111\n",
              "        Yes     total_bill    17.399130\n",
              "                tip            2.834348\n",
              "                size           2.217391\n",
              "dtype: float64"
            ]
          },
          "metadata": {
            "tags": []
          },
          "execution_count": 196
        }
      ]
    },
    {
      "cell_type": "markdown",
      "metadata": {
        "id": "b0iBiC8PuNZq"
      },
      "source": [
        "- Il metodo `pivot_table` permette di creare rapidamente da un frame una tabella di valori aggregati specificando\n",
        "  - le colonne da usare come valori (`values`, default: tutte le colonne numeriche)\n",
        "  - le colonne da usare come livelli di righe (`index`) e di colonne (`columns`)\n",
        "  - una o più funzioni con cui aggregare i dati (`aggfunc`, default: \"mean\", media), sono valide le stesse viste in \"agg\"\n",
        "- Ad esempio, per ottenere la tabella delle medie sopra con `smoker` = No/Yes sulle righe possiamo scrivere:"
      ]
    },
    {
      "cell_type": "code",
      "metadata": {
        "id": "Lb5KKnKUuNZq",
        "colab": {
          "base_uri": "https://localhost:8080/",
          "height": 166
        },
        "outputId": "113e80f4-a927-4dab-f0be-3a75ffcaa20b"
      },
      "source": [
        "tips.pivot_table(index=\"smoker\", columns=\"time\")   # default: aggfunc=\"mean\"\n",
        "# invece di: tips.groupby([\"time\", \"smoker\"]).mean().unstack(\"time\")"
      ],
      "execution_count": 197,
      "outputs": [
        {
          "output_type": "execute_result",
          "data": {
            "text/html": [
              "<div>\n",
              "<style scoped>\n",
              "    .dataframe tbody tr th:only-of-type {\n",
              "        vertical-align: middle;\n",
              "    }\n",
              "\n",
              "    .dataframe tbody tr th {\n",
              "        vertical-align: top;\n",
              "    }\n",
              "\n",
              "    .dataframe thead tr th {\n",
              "        text-align: left;\n",
              "    }\n",
              "\n",
              "    .dataframe thead tr:last-of-type th {\n",
              "        text-align: right;\n",
              "    }\n",
              "</style>\n",
              "<table border=\"1\" class=\"dataframe\">\n",
              "  <thead>\n",
              "    <tr>\n",
              "      <th></th>\n",
              "      <th colspan=\"2\" halign=\"left\">size</th>\n",
              "      <th colspan=\"2\" halign=\"left\">tip</th>\n",
              "      <th colspan=\"2\" halign=\"left\">total_bill</th>\n",
              "    </tr>\n",
              "    <tr>\n",
              "      <th>time</th>\n",
              "      <th>Dinner</th>\n",
              "      <th>Lunch</th>\n",
              "      <th>Dinner</th>\n",
              "      <th>Lunch</th>\n",
              "      <th>Dinner</th>\n",
              "      <th>Lunch</th>\n",
              "    </tr>\n",
              "    <tr>\n",
              "      <th>smoker</th>\n",
              "      <th></th>\n",
              "      <th></th>\n",
              "      <th></th>\n",
              "      <th></th>\n",
              "      <th></th>\n",
              "      <th></th>\n",
              "    </tr>\n",
              "  </thead>\n",
              "  <tbody>\n",
              "    <tr>\n",
              "      <th>No</th>\n",
              "      <td>2.735849</td>\n",
              "      <td>2.511111</td>\n",
              "      <td>3.126887</td>\n",
              "      <td>2.673778</td>\n",
              "      <td>20.095660</td>\n",
              "      <td>17.050889</td>\n",
              "    </tr>\n",
              "    <tr>\n",
              "      <th>Yes</th>\n",
              "      <td>2.471429</td>\n",
              "      <td>2.217391</td>\n",
              "      <td>3.066000</td>\n",
              "      <td>2.834348</td>\n",
              "      <td>21.859429</td>\n",
              "      <td>17.399130</td>\n",
              "    </tr>\n",
              "  </tbody>\n",
              "</table>\n",
              "</div>"
            ],
            "text/plain": [
              "            size                 tip           total_bill           \n",
              "time      Dinner     Lunch    Dinner     Lunch     Dinner      Lunch\n",
              "smoker                                                              \n",
              "No      2.735849  2.511111  3.126887  2.673778  20.095660  17.050889\n",
              "Yes     2.471429  2.217391  3.066000  2.834348  21.859429  17.399130"
            ]
          },
          "metadata": {
            "tags": []
          },
          "execution_count": 197
        }
      ]
    },
    {
      "cell_type": "markdown",
      "metadata": {
        "id": "-DU1n9Y3uNZq"
      },
      "source": [
        "- Possiamo aggiungere l'opzione `margins=True` per visualizzare righe e colonne con aggregazioni parziali e totali\n",
        "  - l'etichetta \"All\" di default può essere cambiata col parametro `margins_name`"
      ]
    },
    {
      "cell_type": "code",
      "metadata": {
        "id": "_qEEQfyBuNZq",
        "colab": {
          "base_uri": "https://localhost:8080/",
          "height": 195
        },
        "outputId": "cea81408-ba22-42b5-b78f-91caaf76fa08"
      },
      "source": [
        "tips.pivot_table(index=\"smoker\", columns=\"time\", margins=True)"
      ],
      "execution_count": 198,
      "outputs": [
        {
          "output_type": "execute_result",
          "data": {
            "text/html": [
              "<div>\n",
              "<style scoped>\n",
              "    .dataframe tbody tr th:only-of-type {\n",
              "        vertical-align: middle;\n",
              "    }\n",
              "\n",
              "    .dataframe tbody tr th {\n",
              "        vertical-align: top;\n",
              "    }\n",
              "\n",
              "    .dataframe thead tr th {\n",
              "        text-align: left;\n",
              "    }\n",
              "\n",
              "    .dataframe thead tr:last-of-type th {\n",
              "        text-align: right;\n",
              "    }\n",
              "</style>\n",
              "<table border=\"1\" class=\"dataframe\">\n",
              "  <thead>\n",
              "    <tr>\n",
              "      <th></th>\n",
              "      <th colspan=\"3\" halign=\"left\">size</th>\n",
              "      <th colspan=\"3\" halign=\"left\">tip</th>\n",
              "      <th colspan=\"3\" halign=\"left\">total_bill</th>\n",
              "    </tr>\n",
              "    <tr>\n",
              "      <th>time</th>\n",
              "      <th>Dinner</th>\n",
              "      <th>Lunch</th>\n",
              "      <th>All</th>\n",
              "      <th>Dinner</th>\n",
              "      <th>Lunch</th>\n",
              "      <th>All</th>\n",
              "      <th>Dinner</th>\n",
              "      <th>Lunch</th>\n",
              "      <th>All</th>\n",
              "    </tr>\n",
              "    <tr>\n",
              "      <th>smoker</th>\n",
              "      <th></th>\n",
              "      <th></th>\n",
              "      <th></th>\n",
              "      <th></th>\n",
              "      <th></th>\n",
              "      <th></th>\n",
              "      <th></th>\n",
              "      <th></th>\n",
              "      <th></th>\n",
              "    </tr>\n",
              "  </thead>\n",
              "  <tbody>\n",
              "    <tr>\n",
              "      <th>No</th>\n",
              "      <td>2.735849</td>\n",
              "      <td>2.511111</td>\n",
              "      <td>2.668874</td>\n",
              "      <td>3.126887</td>\n",
              "      <td>2.673778</td>\n",
              "      <td>2.991854</td>\n",
              "      <td>20.095660</td>\n",
              "      <td>17.050889</td>\n",
              "      <td>19.188278</td>\n",
              "    </tr>\n",
              "    <tr>\n",
              "      <th>Yes</th>\n",
              "      <td>2.471429</td>\n",
              "      <td>2.217391</td>\n",
              "      <td>2.408602</td>\n",
              "      <td>3.066000</td>\n",
              "      <td>2.834348</td>\n",
              "      <td>3.008710</td>\n",
              "      <td>21.859429</td>\n",
              "      <td>17.399130</td>\n",
              "      <td>20.756344</td>\n",
              "    </tr>\n",
              "    <tr>\n",
              "      <th>All</th>\n",
              "      <td>2.630682</td>\n",
              "      <td>2.411765</td>\n",
              "      <td>2.569672</td>\n",
              "      <td>3.102670</td>\n",
              "      <td>2.728088</td>\n",
              "      <td>2.998279</td>\n",
              "      <td>20.797159</td>\n",
              "      <td>17.168676</td>\n",
              "      <td>19.785943</td>\n",
              "    </tr>\n",
              "  </tbody>\n",
              "</table>\n",
              "</div>"
            ],
            "text/plain": [
              "            size                      ... total_bill                      \n",
              "time      Dinner     Lunch       All  ...     Dinner      Lunch        All\n",
              "smoker                                ...                                 \n",
              "No      2.735849  2.511111  2.668874  ...  20.095660  17.050889  19.188278\n",
              "Yes     2.471429  2.217391  2.408602  ...  21.859429  17.399130  20.756344\n",
              "All     2.630682  2.411765  2.569672  ...  20.797159  17.168676  19.785943\n",
              "\n",
              "[3 rows x 9 columns]"
            ]
          },
          "metadata": {
            "tags": []
          },
          "execution_count": 198
        }
      ]
    },
    {
      "cell_type": "markdown",
      "metadata": {
        "id": "ablMN7QsuNZq"
      },
      "source": [
        "- Ad esempio il 3°, 6° e 9° valore dell'ultima riga corrispondono alle medie complessive sulle tre colonne che abbiamo estratto all'inizio con `describe`"
      ]
    },
    {
      "cell_type": "markdown",
      "metadata": {
        "id": "FLDxMEscuNZr"
      },
      "source": [
        "- Altro esempio: una tabella con le medie delle sole mance, raggruppate per giorno (righe) e per distinzione tra tavoli con più di 4 persone e non (colonne)\n",
        "  - col metodo `rename` delle serie è possibile assegnare un nome significativo (\"is_large\") al livello delle colonne"
      ]
    },
    {
      "cell_type": "code",
      "metadata": {
        "id": "vKPn4t1UuNZr",
        "colab": {
          "base_uri": "https://localhost:8080/",
          "height": 195
        },
        "outputId": "4fdd8d15-1145-419f-d1c5-6f6d6dc822c5"
      },
      "source": [
        "tips.pivot_table(values=\"tip\",\n",
        "                 index=\"day\",\n",
        "                 columns=(tips[\"size\"] > 4).rename(\"is_large\"),\n",
        "                 aggfunc=\"mean\")"
      ],
      "execution_count": 199,
      "outputs": [
        {
          "output_type": "execute_result",
          "data": {
            "text/html": [
              "<div>\n",
              "<style scoped>\n",
              "    .dataframe tbody tr th:only-of-type {\n",
              "        vertical-align: middle;\n",
              "    }\n",
              "\n",
              "    .dataframe tbody tr th {\n",
              "        vertical-align: top;\n",
              "    }\n",
              "\n",
              "    .dataframe thead th {\n",
              "        text-align: right;\n",
              "    }\n",
              "</style>\n",
              "<table border=\"1\" class=\"dataframe\">\n",
              "  <thead>\n",
              "    <tr style=\"text-align: right;\">\n",
              "      <th>is_large</th>\n",
              "      <th>False</th>\n",
              "      <th>True</th>\n",
              "    </tr>\n",
              "    <tr>\n",
              "      <th>day</th>\n",
              "      <th></th>\n",
              "      <th></th>\n",
              "    </tr>\n",
              "  </thead>\n",
              "  <tbody>\n",
              "    <tr>\n",
              "      <th>Fri</th>\n",
              "      <td>2.734737</td>\n",
              "      <td>NaN</td>\n",
              "    </tr>\n",
              "    <tr>\n",
              "      <th>Sat</th>\n",
              "      <td>2.993023</td>\n",
              "      <td>3.000</td>\n",
              "    </tr>\n",
              "    <tr>\n",
              "      <th>Sun</th>\n",
              "      <td>3.197917</td>\n",
              "      <td>4.285</td>\n",
              "    </tr>\n",
              "    <tr>\n",
              "      <th>Thur</th>\n",
              "      <td>2.602241</td>\n",
              "      <td>5.225</td>\n",
              "    </tr>\n",
              "  </tbody>\n",
              "</table>\n",
              "</div>"
            ],
            "text/plain": [
              "is_large     False  True \n",
              "day                      \n",
              "Fri       2.734737    NaN\n",
              "Sat       2.993023  3.000\n",
              "Sun       3.197917  4.285\n",
              "Thur      2.602241  5.225"
            ]
          },
          "metadata": {
            "tags": []
          },
          "execution_count": 199
        }
      ]
    },
    {
      "cell_type": "markdown",
      "metadata": {
        "id": "ANKFhCaluNZt"
      },
      "source": [
        "- Nei dati non c'è alcun esempio di tavoli grandi (colonna `True`) di venerdì (riga `Fri`): nella cella corrispondente abbiamo un valore mancante (NaN)\n",
        "  - in `stack`, `unstack` e `pivot_table` si può specificare `fill_value=X` per inserire un valore X (es. 0) al posto dei NaN"
      ]
    },
    {
      "cell_type": "markdown",
      "metadata": {
        "id": "X8zngjyVuNZu"
      },
      "source": [
        "- Altro esempio: una tabella con le medie e deviazioni standard delle mance, raggruppate per giorno e pasto (righe) e presenza o no di fumatori (colonne)"
      ]
    },
    {
      "cell_type": "code",
      "metadata": {
        "id": "hUC0dD9CuNZu",
        "colab": {
          "base_uri": "https://localhost:8080/",
          "height": 284
        },
        "outputId": "d3e77113-a21d-4fb3-ce91-5b1baa8c6056"
      },
      "source": [
        "tips.pivot_table(values=\"tip\",\n",
        "                 index=[\"day\", \"time\"],\n",
        "                 columns=\"smoker\",\n",
        "                 aggfunc=[\"mean\", \"std\"])"
      ],
      "execution_count": 200,
      "outputs": [
        {
          "output_type": "execute_result",
          "data": {
            "text/html": [
              "<div>\n",
              "<style scoped>\n",
              "    .dataframe tbody tr th:only-of-type {\n",
              "        vertical-align: middle;\n",
              "    }\n",
              "\n",
              "    .dataframe tbody tr th {\n",
              "        vertical-align: top;\n",
              "    }\n",
              "\n",
              "    .dataframe thead tr th {\n",
              "        text-align: left;\n",
              "    }\n",
              "\n",
              "    .dataframe thead tr:last-of-type th {\n",
              "        text-align: right;\n",
              "    }\n",
              "</style>\n",
              "<table border=\"1\" class=\"dataframe\">\n",
              "  <thead>\n",
              "    <tr>\n",
              "      <th></th>\n",
              "      <th></th>\n",
              "      <th colspan=\"2\" halign=\"left\">mean</th>\n",
              "      <th colspan=\"2\" halign=\"left\">std</th>\n",
              "    </tr>\n",
              "    <tr>\n",
              "      <th></th>\n",
              "      <th>smoker</th>\n",
              "      <th>No</th>\n",
              "      <th>Yes</th>\n",
              "      <th>No</th>\n",
              "      <th>Yes</th>\n",
              "    </tr>\n",
              "    <tr>\n",
              "      <th>day</th>\n",
              "      <th>time</th>\n",
              "      <th></th>\n",
              "      <th></th>\n",
              "      <th></th>\n",
              "      <th></th>\n",
              "    </tr>\n",
              "  </thead>\n",
              "  <tbody>\n",
              "    <tr>\n",
              "      <th rowspan=\"2\" valign=\"top\">Fri</th>\n",
              "      <th>Dinner</th>\n",
              "      <td>2.750000</td>\n",
              "      <td>3.003333</td>\n",
              "      <td>1.089725</td>\n",
              "      <td>1.234038</td>\n",
              "    </tr>\n",
              "    <tr>\n",
              "      <th>Lunch</th>\n",
              "      <td>3.000000</td>\n",
              "      <td>2.280000</td>\n",
              "      <td>NaN</td>\n",
              "      <td>0.662239</td>\n",
              "    </tr>\n",
              "    <tr>\n",
              "      <th>Sat</th>\n",
              "      <th>Dinner</th>\n",
              "      <td>3.102889</td>\n",
              "      <td>2.875476</td>\n",
              "      <td>1.642088</td>\n",
              "      <td>1.630580</td>\n",
              "    </tr>\n",
              "    <tr>\n",
              "      <th>Sun</th>\n",
              "      <th>Dinner</th>\n",
              "      <td>3.167895</td>\n",
              "      <td>3.516842</td>\n",
              "      <td>1.224785</td>\n",
              "      <td>1.261151</td>\n",
              "    </tr>\n",
              "    <tr>\n",
              "      <th rowspan=\"2\" valign=\"top\">Thur</th>\n",
              "      <th>Dinner</th>\n",
              "      <td>3.000000</td>\n",
              "      <td>NaN</td>\n",
              "      <td>NaN</td>\n",
              "      <td>NaN</td>\n",
              "    </tr>\n",
              "    <tr>\n",
              "      <th>Lunch</th>\n",
              "      <td>2.666364</td>\n",
              "      <td>3.030000</td>\n",
              "      <td>1.296821</td>\n",
              "      <td>1.113491</td>\n",
              "    </tr>\n",
              "  </tbody>\n",
              "</table>\n",
              "</div>"
            ],
            "text/plain": [
              "                 mean                 std          \n",
              "smoker             No       Yes        No       Yes\n",
              "day  time                                          \n",
              "Fri  Dinner  2.750000  3.003333  1.089725  1.234038\n",
              "     Lunch   3.000000  2.280000       NaN  0.662239\n",
              "Sat  Dinner  3.102889  2.875476  1.642088  1.630580\n",
              "Sun  Dinner  3.167895  3.516842  1.224785  1.261151\n",
              "Thur Dinner  3.000000       NaN       NaN       NaN\n",
              "     Lunch   2.666364  3.030000  1.296821  1.113491"
            ]
          },
          "metadata": {
            "tags": []
          },
          "execution_count": 200
        }
      ]
    },
    {
      "cell_type": "markdown",
      "metadata": {
        "id": "HpULiAfBuNZu"
      },
      "source": [
        "- Se in intere righe o colonne risulterebbero valori mancanti, queste sono omesse dal frame (quì ad es. mancano le righe dei pranzi di sabato e domenica)"
      ]
    },
    {
      "cell_type": "markdown",
      "metadata": {
        "id": "HwkofFazuNZv"
      },
      "source": [
        "### Esercizio 5: Pivoting\n",
        "\n",
        "- **(5a)** Ottenere tramite `groupby` un frame col numero di conti per ogni giorno della settimana lungo le righe e ogni pasto lungo le colonne\n",
        "- **(5b)** Ottenere tramite `pivot_table` un frame col totale di mance ottenute per ogni giorno della settimana lungo le righe e ogni pasto lungo le colonne\n",
        "- **(5c)** Dividere i totali dei conti in tre fasce di uguale ampiezza ed ottenere un frame con una riga per ciascuna fascia che riporti la media di totali e mance divise per pranzi e cene"
      ]
    },
    {
      "cell_type": "code",
      "metadata": {
        "colab": {
          "base_uri": "https://localhost:8080/",
          "height": 402
        },
        "id": "oRvch0RpNi8k",
        "outputId": "7e6db410-a6ae-468c-8863-0e3cbc7f0f02"
      },
      "source": [
        "tips"
      ],
      "execution_count": 210,
      "outputs": [
        {
          "output_type": "execute_result",
          "data": {
            "text/html": [
              "<div>\n",
              "<style scoped>\n",
              "    .dataframe tbody tr th:only-of-type {\n",
              "        vertical-align: middle;\n",
              "    }\n",
              "\n",
              "    .dataframe tbody tr th {\n",
              "        vertical-align: top;\n",
              "    }\n",
              "\n",
              "    .dataframe thead th {\n",
              "        text-align: right;\n",
              "    }\n",
              "</style>\n",
              "<table border=\"1\" class=\"dataframe\">\n",
              "  <thead>\n",
              "    <tr style=\"text-align: right;\">\n",
              "      <th></th>\n",
              "      <th>total_bill</th>\n",
              "      <th>tip</th>\n",
              "      <th>sex</th>\n",
              "      <th>smoker</th>\n",
              "      <th>day</th>\n",
              "      <th>time</th>\n",
              "      <th>size</th>\n",
              "    </tr>\n",
              "  </thead>\n",
              "  <tbody>\n",
              "    <tr>\n",
              "      <th>0</th>\n",
              "      <td>16.99</td>\n",
              "      <td>1.01</td>\n",
              "      <td>Female</td>\n",
              "      <td>No</td>\n",
              "      <td>Sun</td>\n",
              "      <td>Dinner</td>\n",
              "      <td>2</td>\n",
              "    </tr>\n",
              "    <tr>\n",
              "      <th>1</th>\n",
              "      <td>10.34</td>\n",
              "      <td>1.66</td>\n",
              "      <td>Male</td>\n",
              "      <td>No</td>\n",
              "      <td>Sun</td>\n",
              "      <td>Dinner</td>\n",
              "      <td>3</td>\n",
              "    </tr>\n",
              "    <tr>\n",
              "      <th>2</th>\n",
              "      <td>21.01</td>\n",
              "      <td>3.50</td>\n",
              "      <td>Male</td>\n",
              "      <td>No</td>\n",
              "      <td>Sun</td>\n",
              "      <td>Dinner</td>\n",
              "      <td>3</td>\n",
              "    </tr>\n",
              "    <tr>\n",
              "      <th>3</th>\n",
              "      <td>23.68</td>\n",
              "      <td>3.31</td>\n",
              "      <td>Male</td>\n",
              "      <td>No</td>\n",
              "      <td>Sun</td>\n",
              "      <td>Dinner</td>\n",
              "      <td>2</td>\n",
              "    </tr>\n",
              "    <tr>\n",
              "      <th>4</th>\n",
              "      <td>24.59</td>\n",
              "      <td>3.61</td>\n",
              "      <td>Female</td>\n",
              "      <td>No</td>\n",
              "      <td>Sun</td>\n",
              "      <td>Dinner</td>\n",
              "      <td>4</td>\n",
              "    </tr>\n",
              "    <tr>\n",
              "      <th>...</th>\n",
              "      <td>...</td>\n",
              "      <td>...</td>\n",
              "      <td>...</td>\n",
              "      <td>...</td>\n",
              "      <td>...</td>\n",
              "      <td>...</td>\n",
              "      <td>...</td>\n",
              "    </tr>\n",
              "    <tr>\n",
              "      <th>239</th>\n",
              "      <td>29.03</td>\n",
              "      <td>5.92</td>\n",
              "      <td>Male</td>\n",
              "      <td>No</td>\n",
              "      <td>Sat</td>\n",
              "      <td>Dinner</td>\n",
              "      <td>3</td>\n",
              "    </tr>\n",
              "    <tr>\n",
              "      <th>240</th>\n",
              "      <td>27.18</td>\n",
              "      <td>2.00</td>\n",
              "      <td>Female</td>\n",
              "      <td>Yes</td>\n",
              "      <td>Sat</td>\n",
              "      <td>Dinner</td>\n",
              "      <td>2</td>\n",
              "    </tr>\n",
              "    <tr>\n",
              "      <th>241</th>\n",
              "      <td>22.67</td>\n",
              "      <td>2.00</td>\n",
              "      <td>Male</td>\n",
              "      <td>Yes</td>\n",
              "      <td>Sat</td>\n",
              "      <td>Dinner</td>\n",
              "      <td>2</td>\n",
              "    </tr>\n",
              "    <tr>\n",
              "      <th>242</th>\n",
              "      <td>17.82</td>\n",
              "      <td>1.75</td>\n",
              "      <td>Male</td>\n",
              "      <td>No</td>\n",
              "      <td>Sat</td>\n",
              "      <td>Dinner</td>\n",
              "      <td>2</td>\n",
              "    </tr>\n",
              "    <tr>\n",
              "      <th>243</th>\n",
              "      <td>18.78</td>\n",
              "      <td>3.00</td>\n",
              "      <td>Female</td>\n",
              "      <td>No</td>\n",
              "      <td>Thur</td>\n",
              "      <td>Dinner</td>\n",
              "      <td>2</td>\n",
              "    </tr>\n",
              "  </tbody>\n",
              "</table>\n",
              "<p>244 rows × 7 columns</p>\n",
              "</div>"
            ],
            "text/plain": [
              "     total_bill   tip     sex smoker   day    time  size\n",
              "0         16.99  1.01  Female     No   Sun  Dinner     2\n",
              "1         10.34  1.66    Male     No   Sun  Dinner     3\n",
              "2         21.01  3.50    Male     No   Sun  Dinner     3\n",
              "3         23.68  3.31    Male     No   Sun  Dinner     2\n",
              "4         24.59  3.61  Female     No   Sun  Dinner     4\n",
              "..          ...   ...     ...    ...   ...     ...   ...\n",
              "239       29.03  5.92    Male     No   Sat  Dinner     3\n",
              "240       27.18  2.00  Female    Yes   Sat  Dinner     2\n",
              "241       22.67  2.00    Male    Yes   Sat  Dinner     2\n",
              "242       17.82  1.75    Male     No   Sat  Dinner     2\n",
              "243       18.78  3.00  Female     No  Thur  Dinner     2\n",
              "\n",
              "[244 rows x 7 columns]"
            ]
          },
          "metadata": {
            "tags": []
          },
          "execution_count": 210
        }
      ]
    },
    {
      "cell_type": "code",
      "metadata": {
        "colab": {
          "base_uri": "https://localhost:8080/",
          "height": 195
        },
        "id": "lsKbcGAcMf8O",
        "outputId": "ecfccc5e-b8d0-4ddb-c840-715d40b574ab"
      },
      "source": [
        "tips.groupby([\"day\", \"time\"]).size().unstack('time')"
      ],
      "execution_count": 223,
      "outputs": [
        {
          "output_type": "execute_result",
          "data": {
            "text/html": [
              "<div>\n",
              "<style scoped>\n",
              "    .dataframe tbody tr th:only-of-type {\n",
              "        vertical-align: middle;\n",
              "    }\n",
              "\n",
              "    .dataframe tbody tr th {\n",
              "        vertical-align: top;\n",
              "    }\n",
              "\n",
              "    .dataframe thead th {\n",
              "        text-align: right;\n",
              "    }\n",
              "</style>\n",
              "<table border=\"1\" class=\"dataframe\">\n",
              "  <thead>\n",
              "    <tr style=\"text-align: right;\">\n",
              "      <th>time</th>\n",
              "      <th>Dinner</th>\n",
              "      <th>Lunch</th>\n",
              "    </tr>\n",
              "    <tr>\n",
              "      <th>day</th>\n",
              "      <th></th>\n",
              "      <th></th>\n",
              "    </tr>\n",
              "  </thead>\n",
              "  <tbody>\n",
              "    <tr>\n",
              "      <th>Fri</th>\n",
              "      <td>12</td>\n",
              "      <td>7</td>\n",
              "    </tr>\n",
              "    <tr>\n",
              "      <th>Sat</th>\n",
              "      <td>87</td>\n",
              "      <td>0</td>\n",
              "    </tr>\n",
              "    <tr>\n",
              "      <th>Sun</th>\n",
              "      <td>76</td>\n",
              "      <td>0</td>\n",
              "    </tr>\n",
              "    <tr>\n",
              "      <th>Thur</th>\n",
              "      <td>1</td>\n",
              "      <td>61</td>\n",
              "    </tr>\n",
              "  </tbody>\n",
              "</table>\n",
              "</div>"
            ],
            "text/plain": [
              "time  Dinner  Lunch\n",
              "day                \n",
              "Fri       12      7\n",
              "Sat       87      0\n",
              "Sun       76      0\n",
              "Thur       1     61"
            ]
          },
          "metadata": {
            "tags": []
          },
          "execution_count": 223
        }
      ]
    },
    {
      "cell_type": "code",
      "metadata": {
        "colab": {
          "base_uri": "https://localhost:8080/",
          "height": 195
        },
        "id": "dgIoJOCxNnov",
        "outputId": "76f6ba87-59fa-41d1-f270-e0cd34270a6a"
      },
      "source": [
        "tips.pivot_table(index=\"day\", columns=\"time\", values=\"tip\", aggfunc='sum', fill_value=0)"
      ],
      "execution_count": 225,
      "outputs": [
        {
          "output_type": "execute_result",
          "data": {
            "text/html": [
              "<div>\n",
              "<style scoped>\n",
              "    .dataframe tbody tr th:only-of-type {\n",
              "        vertical-align: middle;\n",
              "    }\n",
              "\n",
              "    .dataframe tbody tr th {\n",
              "        vertical-align: top;\n",
              "    }\n",
              "\n",
              "    .dataframe thead th {\n",
              "        text-align: right;\n",
              "    }\n",
              "</style>\n",
              "<table border=\"1\" class=\"dataframe\">\n",
              "  <thead>\n",
              "    <tr style=\"text-align: right;\">\n",
              "      <th>time</th>\n",
              "      <th>Dinner</th>\n",
              "      <th>Lunch</th>\n",
              "    </tr>\n",
              "    <tr>\n",
              "      <th>day</th>\n",
              "      <th></th>\n",
              "      <th></th>\n",
              "    </tr>\n",
              "  </thead>\n",
              "  <tbody>\n",
              "    <tr>\n",
              "      <th>Fri</th>\n",
              "      <td>35.28</td>\n",
              "      <td>16.68</td>\n",
              "    </tr>\n",
              "    <tr>\n",
              "      <th>Sat</th>\n",
              "      <td>260.40</td>\n",
              "      <td>0.00</td>\n",
              "    </tr>\n",
              "    <tr>\n",
              "      <th>Sun</th>\n",
              "      <td>247.39</td>\n",
              "      <td>0.00</td>\n",
              "    </tr>\n",
              "    <tr>\n",
              "      <th>Thur</th>\n",
              "      <td>3.00</td>\n",
              "      <td>168.83</td>\n",
              "    </tr>\n",
              "  </tbody>\n",
              "</table>\n",
              "</div>"
            ],
            "text/plain": [
              "time  Dinner   Lunch\n",
              "day                 \n",
              "Fri    35.28   16.68\n",
              "Sat   260.40    0.00\n",
              "Sun   247.39    0.00\n",
              "Thur    3.00  168.83"
            ]
          },
          "metadata": {
            "tags": []
          },
          "execution_count": 225
        }
      ]
    },
    {
      "cell_type": "code",
      "metadata": {
        "colab": {
          "base_uri": "https://localhost:8080/",
          "height": 195
        },
        "id": "3phcfduNPWCY",
        "outputId": "fe79ee55-223d-4145-9a36-55fb3d6d453b"
      },
      "source": [
        "tot_cut = pd.cut(tips.total_bill, 3)\n",
        "tips.pivot_table(index=tot_cut, columns=\"time\", values=['total_bill', 'tip'], aggfunc='mean', fill_value=0)"
      ],
      "execution_count": 232,
      "outputs": [
        {
          "output_type": "execute_result",
          "data": {
            "text/html": [
              "<div>\n",
              "<style scoped>\n",
              "    .dataframe tbody tr th:only-of-type {\n",
              "        vertical-align: middle;\n",
              "    }\n",
              "\n",
              "    .dataframe tbody tr th {\n",
              "        vertical-align: top;\n",
              "    }\n",
              "\n",
              "    .dataframe thead tr th {\n",
              "        text-align: left;\n",
              "    }\n",
              "\n",
              "    .dataframe thead tr:last-of-type th {\n",
              "        text-align: right;\n",
              "    }\n",
              "</style>\n",
              "<table border=\"1\" class=\"dataframe\">\n",
              "  <thead>\n",
              "    <tr>\n",
              "      <th></th>\n",
              "      <th colspan=\"2\" halign=\"left\">tip</th>\n",
              "      <th colspan=\"2\" halign=\"left\">total_bill</th>\n",
              "    </tr>\n",
              "    <tr>\n",
              "      <th>time</th>\n",
              "      <th>Dinner</th>\n",
              "      <th>Lunch</th>\n",
              "      <th>Dinner</th>\n",
              "      <th>Lunch</th>\n",
              "    </tr>\n",
              "    <tr>\n",
              "      <th>total_bill</th>\n",
              "      <th></th>\n",
              "      <th></th>\n",
              "      <th></th>\n",
              "      <th></th>\n",
              "    </tr>\n",
              "  </thead>\n",
              "  <tbody>\n",
              "    <tr>\n",
              "      <th>(3.022, 18.983]</th>\n",
              "      <td>2.413516</td>\n",
              "      <td>2.253265</td>\n",
              "      <td>14.057692</td>\n",
              "      <td>13.351224</td>\n",
              "    </tr>\n",
              "    <tr>\n",
              "      <th>(18.983, 34.897]</th>\n",
              "      <td>3.587746</td>\n",
              "      <td>3.829412</td>\n",
              "      <td>25.208169</td>\n",
              "      <td>25.232941</td>\n",
              "    </tr>\n",
              "    <tr>\n",
              "      <th>(34.897, 50.81]</th>\n",
              "      <td>5.122143</td>\n",
              "      <td>5.000000</td>\n",
              "      <td>42.233571</td>\n",
              "      <td>42.150000</td>\n",
              "    </tr>\n",
              "  </tbody>\n",
              "</table>\n",
              "</div>"
            ],
            "text/plain": [
              "                       tip           total_bill           \n",
              "time                Dinner     Lunch     Dinner      Lunch\n",
              "total_bill                                                \n",
              "(3.022, 18.983]   2.413516  2.253265  14.057692  13.351224\n",
              "(18.983, 34.897]  3.587746  3.829412  25.208169  25.232941\n",
              "(34.897, 50.81]   5.122143  5.000000  42.233571  42.150000"
            ]
          },
          "metadata": {
            "tags": []
          },
          "execution_count": 232
        }
      ]
    }
  ]
}